{
  "nbformat": 4,
  "nbformat_minor": 0,
  "metadata": {
    "kernelspec": {
      "name": "python3",
      "display_name": "Python 3"
    },
    "language_info": {
      "codemirror_mode": {
        "name": "ipython",
        "version": 3
      },
      "file_extension": ".py",
      "mimetype": "text/x-python",
      "name": "python",
      "nbconvert_exporter": "python",
      "pygments_lexer": "ipython3",
      "version": "3.6.5"
    },
    "colab": {
      "provenance": [],
      "include_colab_link": true
    },
    "accelerator": "GPU"
  },
  "cells": [
    {
      "cell_type": "markdown",
      "metadata": {
        "id": "view-in-github",
        "colab_type": "text"
      },
      "source": [
        "<a href=\"https://colab.research.google.com/github/manola1109/CNN-and-Hyperparameter-Tuning-in-Keras/blob/main/CNN_and_Hyperparameter_Tuning_in_Keras.ipynb\" target=\"_parent\"><img src=\"https://colab.research.google.com/assets/colab-badge.svg\" alt=\"Open In Colab\"/></a>"
      ]
    },
    {
      "cell_type": "code",
      "metadata": {
        "id": "-JkenOoojxcW"
      },
      "source": [
        "%tensorflow_version 1.x"
      ],
      "execution_count": null,
      "outputs": []
    },
    {
      "cell_type": "markdown",
      "metadata": {
        "id": "IxgcP-B3ejGc"
      },
      "source": [
        "# Steps to build CNN to solve Emergency vs Non-Emergency vehicle classification problem\n",
        "\n",
        "1. Loading the Dataset\n",
        "2. Pre-processing the Data\n",
        "3. Creating Training and Validation set\n",
        "4. Defining the Model Architecture\n",
        "5. Compiling the Model\n",
        "6. Training the Model\n",
        "7. Evaluating model performance"
      ]
    },
    {
      "cell_type": "markdown",
      "metadata": {
        "id": "hNWck_ZahKLA"
      },
      "source": [
        "## 1. Loading the Dataset"
      ]
    },
    {
      "cell_type": "code",
      "metadata": {
        "id": "Kf2C4oSfhKLH"
      },
      "source": [
        "# import necessary libraries and functions\n",
        "import numpy as np\n",
        "import pandas as pd\n",
        "import matplotlib.pyplot as plt\n",
        "%matplotlib inline\n",
        "\n",
        "# importing layers from keras\n",
        "from keras.layers import Dense, InputLayer, BatchNormalization, Dropout\n",
        "from keras.models import Sequential\n",
        "# importing adam optimizer from keras optimizer module\n",
        "from keras.optimizers import Adam\n",
        "\n",
        "# train_test_split to create training and validation set\n",
        "from sklearn.model_selection import train_test_split\n",
        "# accuracy_score to calculate the accuracy of predictions\n",
        "from sklearn.metrics import accuracy_score"
      ],
      "execution_count": 1,
      "outputs": []
    },
    {
      "cell_type": "code",
      "metadata": {
        "id": "x_VY_HZ5hm-z",
        "outputId": "cd80fd21-cef9-4208-ba05-a59b7ec4dcb1",
        "colab": {
          "base_uri": "https://localhost:8080/"
        }
      },
      "source": [
        "from google.colab import drive\n",
        "drive.mount('/content/drive')"
      ],
      "execution_count": 2,
      "outputs": [
        {
          "output_type": "stream",
          "name": "stdout",
          "text": [
            "Mounted at /content/drive\n"
          ]
        }
      ]
    },
    {
      "cell_type": "code",
      "metadata": {
        "id": "1bb6wmB1hmvk",
        "colab": {
          "base_uri": "https://localhost:8080/"
        },
        "outputId": "66c37615-b752-431e-8982-9e30fcf175cb"
      },
      "source": [
        "# unzipping the Dataset.zip file\n",
        "!unzip /content/drive/My\\ Drive/Dataset.zip"
      ],
      "execution_count": 3,
      "outputs": [
        {
          "output_type": "stream",
          "name": "stdout",
          "text": [
            "Archive:  /content/drive/My Drive/Dataset.zip\n",
            "   creating: Dataset/\n",
            "  inflating: Dataset/emergency_classification.csv  \n",
            "   creating: Dataset/images/\n",
            "  inflating: Dataset/images/0.jpg    \n",
            "  inflating: Dataset/images/10.jpg   \n",
            "  inflating: Dataset/images/1002.jpg  \n",
            "  inflating: Dataset/images/1006.jpg  \n",
            "  inflating: Dataset/images/1007.jpg  \n",
            "  inflating: Dataset/images/1009.jpg  \n",
            "  inflating: Dataset/images/1013.jpg  \n",
            "  inflating: Dataset/images/1014.jpg  \n",
            "  inflating: Dataset/images/1016.jpg  \n",
            "  inflating: Dataset/images/1019.jpg  \n",
            "  inflating: Dataset/images/102.jpg  \n",
            "  inflating: Dataset/images/1020.jpg  \n",
            "  inflating: Dataset/images/1022.jpg  \n",
            "  inflating: Dataset/images/1023.jpg  \n",
            "  inflating: Dataset/images/1026.jpg  \n",
            "  inflating: Dataset/images/1031.jpg  \n",
            "  inflating: Dataset/images/1035.jpg  \n",
            "  inflating: Dataset/images/1036.jpg  \n",
            "  inflating: Dataset/images/1037.jpg  \n",
            "  inflating: Dataset/images/104.jpg  \n",
            "  inflating: Dataset/images/1040.jpg  \n",
            "  inflating: Dataset/images/1041.jpg  \n",
            "  inflating: Dataset/images/1046.jpg  \n",
            "  inflating: Dataset/images/1047.jpg  \n",
            "  inflating: Dataset/images/1048.jpg  \n",
            "  inflating: Dataset/images/1050.jpg  \n",
            "  inflating: Dataset/images/1052.jpg  \n",
            "  inflating: Dataset/images/1054.jpg  \n",
            "  inflating: Dataset/images/1056.jpg  \n",
            "  inflating: Dataset/images/106.jpg  \n",
            "  inflating: Dataset/images/1060.jpg  \n",
            "  inflating: Dataset/images/1062.jpg  \n",
            "  inflating: Dataset/images/1064.jpg  \n",
            "  inflating: Dataset/images/1066.jpg  \n",
            "  inflating: Dataset/images/1067.jpg  \n",
            "  inflating: Dataset/images/1070.jpg  \n",
            "  inflating: Dataset/images/1074.jpg  \n",
            "  inflating: Dataset/images/1075.jpg  \n",
            "  inflating: Dataset/images/1076.jpg  \n",
            "  inflating: Dataset/images/1079.jpg  \n",
            "  inflating: Dataset/images/108.jpg  \n",
            "  inflating: Dataset/images/1081.jpg  \n",
            "  inflating: Dataset/images/1083.jpg  \n",
            "  inflating: Dataset/images/109.jpg  \n",
            "  inflating: Dataset/images/1090.jpg  \n",
            "  inflating: Dataset/images/1093.jpg  \n",
            "  inflating: Dataset/images/1096.jpg  \n",
            "  inflating: Dataset/images/1097.jpg  \n",
            "  inflating: Dataset/images/1101.jpg  \n",
            "  inflating: Dataset/images/1103.jpg  \n",
            "  inflating: Dataset/images/1105.jpg  \n",
            "  inflating: Dataset/images/1106.jpg  \n",
            "  inflating: Dataset/images/1108.jpg  \n",
            "  inflating: Dataset/images/1112.jpg  \n",
            "  inflating: Dataset/images/1113.jpg  \n",
            "  inflating: Dataset/images/1116.jpg  \n",
            "  inflating: Dataset/images/1117.jpg  \n",
            "  inflating: Dataset/images/1118.jpg  \n",
            "  inflating: Dataset/images/1120.jpg  \n",
            "  inflating: Dataset/images/1121.jpg  \n",
            "  inflating: Dataset/images/1123.jpg  \n",
            "  inflating: Dataset/images/1128.jpg  \n",
            "  inflating: Dataset/images/113.jpg  \n",
            "  inflating: Dataset/images/1135.jpg  \n",
            "  inflating: Dataset/images/1136.jpg  \n",
            "  inflating: Dataset/images/1138.jpg  \n",
            "  inflating: Dataset/images/1142.jpg  \n",
            "  inflating: Dataset/images/1143.jpg  \n",
            "  inflating: Dataset/images/1144.jpg  \n",
            "  inflating: Dataset/images/1145.jpg  \n",
            "  inflating: Dataset/images/1146.jpg  \n",
            "  inflating: Dataset/images/1149.jpg  \n",
            "  inflating: Dataset/images/1150.jpg  \n",
            "  inflating: Dataset/images/1151.jpg  \n",
            "  inflating: Dataset/images/1154.jpg  \n",
            "  inflating: Dataset/images/1155.jpg  \n",
            "  inflating: Dataset/images/1156.jpg  \n",
            "  inflating: Dataset/images/1158.jpg  \n",
            "  inflating: Dataset/images/1162.jpg  \n",
            "  inflating: Dataset/images/1164.jpg  \n",
            "  inflating: Dataset/images/1165.jpg  \n",
            "  inflating: Dataset/images/1169.jpg  \n",
            "  inflating: Dataset/images/117.jpg  \n",
            "  inflating: Dataset/images/1171.jpg  \n",
            "  inflating: Dataset/images/1173.jpg  \n",
            "  inflating: Dataset/images/1174.jpg  \n",
            "  inflating: Dataset/images/1177.jpg  \n",
            "  inflating: Dataset/images/1180.jpg  \n",
            "  inflating: Dataset/images/1181.jpg  \n",
            "  inflating: Dataset/images/1183.jpg  \n",
            "  inflating: Dataset/images/1185.jpg  \n",
            "  inflating: Dataset/images/1186.jpg  \n",
            "  inflating: Dataset/images/119.jpg  \n",
            "  inflating: Dataset/images/1191.jpg  \n",
            "  inflating: Dataset/images/1192.jpg  \n",
            "  inflating: Dataset/images/1194.jpg  \n",
            "  inflating: Dataset/images/1195.jpg  \n",
            "  inflating: Dataset/images/1197.jpg  \n",
            "  inflating: Dataset/images/120.jpg  \n",
            "  inflating: Dataset/images/1203.jpg  \n",
            "  inflating: Dataset/images/1206.jpg  \n",
            "  inflating: Dataset/images/1208.jpg  \n",
            "  inflating: Dataset/images/1211.jpg  \n",
            "  inflating: Dataset/images/1214.jpg  \n",
            "  inflating: Dataset/images/1215.jpg  \n",
            "  inflating: Dataset/images/1216.jpg  \n",
            "  inflating: Dataset/images/1217.jpg  \n",
            "  inflating: Dataset/images/1222.jpg  \n",
            "  inflating: Dataset/images/1226.jpg  \n",
            "  inflating: Dataset/images/1228.jpg  \n",
            "  inflating: Dataset/images/123.jpg  \n",
            "  inflating: Dataset/images/1231.jpg  \n",
            "  inflating: Dataset/images/1232.jpg  \n",
            "  inflating: Dataset/images/1233.jpg  \n",
            "  inflating: Dataset/images/1235.jpg  \n",
            "  inflating: Dataset/images/1237.jpg  \n",
            "  inflating: Dataset/images/124.jpg  \n",
            "  inflating: Dataset/images/1242.jpg  \n",
            "  inflating: Dataset/images/1243.jpg  \n",
            "  inflating: Dataset/images/1245.jpg  \n",
            "  inflating: Dataset/images/1247.jpg  \n",
            "  inflating: Dataset/images/1249.jpg  \n",
            "  inflating: Dataset/images/125.jpg  \n",
            "  inflating: Dataset/images/1255.jpg  \n",
            "  inflating: Dataset/images/1256.jpg  \n",
            "  inflating: Dataset/images/1259.jpg  \n",
            "  inflating: Dataset/images/1260.jpg  \n",
            "  inflating: Dataset/images/1265.jpg  \n",
            "  inflating: Dataset/images/1266.jpg  \n",
            "  inflating: Dataset/images/1269.jpg  \n",
            "  inflating: Dataset/images/127.jpg  \n",
            "  inflating: Dataset/images/1271.jpg  \n",
            "  inflating: Dataset/images/1272.jpg  \n",
            "  inflating: Dataset/images/1275.jpg  \n",
            "  inflating: Dataset/images/1279.jpg  \n",
            "  inflating: Dataset/images/1281.jpg  \n",
            "  inflating: Dataset/images/1284.jpg  \n",
            "  inflating: Dataset/images/1286.jpg  \n",
            "  inflating: Dataset/images/1288.jpg  \n",
            "  inflating: Dataset/images/129.jpg  \n",
            "  inflating: Dataset/images/1291.jpg  \n",
            "  inflating: Dataset/images/1296.jpg  \n",
            "  inflating: Dataset/images/1297.jpg  \n",
            "  inflating: Dataset/images/1299.jpg  \n",
            "  inflating: Dataset/images/13.jpg   \n",
            "  inflating: Dataset/images/1302.jpg  \n",
            "  inflating: Dataset/images/1304.jpg  \n",
            "  inflating: Dataset/images/1305.jpg  \n",
            "  inflating: Dataset/images/1314.jpg  \n",
            "  inflating: Dataset/images/1315.jpg  \n",
            "  inflating: Dataset/images/1316.jpg  \n",
            "  inflating: Dataset/images/1320.jpg  \n",
            "  inflating: Dataset/images/1321.jpg  \n",
            "  inflating: Dataset/images/1324.jpg  \n",
            "  inflating: Dataset/images/1326.jpg  \n",
            "  inflating: Dataset/images/1327.jpg  \n",
            "  inflating: Dataset/images/1335.jpg  \n",
            "  inflating: Dataset/images/1338.jpg  \n",
            "  inflating: Dataset/images/1341.jpg  \n",
            "  inflating: Dataset/images/1342.jpg  \n",
            "  inflating: Dataset/images/1344.jpg  \n",
            "  inflating: Dataset/images/1349.jpg  \n",
            "  inflating: Dataset/images/1356.jpg  \n",
            "  inflating: Dataset/images/1357.jpg  \n",
            "  inflating: Dataset/images/1361.jpg  \n",
            "  inflating: Dataset/images/1362.jpg  \n",
            "  inflating: Dataset/images/1363.jpg  \n",
            "  inflating: Dataset/images/1364.jpg  \n",
            "  inflating: Dataset/images/1365.jpg  \n",
            "  inflating: Dataset/images/1367.jpg  \n",
            "  inflating: Dataset/images/1368.jpg  \n",
            "  inflating: Dataset/images/1369.jpg  \n",
            "  inflating: Dataset/images/137.jpg  \n",
            "  inflating: Dataset/images/1370.jpg  \n",
            "  inflating: Dataset/images/1371.jpg  \n",
            "  inflating: Dataset/images/1374.jpg  \n",
            "  inflating: Dataset/images/1377.jpg  \n",
            "  inflating: Dataset/images/1378.jpg  \n",
            "  inflating: Dataset/images/1381.jpg  \n",
            "  inflating: Dataset/images/1382.jpg  \n",
            "  inflating: Dataset/images/1387.jpg  \n",
            "  inflating: Dataset/images/1388.jpg  \n",
            "  inflating: Dataset/images/1393.jpg  \n",
            "  inflating: Dataset/images/1395.jpg  \n",
            "  inflating: Dataset/images/1397.jpg  \n",
            "  inflating: Dataset/images/1399.jpg  \n",
            "  inflating: Dataset/images/140.jpg  \n",
            "  inflating: Dataset/images/1400.jpg  \n",
            "  inflating: Dataset/images/1402.jpg  \n",
            "  inflating: Dataset/images/1404.jpg  \n",
            "  inflating: Dataset/images/1405.jpg  \n",
            "  inflating: Dataset/images/1413.jpg  \n",
            "  inflating: Dataset/images/1414.jpg  \n",
            "  inflating: Dataset/images/1416.jpg  \n",
            "  inflating: Dataset/images/1417.jpg  \n",
            "  inflating: Dataset/images/1418.jpg  \n",
            "  inflating: Dataset/images/1422.jpg  \n",
            "  inflating: Dataset/images/1423.jpg  \n",
            "  inflating: Dataset/images/1424.jpg  \n",
            "  inflating: Dataset/images/1425.jpg  \n",
            "  inflating: Dataset/images/1427.jpg  \n",
            "  inflating: Dataset/images/1428.jpg  \n",
            "  inflating: Dataset/images/1431.jpg  \n",
            "  inflating: Dataset/images/1432.jpg  \n",
            "  inflating: Dataset/images/1433.jpg  \n",
            "  inflating: Dataset/images/1435.jpg  \n",
            "  inflating: Dataset/images/1437.jpg  \n",
            "  inflating: Dataset/images/1439.jpg  \n",
            "  inflating: Dataset/images/144.jpg  \n",
            "  inflating: Dataset/images/1440.jpg  \n",
            "  inflating: Dataset/images/1447.jpg  \n",
            "  inflating: Dataset/images/1448.jpg  \n",
            "  inflating: Dataset/images/1454.jpg  \n",
            "  inflating: Dataset/images/1455.jpg  \n",
            "  inflating: Dataset/images/1456.jpg  \n",
            "  inflating: Dataset/images/1459.jpg  \n",
            "  inflating: Dataset/images/146.jpg  \n",
            "  inflating: Dataset/images/1460.jpg  \n",
            "  inflating: Dataset/images/1462.jpg  \n",
            "  inflating: Dataset/images/1466.jpg  \n",
            "  inflating: Dataset/images/1468.jpg  \n",
            "  inflating: Dataset/images/147.jpg  \n",
            "  inflating: Dataset/images/1470.jpg  \n",
            "  inflating: Dataset/images/1474.jpg  \n",
            "  inflating: Dataset/images/1475.jpg  \n",
            "  inflating: Dataset/images/1476.jpg  \n",
            "  inflating: Dataset/images/148.jpg  \n",
            "  inflating: Dataset/images/1482.jpg  \n",
            "  inflating: Dataset/images/1484.jpg  \n",
            "  inflating: Dataset/images/1485.jpg  \n",
            "  inflating: Dataset/images/1488.jpg  \n",
            "  inflating: Dataset/images/149.jpg  \n",
            "  inflating: Dataset/images/1493.jpg  \n",
            "  inflating: Dataset/images/1495.jpg  \n",
            "  inflating: Dataset/images/1498.jpg  \n",
            "  inflating: Dataset/images/15.jpg   \n",
            "  inflating: Dataset/images/150.jpg  \n",
            "  inflating: Dataset/images/1500.jpg  \n",
            "  inflating: Dataset/images/1501.jpg  \n",
            "  inflating: Dataset/images/1504.jpg  \n",
            "  inflating: Dataset/images/1505.jpg  \n",
            "  inflating: Dataset/images/1507.jpg  \n",
            "  inflating: Dataset/images/1512.jpg  \n",
            "  inflating: Dataset/images/1513.jpg  \n",
            "  inflating: Dataset/images/1515.jpg  \n",
            "  inflating: Dataset/images/1516.jpg  \n",
            "  inflating: Dataset/images/1521.jpg  \n",
            "  inflating: Dataset/images/1524.jpg  \n",
            "  inflating: Dataset/images/1526.jpg  \n",
            "  inflating: Dataset/images/1534.jpg  \n",
            "  inflating: Dataset/images/1537.jpg  \n",
            "  inflating: Dataset/images/1539.jpg  \n",
            "  inflating: Dataset/images/154.jpg  \n",
            "  inflating: Dataset/images/1547.jpg  \n",
            "  inflating: Dataset/images/1548.jpg  \n",
            "  inflating: Dataset/images/1549.jpg  \n",
            "  inflating: Dataset/images/1552.jpg  \n",
            "  inflating: Dataset/images/1559.jpg  \n",
            "  inflating: Dataset/images/1560.jpg  \n",
            "  inflating: Dataset/images/1563.jpg  \n",
            "  inflating: Dataset/images/1564.jpg  \n",
            "  inflating: Dataset/images/1565.jpg  \n",
            "  inflating: Dataset/images/157.jpg  \n",
            "  inflating: Dataset/images/1570.jpg  \n",
            "  inflating: Dataset/images/1571.jpg  \n",
            "  inflating: Dataset/images/1574.jpg  \n",
            "  inflating: Dataset/images/1576.jpg  \n",
            "  inflating: Dataset/images/1578.jpg  \n",
            "  inflating: Dataset/images/1582.jpg  \n",
            "  inflating: Dataset/images/1586.jpg  \n",
            "  inflating: Dataset/images/1589.jpg  \n",
            "  inflating: Dataset/images/159.jpg  \n",
            "  inflating: Dataset/images/1590.jpg  \n",
            "  inflating: Dataset/images/1595.jpg  \n",
            "  inflating: Dataset/images/1598.jpg  \n",
            "  inflating: Dataset/images/1599.jpg  \n",
            "  inflating: Dataset/images/16.jpg   \n",
            "  inflating: Dataset/images/1601.jpg  \n",
            "  inflating: Dataset/images/1603.jpg  \n",
            "  inflating: Dataset/images/1604.jpg  \n",
            "  inflating: Dataset/images/1605.jpg  \n",
            "  inflating: Dataset/images/1607.jpg  \n",
            "  inflating: Dataset/images/1609.jpg  \n",
            "  inflating: Dataset/images/161.jpg  \n",
            "  inflating: Dataset/images/1610.jpg  \n",
            "  inflating: Dataset/images/1612.jpg  \n",
            "  inflating: Dataset/images/1613.jpg  \n",
            "  inflating: Dataset/images/1614.jpg  \n",
            "  inflating: Dataset/images/1615.jpg  \n",
            "  inflating: Dataset/images/1619.jpg  \n",
            "  inflating: Dataset/images/162.jpg  \n",
            "  inflating: Dataset/images/1620.jpg  \n",
            "  inflating: Dataset/images/1626.jpg  \n",
            "  inflating: Dataset/images/1628.jpg  \n",
            "  inflating: Dataset/images/1629.jpg  \n",
            "  inflating: Dataset/images/163.jpg  \n",
            "  inflating: Dataset/images/1634.jpg  \n",
            "  inflating: Dataset/images/1635.jpg  \n",
            "  inflating: Dataset/images/1639.jpg  \n",
            "  inflating: Dataset/images/1640.jpg  \n",
            "  inflating: Dataset/images/1643.jpg  \n",
            "  inflating: Dataset/images/1652.jpg  \n",
            "  inflating: Dataset/images/1655.jpg  \n",
            "  inflating: Dataset/images/1657.jpg  \n",
            "  inflating: Dataset/images/1658.jpg  \n",
            "  inflating: Dataset/images/166.jpg  \n",
            "  inflating: Dataset/images/1661.jpg  \n",
            "  inflating: Dataset/images/1662.jpg  \n",
            "  inflating: Dataset/images/1664.jpg  \n",
            "  inflating: Dataset/images/1666.jpg  \n",
            "  inflating: Dataset/images/1669.jpg  \n",
            "  inflating: Dataset/images/167.jpg  \n",
            "  inflating: Dataset/images/1671.jpg  \n",
            "  inflating: Dataset/images/1673.jpg  \n",
            "  inflating: Dataset/images/1675.jpg  \n",
            "  inflating: Dataset/images/1677.jpg  \n",
            "  inflating: Dataset/images/1679.jpg  \n",
            "  inflating: Dataset/images/1683.jpg  \n",
            "  inflating: Dataset/images/1686.jpg  \n",
            "  inflating: Dataset/images/1688.jpg  \n",
            "  inflating: Dataset/images/1689.jpg  \n",
            "  inflating: Dataset/images/169.jpg  \n",
            "  inflating: Dataset/images/1690.jpg  \n",
            "  inflating: Dataset/images/1692.jpg  \n",
            "  inflating: Dataset/images/1693.jpg  \n",
            "  inflating: Dataset/images/1694.jpg  \n",
            "  inflating: Dataset/images/1695.jpg  \n",
            "  inflating: Dataset/images/1696.jpg  \n",
            "  inflating: Dataset/images/1699.jpg  \n",
            "  inflating: Dataset/images/17.jpg   \n",
            "  inflating: Dataset/images/1700.jpg  \n",
            "  inflating: Dataset/images/1701.jpg  \n",
            "  inflating: Dataset/images/1702.jpg  \n",
            "  inflating: Dataset/images/1711.jpg  \n",
            "  inflating: Dataset/images/1712.jpg  \n",
            "  inflating: Dataset/images/1714.jpg  \n",
            "  inflating: Dataset/images/1715.jpg  \n",
            "  inflating: Dataset/images/1717.jpg  \n",
            "  inflating: Dataset/images/172.jpg  \n",
            "  inflating: Dataset/images/1722.jpg  \n",
            "  inflating: Dataset/images/1723.jpg  \n",
            "  inflating: Dataset/images/1724.jpg  \n",
            "  inflating: Dataset/images/1726.jpg  \n",
            "  inflating: Dataset/images/1727.jpg  \n",
            "  inflating: Dataset/images/1731.jpg  \n",
            "  inflating: Dataset/images/1732.jpg  \n",
            "  inflating: Dataset/images/1734.jpg  \n",
            "  inflating: Dataset/images/1738.jpg  \n",
            "  inflating: Dataset/images/1739.jpg  \n",
            "  inflating: Dataset/images/1740.jpg  \n",
            "  inflating: Dataset/images/1741.jpg  \n",
            "  inflating: Dataset/images/1743.jpg  \n",
            "  inflating: Dataset/images/1744.jpg  \n",
            "  inflating: Dataset/images/1746.jpg  \n",
            "  inflating: Dataset/images/1748.jpg  \n",
            "  inflating: Dataset/images/1750.jpg  \n",
            "  inflating: Dataset/images/1751.jpg  \n",
            "  inflating: Dataset/images/1756.jpg  \n",
            "  inflating: Dataset/images/1757.jpg  \n",
            "  inflating: Dataset/images/1758.jpg  \n",
            "  inflating: Dataset/images/1762.jpg  \n",
            "  inflating: Dataset/images/1763.jpg  \n",
            "  inflating: Dataset/images/1769.jpg  \n",
            "  inflating: Dataset/images/1771.jpg  \n",
            "  inflating: Dataset/images/1776.jpg  \n",
            "  inflating: Dataset/images/1777.jpg  \n",
            "  inflating: Dataset/images/1778.jpg  \n",
            "  inflating: Dataset/images/1779.jpg  \n",
            "  inflating: Dataset/images/1780.jpg  \n",
            "  inflating: Dataset/images/1782.jpg  \n",
            "  inflating: Dataset/images/1783.jpg  \n",
            "  inflating: Dataset/images/1784.jpg  \n",
            "  inflating: Dataset/images/1787.jpg  \n",
            "  inflating: Dataset/images/1788.jpg  \n",
            "  inflating: Dataset/images/1791.jpg  \n",
            "  inflating: Dataset/images/1795.jpg  \n",
            "  inflating: Dataset/images/1796.jpg  \n",
            "  inflating: Dataset/images/1797.jpg  \n",
            "  inflating: Dataset/images/1804.jpg  \n",
            "  inflating: Dataset/images/1807.jpg  \n",
            "  inflating: Dataset/images/1811.jpg  \n",
            "  inflating: Dataset/images/1812.jpg  \n",
            "  inflating: Dataset/images/1815.jpg  \n",
            "  inflating: Dataset/images/1817.jpg  \n",
            "  inflating: Dataset/images/1818.jpg  \n",
            "  inflating: Dataset/images/182.jpg  \n",
            "  inflating: Dataset/images/1820.jpg  \n",
            "  inflating: Dataset/images/1821.jpg  \n",
            "  inflating: Dataset/images/1822.jpg  \n",
            "  inflating: Dataset/images/1825.jpg  \n",
            "  inflating: Dataset/images/1829.jpg  \n",
            "  inflating: Dataset/images/183.jpg  \n",
            "  inflating: Dataset/images/1831.jpg  \n",
            "  inflating: Dataset/images/1833.jpg  \n",
            "  inflating: Dataset/images/1835.jpg  \n",
            "  inflating: Dataset/images/1836.jpg  \n",
            "  inflating: Dataset/images/1837.jpg  \n",
            "  inflating: Dataset/images/1838.jpg  \n",
            "  inflating: Dataset/images/184.jpg  \n",
            "  inflating: Dataset/images/1841.jpg  \n",
            "  inflating: Dataset/images/1842.jpg  \n",
            "  inflating: Dataset/images/1844.jpg  \n",
            "  inflating: Dataset/images/1845.jpg  \n",
            "  inflating: Dataset/images/1848.jpg  \n",
            "  inflating: Dataset/images/1849.jpg  \n",
            "  inflating: Dataset/images/1853.jpg  \n",
            "  inflating: Dataset/images/1855.jpg  \n",
            "  inflating: Dataset/images/1859.jpg  \n",
            "  inflating: Dataset/images/186.jpg  \n",
            "  inflating: Dataset/images/1868.jpg  \n",
            "  inflating: Dataset/images/1869.jpg  \n",
            "  inflating: Dataset/images/1873.jpg  \n",
            "  inflating: Dataset/images/1874.jpg  \n",
            "  inflating: Dataset/images/1875.jpg  \n",
            "  inflating: Dataset/images/1878.jpg  \n",
            "  inflating: Dataset/images/188.jpg  \n",
            "  inflating: Dataset/images/1880.jpg  \n",
            "  inflating: Dataset/images/1881.jpg  \n",
            "  inflating: Dataset/images/1888.jpg  \n",
            "  inflating: Dataset/images/189.jpg  \n",
            "  inflating: Dataset/images/1890.jpg  \n",
            "  inflating: Dataset/images/1891.jpg  \n",
            "  inflating: Dataset/images/1893.jpg  \n",
            "  inflating: Dataset/images/1899.jpg  \n",
            "  inflating: Dataset/images/19.jpg   \n",
            "  inflating: Dataset/images/1900.jpg  \n",
            "  inflating: Dataset/images/1901.jpg  \n",
            "  inflating: Dataset/images/1902.jpg  \n",
            "  inflating: Dataset/images/1904.jpg  \n",
            "  inflating: Dataset/images/1905.jpg  \n",
            "  inflating: Dataset/images/1906.jpg  \n",
            "  inflating: Dataset/images/191.jpg  \n",
            "  inflating: Dataset/images/1910.jpg  \n",
            "  inflating: Dataset/images/1913.jpg  \n",
            "  inflating: Dataset/images/1914.jpg  \n",
            "  inflating: Dataset/images/1915.jpg  \n",
            "  inflating: Dataset/images/1917.jpg  \n",
            "  inflating: Dataset/images/192.jpg  \n",
            "  inflating: Dataset/images/1921.jpg  \n",
            "  inflating: Dataset/images/1923.jpg  \n",
            "  inflating: Dataset/images/1924.jpg  \n",
            "  inflating: Dataset/images/1925.jpg  \n",
            "  inflating: Dataset/images/193.jpg  \n",
            "  inflating: Dataset/images/1933.jpg  \n",
            "  inflating: Dataset/images/1935.jpg  \n",
            "  inflating: Dataset/images/1936.jpg  \n",
            "  inflating: Dataset/images/1937.jpg  \n",
            "  inflating: Dataset/images/1938.jpg  \n",
            "  inflating: Dataset/images/1941.jpg  \n",
            "  inflating: Dataset/images/1942.jpg  \n",
            "  inflating: Dataset/images/1945.jpg  \n",
            "  inflating: Dataset/images/1946.jpg  \n",
            "  inflating: Dataset/images/1948.jpg  \n",
            "  inflating: Dataset/images/1950.jpg  \n",
            "  inflating: Dataset/images/1952.jpg  \n",
            "  inflating: Dataset/images/1960.jpg  \n",
            "  inflating: Dataset/images/1961.jpg  \n",
            "  inflating: Dataset/images/1963.jpg  \n",
            "  inflating: Dataset/images/1965.jpg  \n",
            "  inflating: Dataset/images/1971.jpg  \n",
            "  inflating: Dataset/images/1972.jpg  \n",
            "  inflating: Dataset/images/1973.jpg  \n",
            "  inflating: Dataset/images/1974.jpg  \n",
            "  inflating: Dataset/images/1975.jpg  \n",
            "  inflating: Dataset/images/1976.jpg  \n",
            "  inflating: Dataset/images/1978.jpg  \n",
            "  inflating: Dataset/images/198.jpg  \n",
            "  inflating: Dataset/images/1984.jpg  \n",
            "  inflating: Dataset/images/1985.jpg  \n",
            "  inflating: Dataset/images/1986.jpg  \n",
            "  inflating: Dataset/images/1987.jpg  \n",
            "  inflating: Dataset/images/1988.jpg  \n",
            "  inflating: Dataset/images/1989.jpg  \n",
            "  inflating: Dataset/images/1990.jpg  \n",
            "  inflating: Dataset/images/1992.jpg  \n",
            "  inflating: Dataset/images/1994.jpg  \n",
            "  inflating: Dataset/images/1995.jpg  \n",
            "  inflating: Dataset/images/1996.jpg  \n",
            "  inflating: Dataset/images/1998.jpg  \n",
            "  inflating: Dataset/images/2.jpg    \n",
            "  inflating: Dataset/images/2000.jpg  \n",
            "  inflating: Dataset/images/2001.jpg  \n",
            "  inflating: Dataset/images/2002.jpg  \n",
            "  inflating: Dataset/images/2004.jpg  \n",
            "  inflating: Dataset/images/2007.jpg  \n",
            "  inflating: Dataset/images/201.jpg  \n",
            "  inflating: Dataset/images/2010.jpg  \n",
            "  inflating: Dataset/images/2015.jpg  \n",
            "  inflating: Dataset/images/2016.jpg  \n",
            "  inflating: Dataset/images/2017.jpg  \n",
            "  inflating: Dataset/images/202.jpg  \n",
            "  inflating: Dataset/images/2021.jpg  \n",
            "  inflating: Dataset/images/2027.jpg  \n",
            "  inflating: Dataset/images/203.jpg  \n",
            "  inflating: Dataset/images/2030.jpg  \n",
            "  inflating: Dataset/images/2035.jpg  \n",
            "  inflating: Dataset/images/2039.jpg  \n",
            "  inflating: Dataset/images/204.jpg  \n",
            "  inflating: Dataset/images/2043.jpg  \n",
            "  inflating: Dataset/images/2045.jpg  \n",
            "  inflating: Dataset/images/2048.jpg  \n",
            "  inflating: Dataset/images/2049.jpg  \n",
            "  inflating: Dataset/images/2050.jpg  \n",
            "  inflating: Dataset/images/2051.jpg  \n",
            "  inflating: Dataset/images/2052.jpg  \n",
            "  inflating: Dataset/images/2053.jpg  \n",
            "  inflating: Dataset/images/2055.jpg  \n",
            "  inflating: Dataset/images/2056.jpg  \n",
            "  inflating: Dataset/images/2058.jpg  \n",
            "  inflating: Dataset/images/2059.jpg  \n",
            "  inflating: Dataset/images/2060.jpg  \n",
            "  inflating: Dataset/images/2062.jpg  \n",
            "  inflating: Dataset/images/2063.jpg  \n",
            "  inflating: Dataset/images/2068.jpg  \n",
            "  inflating: Dataset/images/2069.jpg  \n",
            "  inflating: Dataset/images/207.jpg  \n",
            "  inflating: Dataset/images/2072.jpg  \n",
            "  inflating: Dataset/images/2077.jpg  \n",
            "  inflating: Dataset/images/208.jpg  \n",
            "  inflating: Dataset/images/2081.jpg  \n",
            "  inflating: Dataset/images/2084.jpg  \n",
            "  inflating: Dataset/images/209.jpg  \n",
            "  inflating: Dataset/images/2090.jpg  \n",
            "  inflating: Dataset/images/2091.jpg  \n",
            "  inflating: Dataset/images/2092.jpg  \n",
            "  inflating: Dataset/images/2096.jpg  \n",
            "  inflating: Dataset/images/2097.jpg  \n",
            "  inflating: Dataset/images/2099.jpg  \n",
            "  inflating: Dataset/images/21.jpg   \n",
            "  inflating: Dataset/images/2100.jpg  \n",
            "  inflating: Dataset/images/2102.jpg  \n",
            "  inflating: Dataset/images/2105.jpg  \n",
            "  inflating: Dataset/images/2106.jpg  \n",
            "  inflating: Dataset/images/2107.jpg  \n",
            "  inflating: Dataset/images/2111.jpg  \n",
            "  inflating: Dataset/images/2115.jpg  \n",
            "  inflating: Dataset/images/2116.jpg  \n",
            "  inflating: Dataset/images/2118.jpg  \n",
            "  inflating: Dataset/images/2120.jpg  \n",
            "  inflating: Dataset/images/2122.jpg  \n",
            "  inflating: Dataset/images/2124.jpg  \n",
            "  inflating: Dataset/images/2125.jpg  \n",
            "  inflating: Dataset/images/2126.jpg  \n",
            "  inflating: Dataset/images/2131.jpg  \n",
            "  inflating: Dataset/images/2133.jpg  \n",
            "  inflating: Dataset/images/2134.jpg  \n",
            "  inflating: Dataset/images/2135.jpg  \n",
            "  inflating: Dataset/images/2138.jpg  \n",
            "  inflating: Dataset/images/214.jpg  \n",
            "  inflating: Dataset/images/2141.jpg  \n",
            "  inflating: Dataset/images/2146.jpg  \n",
            "  inflating: Dataset/images/215.jpg  \n",
            "  inflating: Dataset/images/2151.jpg  \n",
            "  inflating: Dataset/images/2152.jpg  \n",
            "  inflating: Dataset/images/2155.jpg  \n",
            "  inflating: Dataset/images/2156.jpg  \n",
            "  inflating: Dataset/images/2157.jpg  \n",
            "  inflating: Dataset/images/216.jpg  \n",
            "  inflating: Dataset/images/2161.jpg  \n",
            "  inflating: Dataset/images/2163.jpg  \n",
            "  inflating: Dataset/images/2168.jpg  \n",
            "  inflating: Dataset/images/2172.jpg  \n",
            "  inflating: Dataset/images/2177.jpg  \n",
            "  inflating: Dataset/images/2178.jpg  \n",
            "  inflating: Dataset/images/2179.jpg  \n",
            "  inflating: Dataset/images/218.jpg  \n",
            "  inflating: Dataset/images/2185.jpg  \n",
            "  inflating: Dataset/images/2186.jpg  \n",
            "  inflating: Dataset/images/2187.jpg  \n",
            "  inflating: Dataset/images/2188.jpg  \n",
            "  inflating: Dataset/images/2190.jpg  \n",
            "  inflating: Dataset/images/2199.jpg  \n",
            "  inflating: Dataset/images/220.jpg  \n",
            "  inflating: Dataset/images/2200.jpg  \n",
            "  inflating: Dataset/images/2203.jpg  \n",
            "  inflating: Dataset/images/2204.jpg  \n",
            "  inflating: Dataset/images/2206.jpg  \n",
            "  inflating: Dataset/images/2207.jpg  \n",
            "  inflating: Dataset/images/2208.jpg  \n",
            "  inflating: Dataset/images/221.jpg  \n",
            "  inflating: Dataset/images/2210.jpg  \n",
            "  inflating: Dataset/images/2213.jpg  \n",
            "  inflating: Dataset/images/2214.jpg  \n",
            "  inflating: Dataset/images/2216.jpg  \n",
            "  inflating: Dataset/images/2217.jpg  \n",
            "  inflating: Dataset/images/2219.jpg  \n",
            "  inflating: Dataset/images/2220.jpg  \n",
            "  inflating: Dataset/images/2221.jpg  \n",
            "  inflating: Dataset/images/2222.jpg  \n",
            "  inflating: Dataset/images/2224.jpg  \n",
            "  inflating: Dataset/images/2225.jpg  \n",
            "  inflating: Dataset/images/2226.jpg  \n",
            "  inflating: Dataset/images/2229.jpg  \n",
            "  inflating: Dataset/images/223.jpg  \n",
            "  inflating: Dataset/images/2235.jpg  \n",
            "  inflating: Dataset/images/2236.jpg  \n",
            "  inflating: Dataset/images/2240.jpg  \n",
            "  inflating: Dataset/images/2242.jpg  \n",
            "  inflating: Dataset/images/2243.jpg  \n",
            "  inflating: Dataset/images/2249.jpg  \n",
            "  inflating: Dataset/images/225.jpg  \n",
            "  inflating: Dataset/images/2251.jpg  \n",
            "  inflating: Dataset/images/2253.jpg  \n",
            "  inflating: Dataset/images/2256.jpg  \n",
            "  inflating: Dataset/images/2257.jpg  \n",
            "  inflating: Dataset/images/226.jpg  \n",
            "  inflating: Dataset/images/2261.jpg  \n",
            "  inflating: Dataset/images/2266.jpg  \n",
            "  inflating: Dataset/images/2269.jpg  \n",
            "  inflating: Dataset/images/227.jpg  \n",
            "  inflating: Dataset/images/2274.jpg  \n",
            "  inflating: Dataset/images/2275.jpg  \n",
            "  inflating: Dataset/images/2276.jpg  \n",
            "  inflating: Dataset/images/228.jpg  \n",
            "  inflating: Dataset/images/2281.jpg  \n",
            "  inflating: Dataset/images/2283.jpg  \n",
            "  inflating: Dataset/images/2284.jpg  \n",
            "  inflating: Dataset/images/2285.jpg  \n",
            "  inflating: Dataset/images/2286.jpg  \n",
            "  inflating: Dataset/images/2287.jpg  \n",
            "  inflating: Dataset/images/2295.jpg  \n",
            "  inflating: Dataset/images/2297.jpg  \n",
            "  inflating: Dataset/images/230.jpg  \n",
            "  inflating: Dataset/images/2302.jpg  \n",
            "  inflating: Dataset/images/2305.jpg  \n",
            "  inflating: Dataset/images/2306.jpg  \n",
            "  inflating: Dataset/images/2310.jpg  \n",
            "  inflating: Dataset/images/2311.jpg  \n",
            "  inflating: Dataset/images/2313.jpg  \n",
            "  inflating: Dataset/images/2315.jpg  \n",
            "  inflating: Dataset/images/2316.jpg  \n",
            "  inflating: Dataset/images/2317.jpg  \n",
            "  inflating: Dataset/images/2318.jpg  \n",
            "  inflating: Dataset/images/2319.jpg  \n",
            "  inflating: Dataset/images/2324.jpg  \n",
            "  inflating: Dataset/images/2325.jpg  \n",
            "  inflating: Dataset/images/2329.jpg  \n",
            "  inflating: Dataset/images/2332.jpg  \n",
            "  inflating: Dataset/images/2336.jpg  \n",
            "  inflating: Dataset/images/2337.jpg  \n",
            "  inflating: Dataset/images/2339.jpg  \n",
            "  inflating: Dataset/images/2349.jpg  \n",
            "  inflating: Dataset/images/235.jpg  \n",
            "  inflating: Dataset/images/2351.jpg  \n",
            "  inflating: Dataset/images/239.jpg  \n",
            "  inflating: Dataset/images/246.jpg  \n",
            "  inflating: Dataset/images/247.jpg  \n",
            "  inflating: Dataset/images/248.jpg  \n",
            "  inflating: Dataset/images/254.jpg  \n",
            "  inflating: Dataset/images/255.jpg  \n",
            "  inflating: Dataset/images/258.jpg  \n",
            "  inflating: Dataset/images/262.jpg  \n",
            "  inflating: Dataset/images/263.jpg  \n",
            "  inflating: Dataset/images/266.jpg  \n",
            "  inflating: Dataset/images/267.jpg  \n",
            "  inflating: Dataset/images/269.jpg  \n",
            "  inflating: Dataset/images/272.jpg  \n",
            "  inflating: Dataset/images/274.jpg  \n",
            "  inflating: Dataset/images/275.jpg  \n",
            "  inflating: Dataset/images/281.jpg  \n",
            "  inflating: Dataset/images/282.jpg  \n",
            "  inflating: Dataset/images/285.jpg  \n",
            "  inflating: Dataset/images/286.jpg  \n",
            "  inflating: Dataset/images/287.jpg  \n",
            "  inflating: Dataset/images/289.jpg  \n",
            "  inflating: Dataset/images/29.jpg   \n",
            "  inflating: Dataset/images/290.jpg  \n",
            "  inflating: Dataset/images/291.jpg  \n",
            "  inflating: Dataset/images/292.jpg  \n",
            "  inflating: Dataset/images/297.jpg  \n",
            "  inflating: Dataset/images/298.jpg  \n",
            "  inflating: Dataset/images/3.jpg    \n",
            "  inflating: Dataset/images/304.jpg  \n",
            "  inflating: Dataset/images/308.jpg  \n",
            "  inflating: Dataset/images/309.jpg  \n",
            "  inflating: Dataset/images/31.jpg   \n",
            "  inflating: Dataset/images/315.jpg  \n",
            "  inflating: Dataset/images/318.jpg  \n",
            "  inflating: Dataset/images/319.jpg  \n",
            "  inflating: Dataset/images/320.jpg  \n",
            "  inflating: Dataset/images/321.jpg  \n",
            "  inflating: Dataset/images/323.jpg  \n",
            "  inflating: Dataset/images/324.jpg  \n",
            "  inflating: Dataset/images/33.jpg   \n",
            "  inflating: Dataset/images/330.jpg  \n",
            "  inflating: Dataset/images/331.jpg  \n",
            "  inflating: Dataset/images/333.jpg  \n",
            "  inflating: Dataset/images/34.jpg   \n",
            "  inflating: Dataset/images/341.jpg  \n",
            "  inflating: Dataset/images/345.jpg  \n",
            "  inflating: Dataset/images/347.jpg  \n",
            "  inflating: Dataset/images/349.jpg  \n",
            "  inflating: Dataset/images/350.jpg  \n",
            "  inflating: Dataset/images/352.jpg  \n",
            "  inflating: Dataset/images/354.jpg  \n",
            "  inflating: Dataset/images/359.jpg  \n",
            "  inflating: Dataset/images/36.jpg   \n",
            "  inflating: Dataset/images/363.jpg  \n",
            "  inflating: Dataset/images/364.jpg  \n",
            "  inflating: Dataset/images/366.jpg  \n",
            "  inflating: Dataset/images/367.jpg  \n",
            "  inflating: Dataset/images/368.jpg  \n",
            "  inflating: Dataset/images/369.jpg  \n",
            "  inflating: Dataset/images/372.jpg  \n",
            "  inflating: Dataset/images/373.jpg  \n",
            "  inflating: Dataset/images/375.jpg  \n",
            "  inflating: Dataset/images/376.jpg  \n",
            "  inflating: Dataset/images/379.jpg  \n",
            "  inflating: Dataset/images/382.jpg  \n",
            "  inflating: Dataset/images/385.jpg  \n",
            "  inflating: Dataset/images/386.jpg  \n",
            "  inflating: Dataset/images/387.jpg  \n",
            "  inflating: Dataset/images/390.jpg  \n",
            "  inflating: Dataset/images/393.jpg  \n",
            "  inflating: Dataset/images/396.jpg  \n",
            "  inflating: Dataset/images/397.jpg  \n",
            "  inflating: Dataset/images/400.jpg  \n",
            "  inflating: Dataset/images/401.jpg  \n",
            "  inflating: Dataset/images/402.jpg  \n",
            "  inflating: Dataset/images/403.jpg  \n",
            "  inflating: Dataset/images/406.jpg  \n",
            "  inflating: Dataset/images/410.jpg  \n",
            "  inflating: Dataset/images/411.jpg  \n",
            "  inflating: Dataset/images/412.jpg  \n",
            "  inflating: Dataset/images/414.jpg  \n",
            "  inflating: Dataset/images/416.jpg  \n",
            "  inflating: Dataset/images/417.jpg  \n",
            "  inflating: Dataset/images/419.jpg  \n",
            "  inflating: Dataset/images/420.jpg  \n",
            "  inflating: Dataset/images/421.jpg  \n",
            "  inflating: Dataset/images/423.jpg  \n",
            "  inflating: Dataset/images/426.jpg  \n",
            "  inflating: Dataset/images/429.jpg  \n",
            "  inflating: Dataset/images/432.jpg  \n",
            "  inflating: Dataset/images/433.jpg  \n",
            "  inflating: Dataset/images/435.jpg  \n",
            "  inflating: Dataset/images/439.jpg  \n",
            "  inflating: Dataset/images/440.jpg  \n",
            "  inflating: Dataset/images/441.jpg  \n",
            "  inflating: Dataset/images/447.jpg  \n",
            "  inflating: Dataset/images/448.jpg  \n",
            "  inflating: Dataset/images/451.jpg  \n",
            "  inflating: Dataset/images/454.jpg  \n",
            "  inflating: Dataset/images/456.jpg  \n",
            "  inflating: Dataset/images/458.jpg  \n",
            "  inflating: Dataset/images/463.jpg  \n",
            "  inflating: Dataset/images/464.jpg  \n",
            "  inflating: Dataset/images/465.jpg  \n",
            "  inflating: Dataset/images/470.jpg  \n",
            "  inflating: Dataset/images/471.jpg  \n",
            "  inflating: Dataset/images/472.jpg  \n",
            "  inflating: Dataset/images/473.jpg  \n",
            "  inflating: Dataset/images/476.jpg  \n",
            "  inflating: Dataset/images/478.jpg  \n",
            "  inflating: Dataset/images/479.jpg  \n",
            "  inflating: Dataset/images/48.jpg   \n",
            "  inflating: Dataset/images/480.jpg  \n",
            "  inflating: Dataset/images/481.jpg  \n",
            "  inflating: Dataset/images/483.jpg  \n",
            "  inflating: Dataset/images/485.jpg  \n",
            "  inflating: Dataset/images/486.jpg  \n",
            "  inflating: Dataset/images/487.jpg  \n",
            "  inflating: Dataset/images/489.jpg  \n",
            "  inflating: Dataset/images/49.jpg   \n",
            "  inflating: Dataset/images/494.jpg  \n",
            "  inflating: Dataset/images/496.jpg  \n",
            "  inflating: Dataset/images/497.jpg  \n",
            "  inflating: Dataset/images/499.jpg  \n",
            "  inflating: Dataset/images/500.jpg  \n",
            "  inflating: Dataset/images/503.jpg  \n",
            "  inflating: Dataset/images/507.jpg  \n",
            "  inflating: Dataset/images/508.jpg  \n",
            "  inflating: Dataset/images/51.jpg   \n",
            "  inflating: Dataset/images/511.jpg  \n",
            "  inflating: Dataset/images/512.jpg  \n",
            "  inflating: Dataset/images/515.jpg  \n",
            "  inflating: Dataset/images/516.jpg  \n",
            "  inflating: Dataset/images/52.jpg   \n",
            "  inflating: Dataset/images/520.jpg  \n",
            "  inflating: Dataset/images/521.jpg  \n",
            "  inflating: Dataset/images/524.jpg  \n",
            "  inflating: Dataset/images/525.jpg  \n",
            "  inflating: Dataset/images/526.jpg  \n",
            "  inflating: Dataset/images/527.jpg  \n",
            "  inflating: Dataset/images/529.jpg  \n",
            "  inflating: Dataset/images/53.jpg   \n",
            "  inflating: Dataset/images/530.jpg  \n",
            "  inflating: Dataset/images/531.jpg  \n",
            "  inflating: Dataset/images/533.jpg  \n",
            "  inflating: Dataset/images/535.jpg  \n",
            "  inflating: Dataset/images/537.jpg  \n",
            "  inflating: Dataset/images/54.jpg   \n",
            "  inflating: Dataset/images/540.jpg  \n",
            "  inflating: Dataset/images/544.jpg  \n",
            "  inflating: Dataset/images/55.jpg   \n",
            "  inflating: Dataset/images/551.jpg  \n",
            "  inflating: Dataset/images/552.jpg  \n",
            "  inflating: Dataset/images/554.jpg  \n",
            "  inflating: Dataset/images/556.jpg  \n",
            "  inflating: Dataset/images/558.jpg  \n",
            "  inflating: Dataset/images/559.jpg  \n",
            "  inflating: Dataset/images/56.jpg   \n",
            "  inflating: Dataset/images/561.jpg  \n",
            "  inflating: Dataset/images/562.jpg  \n",
            "  inflating: Dataset/images/563.jpg  \n",
            "  inflating: Dataset/images/564.jpg  \n",
            "  inflating: Dataset/images/567.jpg  \n",
            "  inflating: Dataset/images/568.jpg  \n",
            "  inflating: Dataset/images/570.jpg  \n",
            "  inflating: Dataset/images/573.jpg  \n",
            "  inflating: Dataset/images/575.jpg  \n",
            "  inflating: Dataset/images/579.jpg  \n",
            "  inflating: Dataset/images/58.jpg   \n",
            "  inflating: Dataset/images/580.jpg  \n",
            "  inflating: Dataset/images/581.jpg  \n",
            "  inflating: Dataset/images/587.jpg  \n",
            "  inflating: Dataset/images/589.jpg  \n",
            "  inflating: Dataset/images/59.jpg   \n",
            "  inflating: Dataset/images/591.jpg  \n",
            "  inflating: Dataset/images/598.jpg  \n",
            "  inflating: Dataset/images/599.jpg  \n",
            "  inflating: Dataset/images/6.jpg    \n",
            "  inflating: Dataset/images/60.jpg   \n",
            "  inflating: Dataset/images/600.jpg  \n",
            "  inflating: Dataset/images/601.jpg  \n",
            "  inflating: Dataset/images/605.jpg  \n",
            "  inflating: Dataset/images/610.jpg  \n",
            "  inflating: Dataset/images/612.jpg  \n",
            "  inflating: Dataset/images/619.jpg  \n",
            "  inflating: Dataset/images/623.jpg  \n",
            "  inflating: Dataset/images/627.jpg  \n",
            "  inflating: Dataset/images/63.jpg   \n",
            "  inflating: Dataset/images/630.jpg  \n",
            "  inflating: Dataset/images/634.jpg  \n",
            "  inflating: Dataset/images/637.jpg  \n",
            "  inflating: Dataset/images/64.jpg   \n",
            "  inflating: Dataset/images/644.jpg  \n",
            "  inflating: Dataset/images/646.jpg  \n",
            "  inflating: Dataset/images/647.jpg  \n",
            "  inflating: Dataset/images/648.jpg  \n",
            "  inflating: Dataset/images/649.jpg  \n",
            "  inflating: Dataset/images/650.jpg  \n",
            "  inflating: Dataset/images/653.jpg  \n",
            "  inflating: Dataset/images/656.jpg  \n",
            "  inflating: Dataset/images/659.jpg  \n",
            "  inflating: Dataset/images/660.jpg  \n",
            "  inflating: Dataset/images/662.jpg  \n",
            "  inflating: Dataset/images/663.jpg  \n",
            "  inflating: Dataset/images/666.jpg  \n",
            "  inflating: Dataset/images/667.jpg  \n",
            "  inflating: Dataset/images/668.jpg  \n",
            "  inflating: Dataset/images/669.jpg  \n",
            "  inflating: Dataset/images/670.jpg  \n",
            "  inflating: Dataset/images/672.jpg  \n",
            "  inflating: Dataset/images/678.jpg  \n",
            "  inflating: Dataset/images/68.jpg   \n",
            "  inflating: Dataset/images/680.jpg  \n",
            "  inflating: Dataset/images/681.jpg  \n",
            "  inflating: Dataset/images/686.jpg  \n",
            "  inflating: Dataset/images/689.jpg  \n",
            "  inflating: Dataset/images/69.jpg   \n",
            "  inflating: Dataset/images/691.jpg  \n",
            "  inflating: Dataset/images/692.jpg  \n",
            "  inflating: Dataset/images/693.jpg  \n",
            "  inflating: Dataset/images/695.jpg  \n",
            "  inflating: Dataset/images/696.jpg  \n",
            "  inflating: Dataset/images/698.jpg  \n",
            "  inflating: Dataset/images/70.jpg   \n",
            "  inflating: Dataset/images/700.jpg  \n",
            "  inflating: Dataset/images/703.jpg  \n",
            "  inflating: Dataset/images/704.jpg  \n",
            "  inflating: Dataset/images/708.jpg  \n",
            "  inflating: Dataset/images/712.jpg  \n",
            "  inflating: Dataset/images/719.jpg  \n",
            "  inflating: Dataset/images/72.jpg   \n",
            "  inflating: Dataset/images/720.jpg  \n",
            "  inflating: Dataset/images/721.jpg  \n",
            "  inflating: Dataset/images/723.jpg  \n",
            "  inflating: Dataset/images/724.jpg  \n",
            "  inflating: Dataset/images/725.jpg  \n",
            "  inflating: Dataset/images/726.jpg  \n",
            "  inflating: Dataset/images/727.jpg  \n",
            "  inflating: Dataset/images/729.jpg  \n",
            "  inflating: Dataset/images/732.jpg  \n",
            "  inflating: Dataset/images/738.jpg  \n",
            "  inflating: Dataset/images/74.jpg   \n",
            "  inflating: Dataset/images/741.jpg  \n",
            "  inflating: Dataset/images/743.jpg  \n",
            "  inflating: Dataset/images/744.jpg  \n",
            "  inflating: Dataset/images/745.jpg  \n",
            "  inflating: Dataset/images/748.jpg  \n",
            "  inflating: Dataset/images/753.jpg  \n",
            "  inflating: Dataset/images/754.jpg  \n",
            "  inflating: Dataset/images/755.jpg  \n",
            "  inflating: Dataset/images/756.jpg  \n",
            "  inflating: Dataset/images/759.jpg  \n",
            "  inflating: Dataset/images/1.jpg    \n",
            "  inflating: Dataset/images/1001.jpg  \n",
            "  inflating: Dataset/images/1004.jpg  \n",
            "  inflating: Dataset/images/1005.jpg  \n",
            "  inflating: Dataset/images/1008.jpg  \n",
            "  inflating: Dataset/images/101.jpg  \n",
            "  inflating: Dataset/images/1010.jpg  \n",
            "  inflating: Dataset/images/1011.jpg  \n",
            "  inflating: Dataset/images/1012.jpg  \n",
            "  inflating: Dataset/images/1015.jpg  \n",
            "  inflating: Dataset/images/1017.jpg  \n",
            "  inflating: Dataset/images/1024.jpg  \n",
            "  inflating: Dataset/images/1025.jpg  \n",
            "  inflating: Dataset/images/1027.jpg  \n",
            "  inflating: Dataset/images/1029.jpg  \n",
            "  inflating: Dataset/images/103.jpg  \n",
            "  inflating: Dataset/images/1032.jpg  \n",
            "  inflating: Dataset/images/1033.jpg  \n",
            "  inflating: Dataset/images/1034.jpg  \n",
            "  inflating: Dataset/images/1042.jpg  \n",
            "  inflating: Dataset/images/1043.jpg  \n",
            "  inflating: Dataset/images/1044.jpg  \n",
            "  inflating: Dataset/images/1045.jpg  \n",
            "  inflating: Dataset/images/1049.jpg  \n",
            "  inflating: Dataset/images/76.jpg   \n",
            "  inflating: Dataset/images/764.jpg  \n",
            "  inflating: Dataset/images/767.jpg  \n",
            "  inflating: Dataset/images/768.jpg  \n",
            "  inflating: Dataset/images/771.jpg  \n",
            "  inflating: Dataset/images/772.jpg  \n",
            "  inflating: Dataset/images/774.jpg  \n",
            "  inflating: Dataset/images/777.jpg  \n",
            "  inflating: Dataset/images/780.jpg  \n",
            "  inflating: Dataset/images/787.jpg  \n",
            "  inflating: Dataset/images/789.jpg  \n",
            "  inflating: Dataset/images/79.jpg   \n",
            "  inflating: Dataset/images/790.jpg  \n",
            "  inflating: Dataset/images/791.jpg  \n",
            "  inflating: Dataset/images/793.jpg  \n",
            "  inflating: Dataset/images/796.jpg  \n",
            "  inflating: Dataset/images/797.jpg  \n",
            "  inflating: Dataset/images/799.jpg  \n",
            "  inflating: Dataset/images/80.jpg   \n",
            "  inflating: Dataset/images/804.jpg  \n",
            "  inflating: Dataset/images/805.jpg  \n",
            "  inflating: Dataset/images/807.jpg  \n",
            "  inflating: Dataset/images/815.jpg  \n",
            "  inflating: Dataset/images/816.jpg  \n",
            "  inflating: Dataset/images/818.jpg  \n",
            "  inflating: Dataset/images/820.jpg  \n",
            "  inflating: Dataset/images/825.jpg  \n",
            "  inflating: Dataset/images/827.jpg  \n",
            "  inflating: Dataset/images/828.jpg  \n",
            "  inflating: Dataset/images/829.jpg  \n",
            "  inflating: Dataset/images/836.jpg  \n",
            "  inflating: Dataset/images/838.jpg  \n",
            "  inflating: Dataset/images/840.jpg  \n",
            "  inflating: Dataset/images/842.jpg  \n",
            "  inflating: Dataset/images/843.jpg  \n",
            "  inflating: Dataset/images/846.jpg  \n",
            "  inflating: Dataset/images/849.jpg  \n",
            "  inflating: Dataset/images/85.jpg   \n",
            "  inflating: Dataset/images/850.jpg  \n",
            "  inflating: Dataset/images/851.jpg  \n",
            "  inflating: Dataset/images/852.jpg  \n",
            "  inflating: Dataset/images/854.jpg  \n",
            "  inflating: Dataset/images/856.jpg  \n",
            "  inflating: Dataset/images/858.jpg  \n",
            "  inflating: Dataset/images/860.jpg  \n",
            "  inflating: Dataset/images/861.jpg  \n",
            "  inflating: Dataset/images/869.jpg  \n",
            "  inflating: Dataset/images/87.jpg   \n",
            "  inflating: Dataset/images/874.jpg  \n",
            "  inflating: Dataset/images/876.jpg  \n",
            "  inflating: Dataset/images/881.jpg  \n",
            "  inflating: Dataset/images/883.jpg  \n",
            "  inflating: Dataset/images/885.jpg  \n",
            "  inflating: Dataset/images/887.jpg  \n",
            "  inflating: Dataset/images/893.jpg  \n",
            "  inflating: Dataset/images/894.jpg  \n",
            "  inflating: Dataset/images/896.jpg  \n",
            "  inflating: Dataset/images/898.jpg  \n",
            "  inflating: Dataset/images/899.jpg  \n",
            "  inflating: Dataset/images/9.jpg    \n",
            "  inflating: Dataset/images/902.jpg  \n",
            "  inflating: Dataset/images/904.jpg  \n",
            "  inflating: Dataset/images/907.jpg  \n",
            "  inflating: Dataset/images/908.jpg  \n",
            "  inflating: Dataset/images/912.jpg  \n",
            "  inflating: Dataset/images/913.jpg  \n",
            "  inflating: Dataset/images/915.jpg  \n",
            "  inflating: Dataset/images/920.jpg  \n",
            "  inflating: Dataset/images/921.jpg  \n",
            "  inflating: Dataset/images/922.jpg  \n",
            "  inflating: Dataset/images/929.jpg  \n",
            "  inflating: Dataset/images/932.jpg  \n",
            "  inflating: Dataset/images/933.jpg  \n",
            "  inflating: Dataset/images/934.jpg  \n",
            "  inflating: Dataset/images/935.jpg  \n",
            "  inflating: Dataset/images/937.jpg  \n",
            "  inflating: Dataset/images/94.jpg   \n",
            "  inflating: Dataset/images/943.jpg  \n",
            "  inflating: Dataset/images/945.jpg  \n",
            "  inflating: Dataset/images/949.jpg  \n",
            "  inflating: Dataset/images/951.jpg  \n",
            "  inflating: Dataset/images/953.jpg  \n",
            "  inflating: Dataset/images/956.jpg  \n",
            "  inflating: Dataset/images/957.jpg  \n",
            "  inflating: Dataset/images/963.jpg  \n",
            "  inflating: Dataset/images/966.jpg  \n",
            "  inflating: Dataset/images/97.jpg   \n",
            "  inflating: Dataset/images/971.jpg  \n",
            "  inflating: Dataset/images/972.jpg  \n",
            "  inflating: Dataset/images/978.jpg  \n",
            "  inflating: Dataset/images/979.jpg  \n",
            "  inflating: Dataset/images/98.jpg   \n",
            "  inflating: Dataset/images/981.jpg  \n",
            "  inflating: Dataset/images/983.jpg  \n",
            "  inflating: Dataset/images/984.jpg  \n",
            "  inflating: Dataset/images/985.jpg  \n",
            "  inflating: Dataset/images/988.jpg  \n",
            "  inflating: Dataset/images/989.jpg  \n",
            "  inflating: Dataset/images/99.jpg   \n",
            "  inflating: Dataset/images/990.jpg  \n",
            "  inflating: Dataset/images/992.jpg  \n",
            "  inflating: Dataset/images/993.jpg  \n",
            "  inflating: Dataset/images/996.jpg  \n",
            "  inflating: Dataset/images/999.jpg  \n",
            "  inflating: Dataset/images/105.jpg  \n",
            "  inflating: Dataset/images/1053.jpg  \n",
            "  inflating: Dataset/images/1055.jpg  \n",
            "  inflating: Dataset/images/1057.jpg  \n",
            "  inflating: Dataset/images/1058.jpg  \n",
            "  inflating: Dataset/images/1061.jpg  \n",
            "  inflating: Dataset/images/1068.jpg  \n",
            "  inflating: Dataset/images/107.jpg  \n",
            "  inflating: Dataset/images/1071.jpg  \n",
            "  inflating: Dataset/images/1073.jpg  \n",
            "  inflating: Dataset/images/1077.jpg  \n",
            "  inflating: Dataset/images/1080.jpg  \n",
            "  inflating: Dataset/images/1082.jpg  \n",
            "  inflating: Dataset/images/1085.jpg  \n",
            "  inflating: Dataset/images/1088.jpg  \n",
            "  inflating: Dataset/images/1091.jpg  \n",
            "  inflating: Dataset/images/1094.jpg  \n",
            "  inflating: Dataset/images/1095.jpg  \n",
            "  inflating: Dataset/images/1098.jpg  \n",
            "  inflating: Dataset/images/1099.jpg  \n",
            "  inflating: Dataset/images/11.jpg   \n",
            "  inflating: Dataset/images/1100.jpg  \n",
            "  inflating: Dataset/images/1102.jpg  \n",
            "  inflating: Dataset/images/1104.jpg  \n",
            "  inflating: Dataset/images/1107.jpg  \n",
            "  inflating: Dataset/images/1109.jpg  \n",
            "  inflating: Dataset/images/111.jpg  \n",
            "  inflating: Dataset/images/1110.jpg  \n",
            "  inflating: Dataset/images/1114.jpg  \n",
            "  inflating: Dataset/images/1119.jpg  \n",
            "  inflating: Dataset/images/112.jpg  \n",
            "  inflating: Dataset/images/1122.jpg  \n",
            "  inflating: Dataset/images/1124.jpg  \n",
            "  inflating: Dataset/images/1125.jpg  \n",
            "  inflating: Dataset/images/1127.jpg  \n",
            "  inflating: Dataset/images/1129.jpg  \n",
            "  inflating: Dataset/images/1131.jpg  \n",
            "  inflating: Dataset/images/1132.jpg  \n",
            "  inflating: Dataset/images/1133.jpg  \n",
            "  inflating: Dataset/images/1134.jpg  \n",
            "  inflating: Dataset/images/1139.jpg  \n",
            "  inflating: Dataset/images/114.jpg  \n",
            "  inflating: Dataset/images/1140.jpg  \n",
            "  inflating: Dataset/images/1141.jpg  \n",
            "  inflating: Dataset/images/1147.jpg  \n",
            "  inflating: Dataset/images/1148.jpg  \n",
            "  inflating: Dataset/images/115.jpg  \n",
            "  inflating: Dataset/images/1152.jpg  \n",
            "  inflating: Dataset/images/1157.jpg  \n",
            "  inflating: Dataset/images/1159.jpg  \n",
            "  inflating: Dataset/images/116.jpg  \n",
            "  inflating: Dataset/images/1160.jpg  \n",
            "  inflating: Dataset/images/1161.jpg  \n",
            "  inflating: Dataset/images/1163.jpg  \n",
            "  inflating: Dataset/images/1166.jpg  \n",
            "  inflating: Dataset/images/1167.jpg  \n",
            "  inflating: Dataset/images/1168.jpg  \n",
            "  inflating: Dataset/images/1170.jpg  \n",
            "  inflating: Dataset/images/1172.jpg  \n",
            "  inflating: Dataset/images/1175.jpg  \n",
            "  inflating: Dataset/images/1178.jpg  \n",
            "  inflating: Dataset/images/1179.jpg  \n",
            "  inflating: Dataset/images/118.jpg  \n",
            "  inflating: Dataset/images/1184.jpg  \n",
            "  inflating: Dataset/images/1187.jpg  \n",
            "  inflating: Dataset/images/1188.jpg  \n",
            "  inflating: Dataset/images/1189.jpg  \n",
            "  inflating: Dataset/images/1190.jpg  \n",
            "  inflating: Dataset/images/1193.jpg  \n",
            "  inflating: Dataset/images/1196.jpg  \n",
            "  inflating: Dataset/images/1199.jpg  \n",
            "  inflating: Dataset/images/12.jpg   \n",
            "  inflating: Dataset/images/1200.jpg  \n",
            "  inflating: Dataset/images/1201.jpg  \n",
            "  inflating: Dataset/images/1207.jpg  \n",
            "  inflating: Dataset/images/1209.jpg  \n",
            "  inflating: Dataset/images/121.jpg  \n",
            "  inflating: Dataset/images/1210.jpg  \n",
            "  inflating: Dataset/images/1212.jpg  \n",
            "  inflating: Dataset/images/1213.jpg  \n",
            "  inflating: Dataset/images/1218.jpg  \n",
            "  inflating: Dataset/images/122.jpg  \n",
            "  inflating: Dataset/images/1220.jpg  \n",
            "  inflating: Dataset/images/1221.jpg  \n",
            "  inflating: Dataset/images/1223.jpg  \n",
            "  inflating: Dataset/images/1224.jpg  \n",
            "  inflating: Dataset/images/1225.jpg  \n",
            "  inflating: Dataset/images/1227.jpg  \n",
            "  inflating: Dataset/images/1229.jpg  \n",
            "  inflating: Dataset/images/1230.jpg  \n",
            "  inflating: Dataset/images/1234.jpg  \n",
            "  inflating: Dataset/images/1236.jpg  \n",
            "  inflating: Dataset/images/1240.jpg  \n",
            "  inflating: Dataset/images/1241.jpg  \n",
            "  inflating: Dataset/images/1244.jpg  \n",
            "  inflating: Dataset/images/1246.jpg  \n",
            "  inflating: Dataset/images/1250.jpg  \n",
            "  inflating: Dataset/images/1251.jpg  \n",
            "  inflating: Dataset/images/1252.jpg  \n",
            "  inflating: Dataset/images/1253.jpg  \n",
            "  inflating: Dataset/images/1254.jpg  \n",
            "  inflating: Dataset/images/1258.jpg  \n",
            "  inflating: Dataset/images/126.jpg  \n",
            "  inflating: Dataset/images/1262.jpg  \n",
            "  inflating: Dataset/images/1263.jpg  \n",
            "  inflating: Dataset/images/1270.jpg  \n",
            "  inflating: Dataset/images/1274.jpg  \n",
            "  inflating: Dataset/images/1276.jpg  \n",
            "  inflating: Dataset/images/1277.jpg  \n",
            "  inflating: Dataset/images/1278.jpg  \n",
            "  inflating: Dataset/images/1280.jpg  \n",
            "  inflating: Dataset/images/1283.jpg  \n",
            "  inflating: Dataset/images/1285.jpg  \n",
            "  inflating: Dataset/images/1287.jpg  \n",
            "  inflating: Dataset/images/1289.jpg  \n",
            "  inflating: Dataset/images/1290.jpg  \n",
            "  inflating: Dataset/images/1292.jpg  \n",
            "  inflating: Dataset/images/1293.jpg  \n",
            "  inflating: Dataset/images/1294.jpg  \n",
            "  inflating: Dataset/images/1298.jpg  \n",
            "  inflating: Dataset/images/1303.jpg  \n",
            "  inflating: Dataset/images/1307.jpg  \n",
            "  inflating: Dataset/images/1308.jpg  \n",
            "  inflating: Dataset/images/1309.jpg  \n",
            "  inflating: Dataset/images/131.jpg  \n",
            "  inflating: Dataset/images/1310.jpg  \n",
            "  inflating: Dataset/images/1311.jpg  \n",
            "  inflating: Dataset/images/1312.jpg  \n",
            "  inflating: Dataset/images/1313.jpg  \n",
            "  inflating: Dataset/images/1317.jpg  \n",
            "  inflating: Dataset/images/1318.jpg  \n",
            "  inflating: Dataset/images/132.jpg  \n",
            "  inflating: Dataset/images/1322.jpg  \n",
            "  inflating: Dataset/images/1323.jpg  \n",
            "  inflating: Dataset/images/1325.jpg  \n",
            "  inflating: Dataset/images/1328.jpg  \n",
            "  inflating: Dataset/images/133.jpg  \n",
            "  inflating: Dataset/images/1331.jpg  \n",
            "  inflating: Dataset/images/1332.jpg  \n",
            "  inflating: Dataset/images/1334.jpg  \n",
            "  inflating: Dataset/images/1337.jpg  \n",
            "  inflating: Dataset/images/1345.jpg  \n",
            "  inflating: Dataset/images/1347.jpg  \n",
            "  inflating: Dataset/images/1348.jpg  \n",
            "  inflating: Dataset/images/135.jpg  \n",
            "  inflating: Dataset/images/1350.jpg  \n",
            "  inflating: Dataset/images/1351.jpg  \n",
            "  inflating: Dataset/images/1352.jpg  \n",
            "  inflating: Dataset/images/1353.jpg  \n",
            "  inflating: Dataset/images/1354.jpg  \n",
            "  inflating: Dataset/images/1355.jpg  \n",
            "  inflating: Dataset/images/1358.jpg  \n",
            "  inflating: Dataset/images/1359.jpg  \n",
            "  inflating: Dataset/images/136.jpg  \n",
            "  inflating: Dataset/images/1360.jpg  \n",
            "  inflating: Dataset/images/1372.jpg  \n",
            "  inflating: Dataset/images/1373.jpg  \n",
            "  inflating: Dataset/images/1376.jpg  \n",
            "  inflating: Dataset/images/138.jpg  \n",
            "  inflating: Dataset/images/1380.jpg  \n",
            "  inflating: Dataset/images/1383.jpg  \n",
            "  inflating: Dataset/images/1384.jpg  \n",
            "  inflating: Dataset/images/1386.jpg  \n",
            "  inflating: Dataset/images/139.jpg  \n",
            "  inflating: Dataset/images/1391.jpg  \n",
            "  inflating: Dataset/images/1392.jpg  \n",
            "  inflating: Dataset/images/1394.jpg  \n",
            "  inflating: Dataset/images/1398.jpg  \n",
            "  inflating: Dataset/images/14.jpg   \n",
            "  inflating: Dataset/images/1401.jpg  \n",
            "  inflating: Dataset/images/1403.jpg  \n",
            "  inflating: Dataset/images/1406.jpg  \n",
            "  inflating: Dataset/images/1407.jpg  \n",
            "  inflating: Dataset/images/1409.jpg  \n",
            "  inflating: Dataset/images/141.jpg  \n",
            "  inflating: Dataset/images/1410.jpg  \n",
            "  inflating: Dataset/images/1411.jpg  \n",
            "  inflating: Dataset/images/1412.jpg  \n",
            "  inflating: Dataset/images/1415.jpg  \n",
            "  inflating: Dataset/images/1419.jpg  \n",
            "  inflating: Dataset/images/142.jpg  \n",
            "  inflating: Dataset/images/1420.jpg  \n",
            "  inflating: Dataset/images/1421.jpg  \n",
            "  inflating: Dataset/images/1429.jpg  \n",
            "  inflating: Dataset/images/143.jpg  \n",
            "  inflating: Dataset/images/1430.jpg  \n",
            "  inflating: Dataset/images/1434.jpg  \n",
            "  inflating: Dataset/images/1441.jpg  \n",
            "  inflating: Dataset/images/1442.jpg  \n",
            "  inflating: Dataset/images/1443.jpg  \n",
            "  inflating: Dataset/images/1444.jpg  \n",
            "  inflating: Dataset/images/1445.jpg  \n",
            "  inflating: Dataset/images/1446.jpg  \n",
            "  inflating: Dataset/images/1450.jpg  \n",
            "  inflating: Dataset/images/1451.jpg  \n",
            "  inflating: Dataset/images/1452.jpg  \n",
            "  inflating: Dataset/images/1453.jpg  \n",
            "  inflating: Dataset/images/1457.jpg  \n",
            "  inflating: Dataset/images/1458.jpg  \n",
            "  inflating: Dataset/images/1463.jpg  \n",
            "  inflating: Dataset/images/1465.jpg  \n",
            "  inflating: Dataset/images/1471.jpg  \n",
            "  inflating: Dataset/images/1473.jpg  \n",
            "  inflating: Dataset/images/1478.jpg  \n",
            "  inflating: Dataset/images/1479.jpg  \n",
            "  inflating: Dataset/images/1481.jpg  \n",
            "  inflating: Dataset/images/1486.jpg  \n",
            "  inflating: Dataset/images/1487.jpg  \n",
            "  inflating: Dataset/images/1489.jpg  \n",
            "  inflating: Dataset/images/1490.jpg  \n",
            "  inflating: Dataset/images/1491.jpg  \n",
            "  inflating: Dataset/images/1492.jpg  \n",
            "  inflating: Dataset/images/1494.jpg  \n",
            "  inflating: Dataset/images/1496.jpg  \n",
            "  inflating: Dataset/images/1497.jpg  \n",
            "  inflating: Dataset/images/1499.jpg  \n",
            "  inflating: Dataset/images/1502.jpg  \n",
            "  inflating: Dataset/images/1503.jpg  \n",
            "  inflating: Dataset/images/1506.jpg  \n",
            "  inflating: Dataset/images/1509.jpg  \n",
            "  inflating: Dataset/images/151.jpg  \n",
            "  inflating: Dataset/images/1510.jpg  \n",
            "  inflating: Dataset/images/1511.jpg  \n",
            "  inflating: Dataset/images/1514.jpg  \n",
            "  inflating: Dataset/images/1518.jpg  \n",
            "  inflating: Dataset/images/1519.jpg  \n",
            "  inflating: Dataset/images/152.jpg  \n",
            "  inflating: Dataset/images/1523.jpg  \n",
            "  inflating: Dataset/images/1525.jpg  \n",
            "  inflating: Dataset/images/1527.jpg  \n",
            "  inflating: Dataset/images/153.jpg  \n",
            "  inflating: Dataset/images/1530.jpg  \n",
            "  inflating: Dataset/images/1531.jpg  \n",
            "  inflating: Dataset/images/1532.jpg  \n",
            "  inflating: Dataset/images/1533.jpg  \n",
            "  inflating: Dataset/images/1535.jpg  \n",
            "  inflating: Dataset/images/1536.jpg  \n",
            "  inflating: Dataset/images/1538.jpg  \n",
            "  inflating: Dataset/images/1540.jpg  \n",
            "  inflating: Dataset/images/1541.jpg  \n",
            "  inflating: Dataset/images/1542.jpg  \n",
            "  inflating: Dataset/images/1545.jpg  \n",
            "  inflating: Dataset/images/1546.jpg  \n",
            "  inflating: Dataset/images/1550.jpg  \n",
            "  inflating: Dataset/images/1553.jpg  \n",
            "  inflating: Dataset/images/1555.jpg  \n",
            "  inflating: Dataset/images/1556.jpg  \n",
            "  inflating: Dataset/images/1558.jpg  \n",
            "  inflating: Dataset/images/156.jpg  \n",
            "  inflating: Dataset/images/1561.jpg  \n",
            "  inflating: Dataset/images/1562.jpg  \n",
            "  inflating: Dataset/images/1567.jpg  \n",
            "  inflating: Dataset/images/1568.jpg  \n",
            "  inflating: Dataset/images/1569.jpg  \n",
            "  inflating: Dataset/images/1575.jpg  \n",
            "  inflating: Dataset/images/1577.jpg  \n",
            "  inflating: Dataset/images/1579.jpg  \n",
            "  inflating: Dataset/images/158.jpg  \n",
            "  inflating: Dataset/images/1581.jpg  \n",
            "  inflating: Dataset/images/1585.jpg  \n",
            "  inflating: Dataset/images/1588.jpg  \n",
            "  inflating: Dataset/images/1592.jpg  \n",
            "  inflating: Dataset/images/1596.jpg  \n",
            "  inflating: Dataset/images/1597.jpg  \n",
            "  inflating: Dataset/images/160.jpg  \n",
            "  inflating: Dataset/images/1600.jpg  \n",
            "  inflating: Dataset/images/1606.jpg  \n",
            "  inflating: Dataset/images/1608.jpg  \n",
            "  inflating: Dataset/images/1611.jpg  \n",
            "  inflating: Dataset/images/1616.jpg  \n",
            "  inflating: Dataset/images/1617.jpg  \n",
            "  inflating: Dataset/images/1618.jpg  \n",
            "  inflating: Dataset/images/1621.jpg  \n",
            "  inflating: Dataset/images/1622.jpg  \n",
            "  inflating: Dataset/images/1623.jpg  \n",
            "  inflating: Dataset/images/1624.jpg  \n",
            "  inflating: Dataset/images/1627.jpg  \n",
            "  inflating: Dataset/images/1630.jpg  \n",
            "  inflating: Dataset/images/1631.jpg  \n",
            "  inflating: Dataset/images/1633.jpg  \n",
            "  inflating: Dataset/images/1636.jpg  \n",
            "  inflating: Dataset/images/1637.jpg  \n",
            "  inflating: Dataset/images/1638.jpg  \n",
            "  inflating: Dataset/images/1641.jpg  \n",
            "  inflating: Dataset/images/1642.jpg  \n",
            "  inflating: Dataset/images/1644.jpg  \n",
            "  inflating: Dataset/images/1645.jpg  \n",
            "  inflating: Dataset/images/1647.jpg  \n",
            "  inflating: Dataset/images/1649.jpg  \n",
            "  inflating: Dataset/images/165.jpg  \n",
            "  inflating: Dataset/images/1651.jpg  \n",
            "  inflating: Dataset/images/1653.jpg  \n",
            "  inflating: Dataset/images/1654.jpg  \n",
            "  inflating: Dataset/images/1656.jpg  \n",
            "  inflating: Dataset/images/1659.jpg  \n",
            "  inflating: Dataset/images/1660.jpg  \n",
            "  inflating: Dataset/images/1665.jpg  \n",
            "  inflating: Dataset/images/1667.jpg  \n",
            "  inflating: Dataset/images/1668.jpg  \n",
            "  inflating: Dataset/images/1670.jpg  \n",
            "  inflating: Dataset/images/1672.jpg  \n",
            "  inflating: Dataset/images/1674.jpg  \n",
            "  inflating: Dataset/images/1676.jpg  \n",
            "  inflating: Dataset/images/1678.jpg  \n",
            "  inflating: Dataset/images/168.jpg  \n",
            "  inflating: Dataset/images/1680.jpg  \n",
            "  inflating: Dataset/images/1681.jpg  \n",
            "  inflating: Dataset/images/1682.jpg  \n",
            "  inflating: Dataset/images/1687.jpg  \n",
            "  inflating: Dataset/images/1697.jpg  \n",
            "  inflating: Dataset/images/1698.jpg  \n",
            "  inflating: Dataset/images/170.jpg  \n",
            "  inflating: Dataset/images/1703.jpg  \n",
            "  inflating: Dataset/images/1705.jpg  \n",
            "  inflating: Dataset/images/1706.jpg  \n",
            "  inflating: Dataset/images/1707.jpg  \n",
            "  inflating: Dataset/images/1709.jpg  \n",
            "  inflating: Dataset/images/1710.jpg  \n",
            "  inflating: Dataset/images/1713.jpg  \n",
            "  inflating: Dataset/images/1718.jpg  \n",
            "  inflating: Dataset/images/1728.jpg  \n",
            "  inflating: Dataset/images/1729.jpg  \n",
            "  inflating: Dataset/images/173.jpg  \n",
            "  inflating: Dataset/images/1730.jpg  \n",
            "  inflating: Dataset/images/1733.jpg  \n",
            "  inflating: Dataset/images/1735.jpg  \n",
            "  inflating: Dataset/images/1736.jpg  \n",
            "  inflating: Dataset/images/1737.jpg  \n",
            "  inflating: Dataset/images/174.jpg  \n",
            "  inflating: Dataset/images/1742.jpg  \n",
            "  inflating: Dataset/images/1745.jpg  \n",
            "  inflating: Dataset/images/1747.jpg  \n",
            "  inflating: Dataset/images/175.jpg  \n",
            "  inflating: Dataset/images/1752.jpg  \n",
            "  inflating: Dataset/images/1759.jpg  \n",
            "  inflating: Dataset/images/176.jpg  \n",
            "  inflating: Dataset/images/1761.jpg  \n",
            "  inflating: Dataset/images/1765.jpg  \n",
            "  inflating: Dataset/images/1766.jpg  \n",
            "  inflating: Dataset/images/177.jpg  \n",
            "  inflating: Dataset/images/1770.jpg  \n",
            "  inflating: Dataset/images/1772.jpg  \n",
            "  inflating: Dataset/images/1774.jpg  \n",
            "  inflating: Dataset/images/178.jpg  \n",
            "  inflating: Dataset/images/1781.jpg  \n",
            "  inflating: Dataset/images/1785.jpg  \n",
            "  inflating: Dataset/images/1786.jpg  \n",
            "  inflating: Dataset/images/1789.jpg  \n",
            "  inflating: Dataset/images/179.jpg  \n",
            "  inflating: Dataset/images/1790.jpg  \n",
            "  inflating: Dataset/images/1792.jpg  \n",
            "  inflating: Dataset/images/1793.jpg  \n",
            "  inflating: Dataset/images/1794.jpg  \n",
            "  inflating: Dataset/images/1799.jpg  \n",
            "  inflating: Dataset/images/18.jpg   \n",
            "  inflating: Dataset/images/180.jpg  \n",
            "  inflating: Dataset/images/1800.jpg  \n",
            "  inflating: Dataset/images/1801.jpg  \n",
            "  inflating: Dataset/images/1805.jpg  \n",
            "  inflating: Dataset/images/1806.jpg  \n",
            "  inflating: Dataset/images/1808.jpg  \n",
            "  inflating: Dataset/images/1809.jpg  \n",
            "  inflating: Dataset/images/181.jpg  \n",
            "  inflating: Dataset/images/1810.jpg  \n",
            "  inflating: Dataset/images/1813.jpg  \n",
            "  inflating: Dataset/images/1814.jpg  \n",
            "  inflating: Dataset/images/1819.jpg  \n",
            "  inflating: Dataset/images/1823.jpg  \n",
            "  inflating: Dataset/images/1824.jpg  \n",
            "  inflating: Dataset/images/1826.jpg  \n",
            "  inflating: Dataset/images/1830.jpg  \n",
            "  inflating: Dataset/images/1834.jpg  \n",
            "  inflating: Dataset/images/1839.jpg  \n",
            "  inflating: Dataset/images/1840.jpg  \n",
            "  inflating: Dataset/images/1843.jpg  \n",
            "  inflating: Dataset/images/1846.jpg  \n",
            "  inflating: Dataset/images/185.jpg  \n",
            "  inflating: Dataset/images/1850.jpg  \n",
            "  inflating: Dataset/images/1851.jpg  \n",
            "  inflating: Dataset/images/1854.jpg  \n",
            "  inflating: Dataset/images/1858.jpg  \n",
            "  inflating: Dataset/images/1861.jpg  \n",
            "  inflating: Dataset/images/1862.jpg  \n",
            "  inflating: Dataset/images/1864.jpg  \n",
            "  inflating: Dataset/images/1865.jpg  \n",
            "  inflating: Dataset/images/1866.jpg  \n",
            "  inflating: Dataset/images/1867.jpg  \n",
            "  inflating: Dataset/images/187.jpg  \n",
            "  inflating: Dataset/images/1870.jpg  \n",
            "  inflating: Dataset/images/1871.jpg  \n",
            "  inflating: Dataset/images/1872.jpg  \n",
            "  inflating: Dataset/images/1876.jpg  \n",
            "  inflating: Dataset/images/1879.jpg  \n",
            "  inflating: Dataset/images/1883.jpg  \n",
            "  inflating: Dataset/images/1884.jpg  \n",
            "  inflating: Dataset/images/1885.jpg  \n",
            "  inflating: Dataset/images/1894.jpg  \n",
            "  inflating: Dataset/images/1896.jpg  \n",
            "  inflating: Dataset/images/1903.jpg  \n",
            "  inflating: Dataset/images/1908.jpg  \n",
            "  inflating: Dataset/images/1909.jpg  \n",
            "  inflating: Dataset/images/1911.jpg  \n",
            "  inflating: Dataset/images/1916.jpg  \n",
            "  inflating: Dataset/images/1919.jpg  \n",
            "  inflating: Dataset/images/1920.jpg  \n",
            "  inflating: Dataset/images/1922.jpg  \n",
            "  inflating: Dataset/images/1927.jpg  \n",
            "  inflating: Dataset/images/1928.jpg  \n",
            "  inflating: Dataset/images/1929.jpg  \n",
            "  inflating: Dataset/images/1930.jpg  \n",
            "  inflating: Dataset/images/1931.jpg  \n",
            "  inflating: Dataset/images/1932.jpg  \n",
            "  inflating: Dataset/images/1939.jpg  \n",
            "  inflating: Dataset/images/1940.jpg  \n",
            "  inflating: Dataset/images/1943.jpg  \n",
            "  inflating: Dataset/images/1944.jpg  \n",
            "  inflating: Dataset/images/1947.jpg  \n",
            "  inflating: Dataset/images/195.jpg  \n",
            "  inflating: Dataset/images/1951.jpg  \n",
            "  inflating: Dataset/images/1953.jpg  \n",
            "  inflating: Dataset/images/1954.jpg  \n",
            "  inflating: Dataset/images/1955.jpg  \n",
            "  inflating: Dataset/images/1958.jpg  \n",
            "  inflating: Dataset/images/1959.jpg  \n",
            "  inflating: Dataset/images/196.jpg  \n",
            "  inflating: Dataset/images/1962.jpg  \n",
            "  inflating: Dataset/images/1964.jpg  \n",
            "  inflating: Dataset/images/1966.jpg  \n",
            "  inflating: Dataset/images/1967.jpg  \n",
            "  inflating: Dataset/images/1968.jpg  \n",
            "  inflating: Dataset/images/197.jpg  \n",
            "  inflating: Dataset/images/1970.jpg  \n",
            "  inflating: Dataset/images/1977.jpg  \n",
            "  inflating: Dataset/images/1980.jpg  \n",
            "  inflating: Dataset/images/1981.jpg  \n",
            "  inflating: Dataset/images/1982.jpg  \n",
            "  inflating: Dataset/images/1983.jpg  \n",
            "  inflating: Dataset/images/199.jpg  \n",
            "  inflating: Dataset/images/1993.jpg  \n",
            "  inflating: Dataset/images/1999.jpg  \n",
            "  inflating: Dataset/images/20.jpg   \n",
            "  inflating: Dataset/images/200.jpg  \n",
            "  inflating: Dataset/images/2003.jpg  \n",
            "  inflating: Dataset/images/2005.jpg  \n",
            "  inflating: Dataset/images/2008.jpg  \n",
            "  inflating: Dataset/images/2009.jpg  \n",
            "  inflating: Dataset/images/2011.jpg  \n",
            "  inflating: Dataset/images/2012.jpg  \n",
            "  inflating: Dataset/images/2013.jpg  \n",
            "  inflating: Dataset/images/2014.jpg  \n",
            "  inflating: Dataset/images/2018.jpg  \n",
            "  inflating: Dataset/images/2019.jpg  \n",
            "  inflating: Dataset/images/2020.jpg  \n",
            "  inflating: Dataset/images/2022.jpg  \n",
            "  inflating: Dataset/images/2023.jpg  \n",
            "  inflating: Dataset/images/2024.jpg  \n",
            "  inflating: Dataset/images/2025.jpg  \n",
            "  inflating: Dataset/images/2028.jpg  \n",
            "  inflating: Dataset/images/2029.jpg  \n",
            "  inflating: Dataset/images/2031.jpg  \n",
            "  inflating: Dataset/images/2032.jpg  \n",
            "  inflating: Dataset/images/2033.jpg  \n",
            "  inflating: Dataset/images/2036.jpg  \n",
            "  inflating: Dataset/images/2037.jpg  \n",
            "  inflating: Dataset/images/2040.jpg  \n",
            "  inflating: Dataset/images/2041.jpg  \n",
            "  inflating: Dataset/images/2042.jpg  \n",
            "  inflating: Dataset/images/2044.jpg  \n",
            "  inflating: Dataset/images/2046.jpg  \n",
            "  inflating: Dataset/images/2047.jpg  \n",
            "  inflating: Dataset/images/205.jpg  \n",
            "  inflating: Dataset/images/2054.jpg  \n",
            "  inflating: Dataset/images/206.jpg  \n",
            "  inflating: Dataset/images/2061.jpg  \n",
            "  inflating: Dataset/images/2064.jpg  \n",
            "  inflating: Dataset/images/2065.jpg  \n",
            "  inflating: Dataset/images/2066.jpg  \n",
            "  inflating: Dataset/images/2070.jpg  \n",
            "  inflating: Dataset/images/2071.jpg  \n",
            "  inflating: Dataset/images/2073.jpg  \n",
            "  inflating: Dataset/images/2075.jpg  \n",
            "  inflating: Dataset/images/2080.jpg  \n",
            "  inflating: Dataset/images/2082.jpg  \n",
            "  inflating: Dataset/images/2085.jpg  \n",
            "  inflating: Dataset/images/2087.jpg  \n",
            "  inflating: Dataset/images/2093.jpg  \n",
            "  inflating: Dataset/images/2094.jpg  \n",
            "  inflating: Dataset/images/210.jpg  \n",
            "  inflating: Dataset/images/2101.jpg  \n",
            "  inflating: Dataset/images/2103.jpg  \n",
            "  inflating: Dataset/images/2104.jpg  \n",
            "  inflating: Dataset/images/2108.jpg  \n",
            "  inflating: Dataset/images/2109.jpg  \n",
            "  inflating: Dataset/images/211.jpg  \n",
            "  inflating: Dataset/images/2110.jpg  \n",
            "  inflating: Dataset/images/2112.jpg  \n",
            "  inflating: Dataset/images/2113.jpg  \n",
            "  inflating: Dataset/images/2114.jpg  \n",
            "  inflating: Dataset/images/2117.jpg  \n",
            "  inflating: Dataset/images/212.jpg  \n",
            "  inflating: Dataset/images/2121.jpg  \n",
            "  inflating: Dataset/images/2123.jpg  \n",
            "  inflating: Dataset/images/2127.jpg  \n",
            "  inflating: Dataset/images/2128.jpg  \n",
            "  inflating: Dataset/images/213.jpg  \n",
            "  inflating: Dataset/images/2130.jpg  \n",
            "  inflating: Dataset/images/2132.jpg  \n",
            "  inflating: Dataset/images/2136.jpg  \n",
            "  inflating: Dataset/images/2137.jpg  \n",
            "  inflating: Dataset/images/2140.jpg  \n",
            "  inflating: Dataset/images/2142.jpg  \n",
            "  inflating: Dataset/images/2144.jpg  \n",
            "  inflating: Dataset/images/2145.jpg  \n",
            "  inflating: Dataset/images/2147.jpg  \n",
            "  inflating: Dataset/images/2148.jpg  \n",
            "  inflating: Dataset/images/2149.jpg  \n",
            "  inflating: Dataset/images/2154.jpg  \n",
            "  inflating: Dataset/images/2158.jpg  \n",
            "  inflating: Dataset/images/2159.jpg  \n",
            "  inflating: Dataset/images/2160.jpg  \n",
            "  inflating: Dataset/images/2164.jpg  \n",
            "  inflating: Dataset/images/2165.jpg  \n",
            "  inflating: Dataset/images/2166.jpg  \n",
            "  inflating: Dataset/images/2167.jpg  \n",
            "  inflating: Dataset/images/2173.jpg  \n",
            "  inflating: Dataset/images/2174.jpg  \n",
            "  inflating: Dataset/images/2176.jpg  \n",
            "  inflating: Dataset/images/2180.jpg  \n",
            "  inflating: Dataset/images/2181.jpg  \n",
            "  inflating: Dataset/images/2182.jpg  \n",
            "  inflating: Dataset/images/2184.jpg  \n",
            "  inflating: Dataset/images/2189.jpg  \n",
            "  inflating: Dataset/images/2193.jpg  \n",
            "  inflating: Dataset/images/2195.jpg  \n",
            "  inflating: Dataset/images/2196.jpg  \n",
            "  inflating: Dataset/images/2197.jpg  \n",
            "  inflating: Dataset/images/22.jpg   \n",
            "  inflating: Dataset/images/2201.jpg  \n",
            "  inflating: Dataset/images/2205.jpg  \n",
            "  inflating: Dataset/images/2209.jpg  \n",
            "  inflating: Dataset/images/2211.jpg  \n",
            "  inflating: Dataset/images/2215.jpg  \n",
            "  inflating: Dataset/images/2218.jpg  \n",
            "  inflating: Dataset/images/222.jpg  \n",
            "  inflating: Dataset/images/2223.jpg  \n",
            "  inflating: Dataset/images/2230.jpg  \n",
            "  inflating: Dataset/images/2231.jpg  \n",
            "  inflating: Dataset/images/2232.jpg  \n",
            "  inflating: Dataset/images/2234.jpg  \n",
            "  inflating: Dataset/images/2237.jpg  \n",
            "  inflating: Dataset/images/2239.jpg  \n",
            "  inflating: Dataset/images/224.jpg  \n",
            "  inflating: Dataset/images/2241.jpg  \n",
            "  inflating: Dataset/images/2244.jpg  \n",
            "  inflating: Dataset/images/2245.jpg  \n",
            "  inflating: Dataset/images/2246.jpg  \n",
            "  inflating: Dataset/images/2247.jpg  \n",
            "  inflating: Dataset/images/2250.jpg  \n",
            "  inflating: Dataset/images/2252.jpg  \n",
            "  inflating: Dataset/images/2255.jpg  \n",
            "  inflating: Dataset/images/2258.jpg  \n",
            "  inflating: Dataset/images/2260.jpg  \n",
            "  inflating: Dataset/images/2262.jpg  \n",
            "  inflating: Dataset/images/2263.jpg  \n",
            "  inflating: Dataset/images/2264.jpg  \n",
            "  inflating: Dataset/images/2265.jpg  \n",
            "  inflating: Dataset/images/2267.jpg  \n",
            "  inflating: Dataset/images/2268.jpg  \n",
            "  inflating: Dataset/images/2271.jpg  \n",
            "  inflating: Dataset/images/2272.jpg  \n",
            "  inflating: Dataset/images/2273.jpg  \n",
            "  inflating: Dataset/images/2277.jpg  \n",
            "  inflating: Dataset/images/2278.jpg  \n",
            "  inflating: Dataset/images/2280.jpg  \n",
            "  inflating: Dataset/images/2282.jpg  \n",
            "  inflating: Dataset/images/2288.jpg  \n",
            "  inflating: Dataset/images/2289.jpg  \n",
            "  inflating: Dataset/images/229.jpg  \n",
            "  inflating: Dataset/images/2290.jpg  \n",
            "  inflating: Dataset/images/2292.jpg  \n",
            "  inflating: Dataset/images/2293.jpg  \n",
            "  inflating: Dataset/images/2294.jpg  \n",
            "  inflating: Dataset/images/2296.jpg  \n",
            "  inflating: Dataset/images/2299.jpg  \n",
            "  inflating: Dataset/images/2301.jpg  \n",
            "  inflating: Dataset/images/2303.jpg  \n",
            "  inflating: Dataset/images/2304.jpg  \n",
            "  inflating: Dataset/images/2307.jpg  \n",
            "  inflating: Dataset/images/2308.jpg  \n",
            "  inflating: Dataset/images/2309.jpg  \n",
            "  inflating: Dataset/images/231.jpg  \n",
            "  inflating: Dataset/images/2312.jpg  \n",
            "  inflating: Dataset/images/2314.jpg  \n",
            "  inflating: Dataset/images/232.jpg  \n",
            "  inflating: Dataset/images/2320.jpg  \n",
            "  inflating: Dataset/images/2322.jpg  \n",
            "  inflating: Dataset/images/2323.jpg  \n",
            "  inflating: Dataset/images/2326.jpg  \n",
            "  inflating: Dataset/images/2328.jpg  \n",
            "  inflating: Dataset/images/2330.jpg  \n",
            "  inflating: Dataset/images/2333.jpg  \n",
            "  inflating: Dataset/images/2334.jpg  \n",
            "  inflating: Dataset/images/2335.jpg  \n",
            "  inflating: Dataset/images/2338.jpg  \n",
            "  inflating: Dataset/images/2341.jpg  \n",
            "  inflating: Dataset/images/2342.jpg  \n",
            "  inflating: Dataset/images/2343.jpg  \n",
            "  inflating: Dataset/images/2344.jpg  \n",
            "  inflating: Dataset/images/2345.jpg  \n",
            "  inflating: Dataset/images/2347.jpg  \n",
            "  inflating: Dataset/images/2348.jpg  \n",
            "  inflating: Dataset/images/237.jpg  \n",
            "  inflating: Dataset/images/240.jpg  \n",
            "  inflating: Dataset/images/242.jpg  \n",
            "  inflating: Dataset/images/243.jpg  \n",
            "  inflating: Dataset/images/244.jpg  \n",
            "  inflating: Dataset/images/245.jpg  \n",
            "  inflating: Dataset/images/249.jpg  \n",
            "  inflating: Dataset/images/25.jpg   \n",
            "  inflating: Dataset/images/250.jpg  \n",
            "  inflating: Dataset/images/251.jpg  \n",
            "  inflating: Dataset/images/252.jpg  \n",
            "  inflating: Dataset/images/253.jpg  \n",
            "  inflating: Dataset/images/256.jpg  \n",
            "  inflating: Dataset/images/257.jpg  \n",
            "  inflating: Dataset/images/260.jpg  \n",
            "  inflating: Dataset/images/261.jpg  \n",
            "  inflating: Dataset/images/264.jpg  \n",
            "  inflating: Dataset/images/268.jpg  \n",
            "  inflating: Dataset/images/270.jpg  \n",
            "  inflating: Dataset/images/271.jpg  \n",
            "  inflating: Dataset/images/276.jpg  \n",
            "  inflating: Dataset/images/277.jpg  \n",
            "  inflating: Dataset/images/278.jpg  \n",
            "  inflating: Dataset/images/279.jpg  \n",
            "  inflating: Dataset/images/28.jpg   \n",
            "  inflating: Dataset/images/280.jpg  \n",
            "  inflating: Dataset/images/283.jpg  \n",
            "  inflating: Dataset/images/288.jpg  \n",
            "  inflating: Dataset/images/294.jpg  \n",
            "  inflating: Dataset/images/296.jpg  \n",
            "  inflating: Dataset/images/299.jpg  \n",
            "  inflating: Dataset/images/30.jpg   \n",
            "  inflating: Dataset/images/300.jpg  \n",
            "  inflating: Dataset/images/301.jpg  \n",
            "  inflating: Dataset/images/302.jpg  \n",
            "  inflating: Dataset/images/303.jpg  \n",
            "  inflating: Dataset/images/306.jpg  \n",
            "  inflating: Dataset/images/307.jpg  \n",
            "  inflating: Dataset/images/310.jpg  \n",
            "  inflating: Dataset/images/311.jpg  \n",
            "  inflating: Dataset/images/313.jpg  \n",
            "  inflating: Dataset/images/316.jpg  \n",
            "  inflating: Dataset/images/317.jpg  \n",
            "  inflating: Dataset/images/32.jpg   \n",
            "  inflating: Dataset/images/322.jpg  \n",
            "  inflating: Dataset/images/329.jpg  \n",
            "  inflating: Dataset/images/332.jpg  \n",
            "  inflating: Dataset/images/334.jpg  \n",
            "  inflating: Dataset/images/336.jpg  \n",
            "  inflating: Dataset/images/337.jpg  \n",
            "  inflating: Dataset/images/338.jpg  \n",
            "  inflating: Dataset/images/340.jpg  \n",
            "  inflating: Dataset/images/342.jpg  \n",
            "  inflating: Dataset/images/343.jpg  \n",
            "  inflating: Dataset/images/344.jpg  \n",
            "  inflating: Dataset/images/346.jpg  \n",
            "  inflating: Dataset/images/348.jpg  \n",
            "  inflating: Dataset/images/351.jpg  \n",
            "  inflating: Dataset/images/355.jpg  \n",
            "  inflating: Dataset/images/356.jpg  \n",
            "  inflating: Dataset/images/357.jpg  \n",
            "  inflating: Dataset/images/362.jpg  \n",
            "  inflating: Dataset/images/365.jpg  \n",
            "  inflating: Dataset/images/37.jpg   \n",
            "  inflating: Dataset/images/371.jpg  \n",
            "  inflating: Dataset/images/374.jpg  \n",
            "  inflating: Dataset/images/377.jpg  \n",
            "  inflating: Dataset/images/38.jpg   \n",
            "  inflating: Dataset/images/380.jpg  \n",
            "  inflating: Dataset/images/381.jpg  \n",
            "  inflating: Dataset/images/383.jpg  \n",
            "  inflating: Dataset/images/389.jpg  \n",
            "  inflating: Dataset/images/39.jpg   \n",
            "  inflating: Dataset/images/392.jpg  \n",
            "  inflating: Dataset/images/394.jpg  \n",
            "  inflating: Dataset/images/395.jpg  \n",
            "  inflating: Dataset/images/398.jpg  \n",
            "  inflating: Dataset/images/399.jpg  \n",
            "  inflating: Dataset/images/4.jpg    \n",
            "  inflating: Dataset/images/404.jpg  \n",
            "  inflating: Dataset/images/405.jpg  \n",
            "  inflating: Dataset/images/407.jpg  \n",
            "  inflating: Dataset/images/408.jpg  \n",
            "  inflating: Dataset/images/409.jpg  \n",
            "  inflating: Dataset/images/41.jpg   \n",
            "  inflating: Dataset/images/413.jpg  \n",
            "  inflating: Dataset/images/418.jpg  \n",
            "  inflating: Dataset/images/424.jpg  \n",
            "  inflating: Dataset/images/427.jpg  \n",
            "  inflating: Dataset/images/428.jpg  \n",
            "  inflating: Dataset/images/43.jpg   \n",
            "  inflating: Dataset/images/430.jpg  \n",
            "  inflating: Dataset/images/434.jpg  \n",
            "  inflating: Dataset/images/436.jpg  \n",
            "  inflating: Dataset/images/437.jpg  \n",
            "  inflating: Dataset/images/438.jpg  \n",
            "  inflating: Dataset/images/44.jpg   \n",
            "  inflating: Dataset/images/443.jpg  \n",
            "  inflating: Dataset/images/444.jpg  \n",
            "  inflating: Dataset/images/446.jpg  \n",
            "  inflating: Dataset/images/45.jpg   \n",
            "  inflating: Dataset/images/450.jpg  \n",
            "  inflating: Dataset/images/453.jpg  \n",
            "  inflating: Dataset/images/455.jpg  \n",
            "  inflating: Dataset/images/457.jpg  \n",
            "  inflating: Dataset/images/459.jpg  \n",
            "  inflating: Dataset/images/46.jpg   \n",
            "  inflating: Dataset/images/460.jpg  \n",
            "  inflating: Dataset/images/461.jpg  \n",
            "  inflating: Dataset/images/462.jpg  \n",
            "  inflating: Dataset/images/466.jpg  \n",
            "  inflating: Dataset/images/467.jpg  \n",
            "  inflating: Dataset/images/47.jpg   \n",
            "  inflating: Dataset/images/475.jpg  \n",
            "  inflating: Dataset/images/477.jpg  \n",
            "  inflating: Dataset/images/482.jpg  \n",
            "  inflating: Dataset/images/484.jpg  \n",
            "  inflating: Dataset/images/490.jpg  \n",
            "  inflating: Dataset/images/491.jpg  \n",
            "  inflating: Dataset/images/492.jpg  \n",
            "  inflating: Dataset/images/493.jpg  \n",
            "  inflating: Dataset/images/495.jpg  \n",
            "  inflating: Dataset/images/498.jpg  \n",
            "  inflating: Dataset/images/50.jpg   \n",
            "  inflating: Dataset/images/502.jpg  \n",
            "  inflating: Dataset/images/504.jpg  \n",
            "  inflating: Dataset/images/505.jpg  \n",
            "  inflating: Dataset/images/509.jpg  \n",
            "  inflating: Dataset/images/510.jpg  \n",
            "  inflating: Dataset/images/513.jpg  \n",
            "  inflating: Dataset/images/514.jpg  \n",
            "  inflating: Dataset/images/517.jpg  \n",
            "  inflating: Dataset/images/518.jpg  \n",
            "  inflating: Dataset/images/519.jpg  \n",
            "  inflating: Dataset/images/522.jpg  \n",
            "  inflating: Dataset/images/523.jpg  \n",
            "  inflating: Dataset/images/528.jpg  \n",
            "  inflating: Dataset/images/532.jpg  \n",
            "  inflating: Dataset/images/536.jpg  \n",
            "  inflating: Dataset/images/538.jpg  \n",
            "  inflating: Dataset/images/539.jpg  \n",
            "  inflating: Dataset/images/541.jpg  \n",
            "  inflating: Dataset/images/542.jpg  \n",
            "  inflating: Dataset/images/545.jpg  \n",
            "  inflating: Dataset/images/548.jpg  \n",
            "  inflating: Dataset/images/549.jpg  \n",
            "  inflating: Dataset/images/553.jpg  \n",
            "  inflating: Dataset/images/555.jpg  \n",
            "  inflating: Dataset/images/565.jpg  \n",
            "  inflating: Dataset/images/569.jpg  \n",
            "  inflating: Dataset/images/57.jpg   \n",
            "  inflating: Dataset/images/571.jpg  \n",
            "  inflating: Dataset/images/572.jpg  \n",
            "  inflating: Dataset/images/574.jpg  \n",
            "  inflating: Dataset/images/576.jpg  \n",
            "  inflating: Dataset/images/577.jpg  \n",
            "  inflating: Dataset/images/578.jpg  \n",
            "  inflating: Dataset/images/582.jpg  \n",
            "  inflating: Dataset/images/583.jpg  \n",
            "  inflating: Dataset/images/590.jpg  \n",
            "  inflating: Dataset/images/592.jpg  \n",
            "  inflating: Dataset/images/593.jpg  \n",
            "  inflating: Dataset/images/594.jpg  \n",
            "  inflating: Dataset/images/595.jpg  \n",
            "  inflating: Dataset/images/596.jpg  \n",
            "  inflating: Dataset/images/603.jpg  \n",
            "  inflating: Dataset/images/606.jpg  \n",
            "  inflating: Dataset/images/607.jpg  \n",
            "  inflating: Dataset/images/608.jpg  \n",
            "  inflating: Dataset/images/609.jpg  \n",
            "  inflating: Dataset/images/61.jpg   \n",
            "  inflating: Dataset/images/613.jpg  \n",
            "  inflating: Dataset/images/614.jpg  \n",
            "  inflating: Dataset/images/615.jpg  \n",
            "  inflating: Dataset/images/616.jpg  \n",
            "  inflating: Dataset/images/617.jpg  \n",
            "  inflating: Dataset/images/618.jpg  \n",
            "  inflating: Dataset/images/62.jpg   \n",
            "  inflating: Dataset/images/622.jpg  \n",
            "  inflating: Dataset/images/624.jpg  \n",
            "  inflating: Dataset/images/625.jpg  \n",
            "  inflating: Dataset/images/626.jpg  \n",
            "  inflating: Dataset/images/628.jpg  \n",
            "  inflating: Dataset/images/629.jpg  \n",
            "  inflating: Dataset/images/631.jpg  \n",
            "  inflating: Dataset/images/632.jpg  \n",
            "  inflating: Dataset/images/635.jpg  \n",
            "  inflating: Dataset/images/636.jpg  \n",
            "  inflating: Dataset/images/638.jpg  \n",
            "  inflating: Dataset/images/639.jpg  \n",
            "  inflating: Dataset/images/640.jpg  \n",
            "  inflating: Dataset/images/642.jpg  \n",
            "  inflating: Dataset/images/643.jpg  \n",
            "  inflating: Dataset/images/65.jpg   \n",
            "  inflating: Dataset/images/651.jpg  \n",
            "  inflating: Dataset/images/652.jpg  \n",
            "  inflating: Dataset/images/654.jpg  \n",
            "  inflating: Dataset/images/655.jpg  \n",
            "  inflating: Dataset/images/657.jpg  \n",
            "  inflating: Dataset/images/658.jpg  \n",
            "  inflating: Dataset/images/66.jpg   \n",
            "  inflating: Dataset/images/664.jpg  \n",
            "  inflating: Dataset/images/671.jpg  \n",
            "  inflating: Dataset/images/673.jpg  \n",
            "  inflating: Dataset/images/677.jpg  \n",
            "  inflating: Dataset/images/682.jpg  \n",
            "  inflating: Dataset/images/684.jpg  \n",
            "  inflating: Dataset/images/685.jpg  \n",
            "  inflating: Dataset/images/687.jpg  \n",
            "  inflating: Dataset/images/688.jpg  \n",
            "  inflating: Dataset/images/694.jpg  \n",
            "  inflating: Dataset/images/699.jpg  \n",
            "  inflating: Dataset/images/701.jpg  \n",
            "  inflating: Dataset/images/702.jpg  \n",
            "  inflating: Dataset/images/705.jpg  \n",
            "  inflating: Dataset/images/707.jpg  \n",
            "  inflating: Dataset/images/709.jpg  \n",
            "  inflating: Dataset/images/71.jpg   \n",
            "  inflating: Dataset/images/710.jpg  \n",
            "  inflating: Dataset/images/711.jpg  \n",
            "  inflating: Dataset/images/713.jpg  \n",
            "  inflating: Dataset/images/714.jpg  \n",
            "  inflating: Dataset/images/716.jpg  \n",
            "  inflating: Dataset/images/717.jpg  \n",
            "  inflating: Dataset/images/718.jpg  \n",
            "  inflating: Dataset/images/722.jpg  \n",
            "  inflating: Dataset/images/728.jpg  \n",
            "  inflating: Dataset/images/73.jpg   \n",
            "  inflating: Dataset/images/734.jpg  \n",
            "  inflating: Dataset/images/735.jpg  \n",
            "  inflating: Dataset/images/736.jpg  \n",
            "  inflating: Dataset/images/739.jpg  \n",
            "  inflating: Dataset/images/740.jpg  \n",
            "  inflating: Dataset/images/742.jpg  \n",
            "  inflating: Dataset/images/746.jpg  \n",
            "  inflating: Dataset/images/747.jpg  \n",
            "  inflating: Dataset/images/749.jpg  \n",
            "  inflating: Dataset/images/752.jpg  \n",
            "  inflating: Dataset/images/760.jpg  \n",
            "  inflating: Dataset/images/761.jpg  \n",
            "  inflating: Dataset/images/762.jpg  \n",
            "  inflating: Dataset/images/763.jpg  \n",
            "  inflating: Dataset/images/765.jpg  \n",
            "  inflating: Dataset/images/766.jpg  \n",
            "  inflating: Dataset/images/77.jpg   \n",
            "  inflating: Dataset/images/775.jpg  \n",
            "  inflating: Dataset/images/776.jpg  \n",
            "  inflating: Dataset/images/778.jpg  \n",
            "  inflating: Dataset/images/779.jpg  \n",
            "  inflating: Dataset/images/78.jpg   \n",
            "  inflating: Dataset/images/781.jpg  \n",
            "  inflating: Dataset/images/784.jpg  \n",
            "  inflating: Dataset/images/785.jpg  \n",
            "  inflating: Dataset/images/786.jpg  \n",
            "  inflating: Dataset/images/788.jpg  \n",
            "  inflating: Dataset/images/792.jpg  \n",
            "  inflating: Dataset/images/794.jpg  \n",
            "  inflating: Dataset/images/798.jpg  \n",
            "  inflating: Dataset/images/8.jpg    \n",
            "  inflating: Dataset/images/800.jpg  \n",
            "  inflating: Dataset/images/806.jpg  \n",
            "  inflating: Dataset/images/808.jpg  \n",
            "  inflating: Dataset/images/809.jpg  \n",
            "  inflating: Dataset/images/81.jpg   \n",
            "  inflating: Dataset/images/810.jpg  \n",
            "  inflating: Dataset/images/811.jpg  \n",
            "  inflating: Dataset/images/812.jpg  \n",
            "  inflating: Dataset/images/813.jpg  \n",
            "  inflating: Dataset/images/814.jpg  \n",
            "  inflating: Dataset/images/817.jpg  \n",
            "  inflating: Dataset/images/819.jpg  \n",
            "  inflating: Dataset/images/82.jpg   \n",
            "  inflating: Dataset/images/822.jpg  \n",
            "  inflating: Dataset/images/824.jpg  \n",
            "  inflating: Dataset/images/83.jpg   \n",
            "  inflating: Dataset/images/830.jpg  \n",
            "  inflating: Dataset/images/831.jpg  \n",
            "  inflating: Dataset/images/832.jpg  \n",
            "  inflating: Dataset/images/833.jpg  \n",
            "  inflating: Dataset/images/835.jpg  \n",
            "  inflating: Dataset/images/837.jpg  \n",
            "  inflating: Dataset/images/839.jpg  \n",
            "  inflating: Dataset/images/84.jpg   \n",
            "  inflating: Dataset/images/841.jpg  \n",
            "  inflating: Dataset/images/844.jpg  \n",
            "  inflating: Dataset/images/1018.jpg  \n",
            "  inflating: Dataset/images/1021.jpg  \n",
            "  inflating: Dataset/images/1028.jpg  \n",
            "  inflating: Dataset/images/1030.jpg  \n",
            "  inflating: Dataset/images/1038.jpg  \n",
            "  inflating: Dataset/images/1039.jpg  \n",
            "  inflating: Dataset/images/1051.jpg  \n",
            "  inflating: Dataset/images/1059.jpg  \n",
            "  inflating: Dataset/images/1063.jpg  \n",
            "  inflating: Dataset/images/1065.jpg  \n",
            "  inflating: Dataset/images/1069.jpg  \n",
            "  inflating: Dataset/images/1072.jpg  \n",
            "  inflating: Dataset/images/1078.jpg  \n",
            "  inflating: Dataset/images/1084.jpg  \n",
            "  inflating: Dataset/images/1086.jpg  \n",
            "  inflating: Dataset/images/1087.jpg  \n",
            "  inflating: Dataset/images/1089.jpg  \n",
            "  inflating: Dataset/images/1092.jpg  \n",
            "  inflating: Dataset/images/110.jpg  \n",
            "  inflating: Dataset/images/1111.jpg  \n",
            "  inflating: Dataset/images/1115.jpg  \n",
            "  inflating: Dataset/images/1126.jpg  \n",
            "  inflating: Dataset/images/1130.jpg  \n",
            "  inflating: Dataset/images/1137.jpg  \n",
            "  inflating: Dataset/images/1153.jpg  \n",
            "  inflating: Dataset/images/1176.jpg  \n",
            "  inflating: Dataset/images/1182.jpg  \n",
            "  inflating: Dataset/images/1198.jpg  \n",
            "  inflating: Dataset/images/1202.jpg  \n",
            "  inflating: Dataset/images/1204.jpg  \n",
            "  inflating: Dataset/images/1205.jpg  \n",
            "  inflating: Dataset/images/1219.jpg  \n",
            "  inflating: Dataset/images/1238.jpg  \n",
            "  inflating: Dataset/images/1239.jpg  \n",
            "  inflating: Dataset/images/1248.jpg  \n",
            "  inflating: Dataset/images/1257.jpg  \n",
            "  inflating: Dataset/images/1261.jpg  \n",
            "  inflating: Dataset/images/1264.jpg  \n",
            "  inflating: Dataset/images/1267.jpg  \n",
            "  inflating: Dataset/images/1268.jpg  \n",
            "  inflating: Dataset/images/1273.jpg  \n",
            "  inflating: Dataset/images/128.jpg  \n",
            "  inflating: Dataset/images/1282.jpg  \n",
            "  inflating: Dataset/images/1295.jpg  \n",
            "  inflating: Dataset/images/130.jpg  \n",
            "  inflating: Dataset/images/750.jpg  \n",
            "  inflating: Dataset/images/751.jpg  \n",
            "  inflating: Dataset/images/769.jpg  \n",
            "  inflating: Dataset/images/847.jpg  \n",
            "  inflating: Dataset/images/848.jpg  \n",
            "  inflating: Dataset/images/855.jpg  \n",
            "  inflating: Dataset/images/857.jpg  \n",
            "  inflating: Dataset/images/862.jpg  \n",
            "  inflating: Dataset/images/863.jpg  \n",
            "  inflating: Dataset/images/864.jpg  \n",
            "  inflating: Dataset/images/865.jpg  \n",
            "  inflating: Dataset/images/866.jpg  \n",
            "  inflating: Dataset/images/868.jpg  \n",
            "  inflating: Dataset/images/871.jpg  \n",
            "  inflating: Dataset/images/872.jpg  \n",
            "  inflating: Dataset/images/875.jpg  \n",
            "  inflating: Dataset/images/877.jpg  \n",
            "  inflating: Dataset/images/878.jpg  \n",
            "  inflating: Dataset/images/880.jpg  \n",
            "  inflating: Dataset/images/882.jpg  \n",
            "  inflating: Dataset/images/886.jpg  \n",
            "  inflating: Dataset/images/888.jpg  \n",
            "  inflating: Dataset/images/889.jpg  \n",
            "  inflating: Dataset/images/890.jpg  \n",
            "  inflating: Dataset/images/891.jpg  \n",
            "  inflating: Dataset/images/892.jpg  \n",
            "  inflating: Dataset/images/895.jpg  \n",
            "  inflating: Dataset/images/90.jpg   \n",
            "  inflating: Dataset/images/901.jpg  \n",
            "  inflating: Dataset/images/906.jpg  \n",
            "  inflating: Dataset/images/909.jpg  \n",
            "  inflating: Dataset/images/91.jpg   \n",
            "  inflating: Dataset/images/910.jpg  \n",
            "  inflating: Dataset/images/914.jpg  \n",
            "  inflating: Dataset/images/916.jpg  \n",
            "  inflating: Dataset/images/917.jpg  \n",
            "  inflating: Dataset/images/918.jpg  \n",
            "  inflating: Dataset/images/919.jpg  \n",
            "  inflating: Dataset/images/92.jpg   \n",
            "  inflating: Dataset/images/923.jpg  \n",
            "  inflating: Dataset/images/924.jpg  \n",
            "  inflating: Dataset/images/925.jpg  \n",
            "  inflating: Dataset/images/926.jpg  \n",
            "  inflating: Dataset/images/927.jpg  \n",
            "  inflating: Dataset/images/928.jpg  \n",
            "  inflating: Dataset/images/93.jpg   \n",
            "  inflating: Dataset/images/931.jpg  \n",
            "  inflating: Dataset/images/936.jpg  \n",
            "  inflating: Dataset/images/939.jpg  \n",
            "  inflating: Dataset/images/940.jpg  \n",
            "  inflating: Dataset/images/941.jpg  \n",
            "  inflating: Dataset/images/942.jpg  \n",
            "  inflating: Dataset/images/944.jpg  \n",
            "  inflating: Dataset/images/946.jpg  \n",
            "  inflating: Dataset/images/947.jpg  \n",
            "  inflating: Dataset/images/948.jpg  \n",
            "  inflating: Dataset/images/950.jpg  \n",
            "  inflating: Dataset/images/954.jpg  \n",
            "  inflating: Dataset/images/955.jpg  \n",
            "  inflating: Dataset/images/958.jpg  \n",
            "  inflating: Dataset/images/959.jpg  \n",
            "  inflating: Dataset/images/96.jpg   \n",
            "  inflating: Dataset/images/960.jpg  \n",
            "  inflating: Dataset/images/961.jpg  \n",
            "  inflating: Dataset/images/962.jpg  \n",
            "  inflating: Dataset/images/964.jpg  \n",
            "  inflating: Dataset/images/965.jpg  \n",
            "  inflating: Dataset/images/967.jpg  \n",
            "  inflating: Dataset/images/969.jpg  \n",
            "  inflating: Dataset/images/970.jpg  \n",
            "  inflating: Dataset/images/973.jpg  \n",
            "  inflating: Dataset/images/974.jpg  \n",
            "  inflating: Dataset/images/975.jpg  \n",
            "  inflating: Dataset/images/976.jpg  \n",
            "  inflating: Dataset/images/977.jpg  \n",
            "  inflating: Dataset/images/980.jpg  \n",
            "  inflating: Dataset/images/982.jpg  \n",
            "  inflating: Dataset/images/987.jpg  \n",
            "  inflating: Dataset/images/991.jpg  \n",
            "  inflating: Dataset/images/994.jpg  \n",
            "  inflating: Dataset/images/995.jpg  \n",
            "  inflating: Dataset/images/997.jpg  \n",
            "  inflating: Dataset/images/998.jpg  \n",
            "  inflating: Dataset/images/1319.jpg  \n",
            "  inflating: Dataset/images/1329.jpg  \n",
            "  inflating: Dataset/images/1330.jpg  \n",
            "  inflating: Dataset/images/1333.jpg  \n",
            "  inflating: Dataset/images/1336.jpg  \n",
            "  inflating: Dataset/images/1339.jpg  \n",
            "  inflating: Dataset/images/134.jpg  \n",
            "  inflating: Dataset/images/1340.jpg  \n",
            "  inflating: Dataset/images/1343.jpg  \n",
            "  inflating: Dataset/images/1346.jpg  \n",
            "  inflating: Dataset/images/1366.jpg  \n",
            "  inflating: Dataset/images/1375.jpg  \n",
            "  inflating: Dataset/images/1379.jpg  \n",
            "  inflating: Dataset/images/1385.jpg  \n",
            "  inflating: Dataset/images/1389.jpg  \n",
            "  inflating: Dataset/images/1390.jpg  \n",
            "  inflating: Dataset/images/1396.jpg  \n",
            "  inflating: Dataset/images/1408.jpg  \n",
            "  inflating: Dataset/images/1426.jpg  \n",
            "  inflating: Dataset/images/1436.jpg  \n",
            "  inflating: Dataset/images/1438.jpg  \n",
            "  inflating: Dataset/images/1449.jpg  \n",
            "  inflating: Dataset/images/145.jpg  \n",
            "  inflating: Dataset/images/1461.jpg  \n",
            "  inflating: Dataset/images/1464.jpg  \n",
            "  inflating: Dataset/images/1467.jpg  \n",
            "  inflating: Dataset/images/1469.jpg  \n",
            "  inflating: Dataset/images/1472.jpg  \n",
            "  inflating: Dataset/images/1477.jpg  \n",
            "  inflating: Dataset/images/1480.jpg  \n",
            "  inflating: Dataset/images/1483.jpg  \n",
            "  inflating: Dataset/images/1508.jpg  \n",
            "  inflating: Dataset/images/1517.jpg  \n",
            "  inflating: Dataset/images/1520.jpg  \n",
            "  inflating: Dataset/images/1522.jpg  \n",
            "  inflating: Dataset/images/1528.jpg  \n",
            "  inflating: Dataset/images/1529.jpg  \n",
            "  inflating: Dataset/images/1543.jpg  \n",
            "  inflating: Dataset/images/1544.jpg  \n",
            "  inflating: Dataset/images/155.jpg  \n",
            "  inflating: Dataset/images/1551.jpg  \n",
            "  inflating: Dataset/images/1554.jpg  \n",
            "  inflating: Dataset/images/1557.jpg  \n",
            "  inflating: Dataset/images/1566.jpg  \n",
            "  inflating: Dataset/images/1572.jpg  \n",
            "  inflating: Dataset/images/1573.jpg  \n",
            "  inflating: Dataset/images/1580.jpg  \n",
            "  inflating: Dataset/images/1583.jpg  \n",
            "  inflating: Dataset/images/1584.jpg  \n",
            "  inflating: Dataset/images/1587.jpg  \n",
            "  inflating: Dataset/images/1591.jpg  \n",
            "  inflating: Dataset/images/1593.jpg  \n",
            "  inflating: Dataset/images/1594.jpg  \n",
            "  inflating: Dataset/images/1602.jpg  \n",
            "  inflating: Dataset/images/1625.jpg  \n",
            "  inflating: Dataset/images/1632.jpg  \n",
            "  inflating: Dataset/images/164.jpg  \n",
            "  inflating: Dataset/images/1646.jpg  \n",
            "  inflating: Dataset/images/1648.jpg  \n",
            "  inflating: Dataset/images/1650.jpg  \n",
            "  inflating: Dataset/images/1663.jpg  \n",
            "  inflating: Dataset/images/1684.jpg  \n",
            "  inflating: Dataset/images/1685.jpg  \n",
            "  inflating: Dataset/images/1691.jpg  \n",
            "  inflating: Dataset/images/1704.jpg  \n",
            "  inflating: Dataset/images/1708.jpg  \n",
            "  inflating: Dataset/images/171.jpg  \n",
            "  inflating: Dataset/images/1716.jpg  \n",
            "  inflating: Dataset/images/1719.jpg  \n",
            "  inflating: Dataset/images/1720.jpg  \n",
            "  inflating: Dataset/images/1721.jpg  \n",
            "  inflating: Dataset/images/1725.jpg  \n",
            "  inflating: Dataset/images/1749.jpg  \n",
            "  inflating: Dataset/images/1753.jpg  \n",
            "  inflating: Dataset/images/1754.jpg  \n",
            "  inflating: Dataset/images/1755.jpg  \n",
            "  inflating: Dataset/images/1760.jpg  \n",
            "  inflating: Dataset/images/1764.jpg  \n",
            "  inflating: Dataset/images/1767.jpg  \n",
            "  inflating: Dataset/images/1768.jpg  \n",
            "  inflating: Dataset/images/1773.jpg  \n",
            "  inflating: Dataset/images/1775.jpg  \n",
            "  inflating: Dataset/images/1798.jpg  \n",
            "  inflating: Dataset/images/1802.jpg  \n",
            "  inflating: Dataset/images/1803.jpg  \n",
            "  inflating: Dataset/images/1816.jpg  \n",
            "  inflating: Dataset/images/1827.jpg  \n",
            "  inflating: Dataset/images/1828.jpg  \n",
            "  inflating: Dataset/images/1832.jpg  \n",
            "  inflating: Dataset/images/1847.jpg  \n",
            "  inflating: Dataset/images/1852.jpg  \n",
            "  inflating: Dataset/images/1856.jpg  \n",
            "  inflating: Dataset/images/1857.jpg  \n",
            "  inflating: Dataset/images/1860.jpg  \n",
            "  inflating: Dataset/images/1863.jpg  \n",
            "  inflating: Dataset/images/1877.jpg  \n",
            "  inflating: Dataset/images/1882.jpg  \n",
            "  inflating: Dataset/images/1886.jpg  \n",
            "  inflating: Dataset/images/1887.jpg  \n",
            "  inflating: Dataset/images/1889.jpg  \n",
            "  inflating: Dataset/images/1892.jpg  \n",
            "  inflating: Dataset/images/1895.jpg  \n",
            "  inflating: Dataset/images/1897.jpg  \n",
            "  inflating: Dataset/images/1898.jpg  \n",
            "  inflating: Dataset/images/190.jpg  \n",
            "  inflating: Dataset/images/1907.jpg  \n",
            "  inflating: Dataset/images/1912.jpg  \n",
            "  inflating: Dataset/images/1918.jpg  \n",
            "  inflating: Dataset/images/1926.jpg  \n",
            "  inflating: Dataset/images/1934.jpg  \n",
            "  inflating: Dataset/images/194.jpg  \n",
            "  inflating: Dataset/images/1949.jpg  \n",
            "  inflating: Dataset/images/1956.jpg  \n",
            "  inflating: Dataset/images/1957.jpg  \n",
            "  inflating: Dataset/images/1969.jpg  \n",
            "  inflating: Dataset/images/1979.jpg  \n",
            "  inflating: Dataset/images/1991.jpg  \n",
            "  inflating: Dataset/images/1997.jpg  \n",
            "  inflating: Dataset/images/2006.jpg  \n",
            "  inflating: Dataset/images/2026.jpg  \n",
            "  inflating: Dataset/images/2034.jpg  \n",
            "  inflating: Dataset/images/2038.jpg  \n",
            "  inflating: Dataset/images/2057.jpg  \n",
            "  inflating: Dataset/images/2067.jpg  \n",
            "  inflating: Dataset/images/2074.jpg  \n",
            "  inflating: Dataset/images/100.jpg  \n",
            "  inflating: Dataset/images/1000.jpg  \n",
            "  inflating: Dataset/images/1003.jpg  \n",
            "  inflating: Dataset/images/2083.jpg  \n",
            "  inflating: Dataset/images/2086.jpg  \n",
            "  inflating: Dataset/images/2088.jpg  \n",
            "  inflating: Dataset/images/2089.jpg  \n",
            "  inflating: Dataset/images/2095.jpg  \n",
            "  inflating: Dataset/images/2098.jpg  \n",
            "  inflating: Dataset/images/2119.jpg  \n",
            "  inflating: Dataset/images/2129.jpg  \n",
            "  inflating: Dataset/images/2139.jpg  \n",
            "  inflating: Dataset/images/2143.jpg  \n",
            "  inflating: Dataset/images/2150.jpg  \n",
            "  inflating: Dataset/images/2153.jpg  \n",
            "  inflating: Dataset/images/2162.jpg  \n",
            "  inflating: Dataset/images/2169.jpg  \n",
            "  inflating: Dataset/images/217.jpg  \n",
            "  inflating: Dataset/images/2170.jpg  \n",
            "  inflating: Dataset/images/2171.jpg  \n",
            "  inflating: Dataset/images/2175.jpg  \n",
            "  inflating: Dataset/images/2183.jpg  \n",
            "  inflating: Dataset/images/219.jpg  \n",
            "  inflating: Dataset/images/2191.jpg  \n",
            "  inflating: Dataset/images/2192.jpg  \n",
            "  inflating: Dataset/images/2194.jpg  \n",
            "  inflating: Dataset/images/2198.jpg  \n",
            "  inflating: Dataset/images/2202.jpg  \n",
            "  inflating: Dataset/images/2212.jpg  \n",
            "  inflating: Dataset/images/2227.jpg  \n",
            "  inflating: Dataset/images/2228.jpg  \n",
            "  inflating: Dataset/images/2233.jpg  \n",
            "  inflating: Dataset/images/2238.jpg  \n",
            "  inflating: Dataset/images/2248.jpg  \n",
            "  inflating: Dataset/images/2254.jpg  \n",
            "  inflating: Dataset/images/2259.jpg  \n",
            "  inflating: Dataset/images/2270.jpg  \n",
            "  inflating: Dataset/images/2279.jpg  \n",
            "  inflating: Dataset/images/2291.jpg  \n",
            "  inflating: Dataset/images/2298.jpg  \n",
            "  inflating: Dataset/images/23.jpg   \n",
            "  inflating: Dataset/images/2300.jpg  \n",
            "  inflating: Dataset/images/2321.jpg  \n",
            "  inflating: Dataset/images/2327.jpg  \n",
            "  inflating: Dataset/images/233.jpg  \n",
            "  inflating: Dataset/images/2331.jpg  \n",
            "  inflating: Dataset/images/234.jpg  \n",
            "  inflating: Dataset/images/2340.jpg  \n",
            "  inflating: Dataset/images/2346.jpg  \n",
            "  inflating: Dataset/images/2350.jpg  \n",
            "  inflating: Dataset/images/236.jpg  \n",
            "  inflating: Dataset/images/238.jpg  \n",
            "  inflating: Dataset/images/24.jpg   \n",
            "  inflating: Dataset/images/241.jpg  \n",
            "  inflating: Dataset/images/259.jpg  \n",
            "  inflating: Dataset/images/26.jpg   \n",
            "  inflating: Dataset/images/265.jpg  \n",
            "  inflating: Dataset/images/27.jpg   \n",
            "  inflating: Dataset/images/273.jpg  \n",
            "  inflating: Dataset/images/284.jpg  \n",
            "  inflating: Dataset/images/293.jpg  \n",
            "  inflating: Dataset/images/295.jpg  \n",
            "  inflating: Dataset/images/305.jpg  \n",
            "  inflating: Dataset/images/312.jpg  \n",
            "  inflating: Dataset/images/314.jpg  \n",
            "  inflating: Dataset/images/325.jpg  \n",
            "  inflating: Dataset/images/326.jpg  \n",
            "  inflating: Dataset/images/327.jpg  \n",
            "  inflating: Dataset/images/328.jpg  \n",
            "  inflating: Dataset/images/335.jpg  \n",
            "  inflating: Dataset/images/339.jpg  \n",
            "  inflating: Dataset/images/35.jpg   \n",
            "  inflating: Dataset/images/353.jpg  \n",
            "  inflating: Dataset/images/358.jpg  \n",
            "  inflating: Dataset/images/360.jpg  \n",
            "  inflating: Dataset/images/361.jpg  \n",
            "  inflating: Dataset/images/370.jpg  \n",
            "  inflating: Dataset/images/378.jpg  \n",
            "  inflating: Dataset/images/384.jpg  \n",
            "  inflating: Dataset/images/388.jpg  \n",
            "  inflating: Dataset/images/391.jpg  \n",
            "  inflating: Dataset/images/40.jpg   \n",
            "  inflating: Dataset/images/415.jpg  \n",
            "  inflating: Dataset/images/42.jpg   \n",
            "  inflating: Dataset/images/422.jpg  \n",
            "  inflating: Dataset/images/425.jpg  \n",
            "  inflating: Dataset/images/431.jpg  \n",
            "  inflating: Dataset/images/442.jpg  \n",
            "  inflating: Dataset/images/445.jpg  \n",
            "  inflating: Dataset/images/449.jpg  \n",
            "  inflating: Dataset/images/452.jpg  \n",
            "  inflating: Dataset/images/468.jpg  \n",
            "  inflating: Dataset/images/469.jpg  \n",
            "  inflating: Dataset/images/474.jpg  \n",
            "  inflating: Dataset/images/488.jpg  \n",
            "  inflating: Dataset/images/5.jpg    \n",
            "  inflating: Dataset/images/501.jpg  \n",
            "  inflating: Dataset/images/506.jpg  \n",
            "  inflating: Dataset/images/534.jpg  \n",
            "  inflating: Dataset/images/543.jpg  \n",
            "  inflating: Dataset/images/546.jpg  \n",
            "  inflating: Dataset/images/547.jpg  \n",
            "  inflating: Dataset/images/550.jpg  \n",
            "  inflating: Dataset/images/557.jpg  \n",
            "  inflating: Dataset/images/560.jpg  \n",
            "  inflating: Dataset/images/566.jpg  \n",
            "  inflating: Dataset/images/584.jpg  \n",
            "  inflating: Dataset/images/585.jpg  \n",
            "  inflating: Dataset/images/586.jpg  \n",
            "  inflating: Dataset/images/588.jpg  \n",
            "  inflating: Dataset/images/597.jpg  \n",
            "  inflating: Dataset/images/602.jpg  \n",
            "  inflating: Dataset/images/604.jpg  \n",
            "  inflating: Dataset/images/611.jpg  \n",
            "  inflating: Dataset/images/620.jpg  \n",
            "  inflating: Dataset/images/621.jpg  \n",
            "  inflating: Dataset/images/633.jpg  \n",
            "  inflating: Dataset/images/641.jpg  \n",
            "  inflating: Dataset/images/645.jpg  \n",
            "  inflating: Dataset/images/661.jpg  \n",
            "  inflating: Dataset/images/665.jpg  \n",
            "  inflating: Dataset/images/67.jpg   \n",
            "  inflating: Dataset/images/674.jpg  \n",
            "  inflating: Dataset/images/675.jpg  \n",
            "  inflating: Dataset/images/676.jpg  \n",
            "  inflating: Dataset/images/679.jpg  \n",
            "  inflating: Dataset/images/683.jpg  \n",
            "  inflating: Dataset/images/690.jpg  \n",
            "  inflating: Dataset/images/1300.jpg  \n",
            "  inflating: Dataset/images/1301.jpg  \n",
            "  inflating: Dataset/images/1306.jpg  \n",
            "  inflating: Dataset/images/697.jpg  \n",
            "  inflating: Dataset/images/7.jpg    \n",
            "  inflating: Dataset/images/706.jpg  \n",
            "  inflating: Dataset/images/715.jpg  \n",
            "  inflating: Dataset/images/730.jpg  \n",
            "  inflating: Dataset/images/731.jpg  \n",
            "  inflating: Dataset/images/733.jpg  \n",
            "  inflating: Dataset/images/737.jpg  \n",
            "  inflating: Dataset/images/75.jpg   \n",
            "  inflating: Dataset/images/757.jpg  \n",
            "  inflating: Dataset/images/758.jpg  \n",
            "  inflating: Dataset/images/770.jpg  \n",
            "  inflating: Dataset/images/773.jpg  \n",
            "  inflating: Dataset/images/782.jpg  \n",
            "  inflating: Dataset/images/783.jpg  \n",
            "  inflating: Dataset/images/795.jpg  \n",
            "  inflating: Dataset/images/801.jpg  \n",
            "  inflating: Dataset/images/802.jpg  \n",
            "  inflating: Dataset/images/803.jpg  \n",
            "  inflating: Dataset/images/821.jpg  \n",
            "  inflating: Dataset/images/823.jpg  \n",
            "  inflating: Dataset/images/826.jpg  \n",
            "  inflating: Dataset/images/834.jpg  \n",
            "  inflating: Dataset/images/845.jpg  \n",
            "  inflating: Dataset/images/853.jpg  \n",
            "  inflating: Dataset/images/859.jpg  \n",
            "  inflating: Dataset/images/86.jpg   \n",
            "  inflating: Dataset/images/867.jpg  \n",
            "  inflating: Dataset/images/870.jpg  \n",
            "  inflating: Dataset/images/873.jpg  \n",
            "  inflating: Dataset/images/879.jpg  \n",
            "  inflating: Dataset/images/88.jpg   \n",
            "  inflating: Dataset/images/884.jpg  \n",
            "  inflating: Dataset/images/89.jpg   \n",
            "  inflating: Dataset/images/897.jpg  \n",
            "  inflating: Dataset/images/900.jpg  \n",
            "  inflating: Dataset/images/903.jpg  \n",
            "  inflating: Dataset/images/905.jpg  \n",
            "  inflating: Dataset/images/911.jpg  \n",
            "  inflating: Dataset/images/930.jpg  \n",
            "  inflating: Dataset/images/938.jpg  \n",
            "  inflating: Dataset/images/95.jpg   \n",
            "  inflating: Dataset/images/952.jpg  \n",
            "  inflating: Dataset/images/968.jpg  \n",
            "  inflating: Dataset/images/986.jpg  \n",
            "  inflating: Dataset/images/2076.jpg  \n",
            "  inflating: Dataset/images/2078.jpg  \n",
            "  inflating: Dataset/images/2079.jpg  \n"
          ]
        }
      ]
    },
    {
      "cell_type": "code",
      "metadata": {
        "id": "ZCK0i2SAhKLa"
      },
      "source": [
        "# create random number generator\n",
        "seed = 42"
      ],
      "execution_count": null,
      "outputs": []
    },
    {
      "cell_type": "code",
      "metadata": {
        "id": "_MKVrwevhKLk"
      },
      "source": [
        "# reading the csv file\n",
        "data = pd.read_csv('Dataset/emergency_classification.csv')"
      ],
      "execution_count": 4,
      "outputs": []
    },
    {
      "cell_type": "code",
      "metadata": {
        "id": "OUcBZmDLhKLt"
      },
      "source": [
        "# load images and store it in numpy array\n",
        "\n",
        "# empty list to store the images\n",
        "X = []\n",
        "# iterating over each image\n",
        "for img_name in data.image_names:\n",
        "    # loading the image using its name\n",
        "    img = plt.imread('Dataset/images/' + img_name)\n",
        "    # saving each image in the list\n",
        "    X.append(img)\n",
        "\n",
        "# converting the list of images into array\n",
        "X=np.array(X)\n",
        "\n",
        "# storing the target variable in separate variable\n",
        "y = data.emergency_or_not.values"
      ],
      "execution_count": 5,
      "outputs": []
    },
    {
      "cell_type": "code",
      "metadata": {
        "id": "teJk4rIThKL2",
        "outputId": "4aa71771-1695-467c-eee0-86c2aae80acc",
        "colab": {
          "base_uri": "https://localhost:8080/"
        }
      },
      "source": [
        "# shape of the images\n",
        "X.shape"
      ],
      "execution_count": 6,
      "outputs": [
        {
          "output_type": "execute_result",
          "data": {
            "text/plain": [
              "(2352, 224, 224, 3)"
            ]
          },
          "metadata": {},
          "execution_count": 6
        }
      ]
    },
    {
      "cell_type": "markdown",
      "metadata": {
        "id": "nKxqxL45ijJX"
      },
      "source": [
        "## 2. Pre-processing the Data"
      ]
    },
    {
      "cell_type": "code",
      "metadata": {
        "id": "Ei6lZu3JFStn"
      },
      "source": [
        "# since we are using CNN, we do not have to resize the images into 1D array."
      ],
      "execution_count": 7,
      "outputs": []
    },
    {
      "cell_type": "code",
      "metadata": {
        "id": "9HXsTHmJhKL_"
      },
      "source": [
        "# normalizing the pixel values\n",
        "X = X / X.max()"
      ],
      "execution_count": 8,
      "outputs": []
    },
    {
      "cell_type": "markdown",
      "metadata": {
        "id": "WDM9Hjsiisyl"
      },
      "source": [
        "## 3. Creating Training and Validation set"
      ]
    },
    {
      "cell_type": "code",
      "source": [
        "# create random number generator\n",
        "seed = 42"
      ],
      "metadata": {
        "id": "pz9jtRCu1Cn7"
      },
      "execution_count": 10,
      "outputs": []
    },
    {
      "cell_type": "code",
      "metadata": {
        "id": "JIO9W5ihhKMF"
      },
      "source": [
        "# creating a training and validation set\n",
        "X_train, X_valid, y_train, y_valid=train_test_split(X,y,test_size=0.3, random_state=seed)"
      ],
      "execution_count": 11,
      "outputs": []
    },
    {
      "cell_type": "code",
      "metadata": {
        "id": "66pP0PgXiz5U",
        "outputId": "51e21c87-8add-44d6-8986-2b2e40bd5204",
        "colab": {
          "base_uri": "https://localhost:8080/"
        }
      },
      "source": [
        "# shape of training and validation set\n",
        "(X_train.shape, y_train.shape), (X_valid.shape, y_valid.shape)"
      ],
      "execution_count": 12,
      "outputs": [
        {
          "output_type": "execute_result",
          "data": {
            "text/plain": [
              "(((1646, 224, 224, 3), (1646,)), ((706, 224, 224, 3), (706,)))"
            ]
          },
          "metadata": {},
          "execution_count": 12
        }
      ]
    },
    {
      "cell_type": "markdown",
      "metadata": {
        "id": "f_HSxXtVhKMO"
      },
      "source": [
        "## 4. Defining the Model Architecture"
      ]
    },
    {
      "cell_type": "markdown",
      "metadata": {
        "id": "-ckn_9ZSg_Um"
      },
      "source": [
        "![alt text](https://drive.google.com/uc?id=1qsops2ZfESuzjg7-V0rmOfVE0PtErYrJ)"
      ]
    },
    {
      "cell_type": "code",
      "metadata": {
        "id": "8H-ihteG_y4_"
      },
      "source": [
        "# importing the convolutional and flatten layer from keras\n",
        "from keras.layers import Conv2D, Flatten"
      ],
      "execution_count": 13,
      "outputs": []
    },
    {
      "cell_type": "code",
      "metadata": {
        "id": "elD4F16q_uRQ",
        "outputId": "2b0deeb4-9f23-449f-af65-b4b2d91d6396",
        "colab": {
          "base_uri": "https://localhost:8080/"
        }
      },
      "source": [
        "# defining the model architecture\n",
        "\n",
        "# creating a sequential model\n",
        "model = Sequential()\n",
        "\n",
        "# defining input layer with 3D input of shape (224,224,3)\n",
        "model.add(InputLayer(input_shape=(224, 224, 3)))\n",
        "\n",
        "# defining the first convolutional layer with 25 filters of size (5,5)\n",
        "model.add(Conv2D(25, (5, 5), activation='relu', strides=(1, 1), padding='valid'))\n",
        "# defining the second convolutional layer with 50 filters of size (5,5)\n",
        "model.add(Conv2D(50, (5, 5), activation='relu', strides=(1, 1), padding='valid'))\n",
        "\n",
        "# flattening the output from convolutional layers so that it can be forwarded to the dense layers\n",
        "model.add(Flatten())\n",
        "\n",
        "# defining the first dense or fully connected layer with 100 neurons\n",
        "model.add(Dense(units=100, activation='sigmoid'))\n",
        "# defining the output layer with 1 neuron since it is a binary classification problem\n",
        "model.add(Dense(units=1, activation='sigmoid'))"
      ],
      "execution_count": 14,
      "outputs": [
        {
          "output_type": "stream",
          "name": "stderr",
          "text": [
            "/usr/local/lib/python3.11/dist-packages/keras/src/layers/core/input_layer.py:27: UserWarning: Argument `input_shape` is deprecated. Use `shape` instead.\n",
            "  warnings.warn(\n"
          ]
        }
      ]
    },
    {
      "cell_type": "code",
      "metadata": {
        "id": "BBwKWQjE_v4j",
        "outputId": "7cf02b42-4db1-4b3d-c286-966cdb4b9471",
        "colab": {
          "base_uri": "https://localhost:8080/",
          "height": 289
        }
      },
      "source": [
        "# printing summary of the model\n",
        "model.summary()"
      ],
      "execution_count": 15,
      "outputs": [
        {
          "output_type": "display_data",
          "data": {
            "text/plain": [
              "\u001b[1mModel: \"sequential\"\u001b[0m\n"
            ],
            "text/html": [
              "<pre style=\"white-space:pre;overflow-x:auto;line-height:normal;font-family:Menlo,'DejaVu Sans Mono',consolas,'Courier New',monospace\"><span style=\"font-weight: bold\">Model: \"sequential\"</span>\n",
              "</pre>\n"
            ]
          },
          "metadata": {}
        },
        {
          "output_type": "display_data",
          "data": {
            "text/plain": [
              "┏━━━━━━━━━━━━━━━━━━━━━━━━━━━━━━━━━┳━━━━━━━━━━━━━━━━━━━━━━━━┳━━━━━━━━━━━━━━━┓\n",
              "┃\u001b[1m \u001b[0m\u001b[1mLayer (type)                   \u001b[0m\u001b[1m \u001b[0m┃\u001b[1m \u001b[0m\u001b[1mOutput Shape          \u001b[0m\u001b[1m \u001b[0m┃\u001b[1m \u001b[0m\u001b[1m      Param #\u001b[0m\u001b[1m \u001b[0m┃\n",
              "┡━━━━━━━━━━━━━━━━━━━━━━━━━━━━━━━━━╇━━━━━━━━━━━━━━━━━━━━━━━━╇━━━━━━━━━━━━━━━┩\n",
              "│ conv2d (\u001b[38;5;33mConv2D\u001b[0m)                 │ (\u001b[38;5;45mNone\u001b[0m, \u001b[38;5;34m220\u001b[0m, \u001b[38;5;34m220\u001b[0m, \u001b[38;5;34m25\u001b[0m)   │         \u001b[38;5;34m1,900\u001b[0m │\n",
              "├─────────────────────────────────┼────────────────────────┼───────────────┤\n",
              "│ conv2d_1 (\u001b[38;5;33mConv2D\u001b[0m)               │ (\u001b[38;5;45mNone\u001b[0m, \u001b[38;5;34m216\u001b[0m, \u001b[38;5;34m216\u001b[0m, \u001b[38;5;34m50\u001b[0m)   │        \u001b[38;5;34m31,300\u001b[0m │\n",
              "├─────────────────────────────────┼────────────────────────┼───────────────┤\n",
              "│ flatten (\u001b[38;5;33mFlatten\u001b[0m)               │ (\u001b[38;5;45mNone\u001b[0m, \u001b[38;5;34m2332800\u001b[0m)        │             \u001b[38;5;34m0\u001b[0m │\n",
              "├─────────────────────────────────┼────────────────────────┼───────────────┤\n",
              "│ dense (\u001b[38;5;33mDense\u001b[0m)                   │ (\u001b[38;5;45mNone\u001b[0m, \u001b[38;5;34m100\u001b[0m)            │   \u001b[38;5;34m233,280,100\u001b[0m │\n",
              "├─────────────────────────────────┼────────────────────────┼───────────────┤\n",
              "│ dense_1 (\u001b[38;5;33mDense\u001b[0m)                 │ (\u001b[38;5;45mNone\u001b[0m, \u001b[38;5;34m1\u001b[0m)              │           \u001b[38;5;34m101\u001b[0m │\n",
              "└─────────────────────────────────┴────────────────────────┴───────────────┘\n"
            ],
            "text/html": [
              "<pre style=\"white-space:pre;overflow-x:auto;line-height:normal;font-family:Menlo,'DejaVu Sans Mono',consolas,'Courier New',monospace\">┏━━━━━━━━━━━━━━━━━━━━━━━━━━━━━━━━━┳━━━━━━━━━━━━━━━━━━━━━━━━┳━━━━━━━━━━━━━━━┓\n",
              "┃<span style=\"font-weight: bold\"> Layer (type)                    </span>┃<span style=\"font-weight: bold\"> Output Shape           </span>┃<span style=\"font-weight: bold\">       Param # </span>┃\n",
              "┡━━━━━━━━━━━━━━━━━━━━━━━━━━━━━━━━━╇━━━━━━━━━━━━━━━━━━━━━━━━╇━━━━━━━━━━━━━━━┩\n",
              "│ conv2d (<span style=\"color: #0087ff; text-decoration-color: #0087ff\">Conv2D</span>)                 │ (<span style=\"color: #00d7ff; text-decoration-color: #00d7ff\">None</span>, <span style=\"color: #00af00; text-decoration-color: #00af00\">220</span>, <span style=\"color: #00af00; text-decoration-color: #00af00\">220</span>, <span style=\"color: #00af00; text-decoration-color: #00af00\">25</span>)   │         <span style=\"color: #00af00; text-decoration-color: #00af00\">1,900</span> │\n",
              "├─────────────────────────────────┼────────────────────────┼───────────────┤\n",
              "│ conv2d_1 (<span style=\"color: #0087ff; text-decoration-color: #0087ff\">Conv2D</span>)               │ (<span style=\"color: #00d7ff; text-decoration-color: #00d7ff\">None</span>, <span style=\"color: #00af00; text-decoration-color: #00af00\">216</span>, <span style=\"color: #00af00; text-decoration-color: #00af00\">216</span>, <span style=\"color: #00af00; text-decoration-color: #00af00\">50</span>)   │        <span style=\"color: #00af00; text-decoration-color: #00af00\">31,300</span> │\n",
              "├─────────────────────────────────┼────────────────────────┼───────────────┤\n",
              "│ flatten (<span style=\"color: #0087ff; text-decoration-color: #0087ff\">Flatten</span>)               │ (<span style=\"color: #00d7ff; text-decoration-color: #00d7ff\">None</span>, <span style=\"color: #00af00; text-decoration-color: #00af00\">2332800</span>)        │             <span style=\"color: #00af00; text-decoration-color: #00af00\">0</span> │\n",
              "├─────────────────────────────────┼────────────────────────┼───────────────┤\n",
              "│ dense (<span style=\"color: #0087ff; text-decoration-color: #0087ff\">Dense</span>)                   │ (<span style=\"color: #00d7ff; text-decoration-color: #00d7ff\">None</span>, <span style=\"color: #00af00; text-decoration-color: #00af00\">100</span>)            │   <span style=\"color: #00af00; text-decoration-color: #00af00\">233,280,100</span> │\n",
              "├─────────────────────────────────┼────────────────────────┼───────────────┤\n",
              "│ dense_1 (<span style=\"color: #0087ff; text-decoration-color: #0087ff\">Dense</span>)                 │ (<span style=\"color: #00d7ff; text-decoration-color: #00d7ff\">None</span>, <span style=\"color: #00af00; text-decoration-color: #00af00\">1</span>)              │           <span style=\"color: #00af00; text-decoration-color: #00af00\">101</span> │\n",
              "└─────────────────────────────────┴────────────────────────┴───────────────┘\n",
              "</pre>\n"
            ]
          },
          "metadata": {}
        },
        {
          "output_type": "display_data",
          "data": {
            "text/plain": [
              "\u001b[1m Total params: \u001b[0m\u001b[38;5;34m233,313,401\u001b[0m (890.02 MB)\n"
            ],
            "text/html": [
              "<pre style=\"white-space:pre;overflow-x:auto;line-height:normal;font-family:Menlo,'DejaVu Sans Mono',consolas,'Courier New',monospace\"><span style=\"font-weight: bold\"> Total params: </span><span style=\"color: #00af00; text-decoration-color: #00af00\">233,313,401</span> (890.02 MB)\n",
              "</pre>\n"
            ]
          },
          "metadata": {}
        },
        {
          "output_type": "display_data",
          "data": {
            "text/plain": [
              "\u001b[1m Trainable params: \u001b[0m\u001b[38;5;34m233,313,401\u001b[0m (890.02 MB)\n"
            ],
            "text/html": [
              "<pre style=\"white-space:pre;overflow-x:auto;line-height:normal;font-family:Menlo,'DejaVu Sans Mono',consolas,'Courier New',monospace\"><span style=\"font-weight: bold\"> Trainable params: </span><span style=\"color: #00af00; text-decoration-color: #00af00\">233,313,401</span> (890.02 MB)\n",
              "</pre>\n"
            ]
          },
          "metadata": {}
        },
        {
          "output_type": "display_data",
          "data": {
            "text/plain": [
              "\u001b[1m Non-trainable params: \u001b[0m\u001b[38;5;34m0\u001b[0m (0.00 B)\n"
            ],
            "text/html": [
              "<pre style=\"white-space:pre;overflow-x:auto;line-height:normal;font-family:Menlo,'DejaVu Sans Mono',consolas,'Courier New',monospace\"><span style=\"font-weight: bold\"> Non-trainable params: </span><span style=\"color: #00af00; text-decoration-color: #00af00\">0</span> (0.00 B)\n",
              "</pre>\n"
            ]
          },
          "metadata": {}
        }
      ]
    },
    {
      "cell_type": "markdown",
      "metadata": {
        "id": "l_9WzJ2akEXt"
      },
      "source": [
        "## Understanding the Architecture\n",
        "*  Input shape is (224,224,3) since images are of this shape\n",
        "*  We then applied 25 filters each of shape (5,5) and stride is (1,1)\n",
        "*  So the output from first convolutional layer is: **(224-5+1,224-5+1,25)** which is **(220,220,25)**\n",
        "*  We then applied 50 filters of shape (5,5) each with stride (1,1)\n",
        "*  Then the output is **(220-5+1,220-5+1,50)** which is **(216,216,50)**\n",
        "*  Then this output is flattened which resulted in 216 X 216 X 50 = 2332800 features\n",
        "*  Finally these features are passed through the fully connected layers.\n"
      ]
    },
    {
      "cell_type": "markdown",
      "metadata": {
        "id": "cLtyLYpykEUT"
      },
      "source": [
        "## Understanding the number of parameters of different layers\n",
        "\n",
        "1.   First Convolutional Layer\n",
        "    * Number of input channels = 3\n",
        "    * Number of filters = 25\n",
        "    * Filter Size = (5,5)\n",
        "    * Learnable parameters = **25 * 5 * 5 * 3 + 25** (1 bias for each filter) = **1900**\n",
        "2.   Second Convolutional Layer\n",
        "    * Number of input channels = 25\n",
        "    * Number of filters = 50\n",
        "    * Filter Size = (5,5)\n",
        "    * Learnable parameters = **50 * 5 * 5 * 25 + 50** (1 bias for each filter) = **31300**\n",
        "3.   First Fully Connected Layer\n",
        "    * Number of input features = 216 * 216 * 50 = 2332800\n",
        "    * Number of neurons in this hidden layer = 100\n",
        "    * Learnable parameters = **2332800 * 100 + 100** (1 bias for each neuron) = **233280100**\n",
        "3.   Output Layer\n",
        "    * Number of input features = 100\n",
        "    * Number of neurons in this layer = 1\n",
        "    * Learnable parameters = **100 * 1 + 1** (1 bias for each neuron) = **101**\n",
        "\n"
      ]
    },
    {
      "cell_type": "markdown",
      "metadata": {
        "id": "Ih1KTM7MF1-2"
      },
      "source": [
        "## 5. Compiling the Model"
      ]
    },
    {
      "cell_type": "code",
      "metadata": {
        "id": "uXF1_OIWhKMg"
      },
      "source": [
        "# compiling the model\n",
        "model.compile(loss='binary_crossentropy', optimizer=\"sgd\", metrics=['accuracy'])"
      ],
      "execution_count": 16,
      "outputs": []
    },
    {
      "cell_type": "markdown",
      "metadata": {
        "id": "6L1-5Ik4GC1y"
      },
      "source": [
        "## 6. Training the Model"
      ]
    },
    {
      "cell_type": "code",
      "metadata": {
        "scrolled": false,
        "id": "JF4dEvsrhKMo",
        "outputId": "f9daa5f3-69a2-4050-8f75-dc1b4789936b",
        "colab": {
          "base_uri": "https://localhost:8080/"
        }
      },
      "source": [
        "# training the model\n",
        "model_history = model.fit(X_train, y_train, epochs=10, batch_size=128,validation_data=(X_valid,y_valid))"
      ],
      "execution_count": 17,
      "outputs": [
        {
          "output_type": "stream",
          "name": "stdout",
          "text": [
            "Epoch 1/10\n",
            "\u001b[1m13/13\u001b[0m \u001b[32m━━━━━━━━━━━━━━━━━━━━\u001b[0m\u001b[37m\u001b[0m \u001b[1m84s\u001b[0m 4s/step - accuracy: 0.5487 - loss: 0.7161 - val_accuracy: 0.5652 - val_loss: 0.6645\n",
            "Epoch 2/10\n",
            "\u001b[1m13/13\u001b[0m \u001b[32m━━━━━━━━━━━━━━━━━━━━\u001b[0m\u001b[37m\u001b[0m \u001b[1m65s\u001b[0m 497ms/step - accuracy: 0.6263 - loss: 0.6418 - val_accuracy: 0.6742 - val_loss: 0.6222\n",
            "Epoch 3/10\n",
            "\u001b[1m13/13\u001b[0m \u001b[32m━━━━━━━━━━━━━━━━━━━━\u001b[0m\u001b[37m\u001b[0m \u001b[1m11s\u001b[0m 531ms/step - accuracy: 0.6668 - loss: 0.6271 - val_accuracy: 0.6827 - val_loss: 0.6107\n",
            "Epoch 4/10\n",
            "\u001b[1m13/13\u001b[0m \u001b[32m━━━━━━━━━━━━━━━━━━━━\u001b[0m\u001b[37m\u001b[0m \u001b[1m7s\u001b[0m 507ms/step - accuracy: 0.6918 - loss: 0.6008 - val_accuracy: 0.6813 - val_loss: 0.6067\n",
            "Epoch 5/10\n",
            "\u001b[1m13/13\u001b[0m \u001b[32m━━━━━━━━━━━━━━━━━━━━\u001b[0m\u001b[37m\u001b[0m \u001b[1m10s\u001b[0m 518ms/step - accuracy: 0.6978 - loss: 0.5819 - val_accuracy: 0.6926 - val_loss: 0.5933\n",
            "Epoch 6/10\n",
            "\u001b[1m13/13\u001b[0m \u001b[32m━━━━━━━━━━━━━━━━━━━━\u001b[0m\u001b[37m\u001b[0m \u001b[1m7s\u001b[0m 516ms/step - accuracy: 0.6963 - loss: 0.5845 - val_accuracy: 0.6827 - val_loss: 0.5806\n",
            "Epoch 7/10\n",
            "\u001b[1m13/13\u001b[0m \u001b[32m━━━━━━━━━━━━━━━━━━━━\u001b[0m\u001b[37m\u001b[0m \u001b[1m7s\u001b[0m 520ms/step - accuracy: 0.7195 - loss: 0.5664 - val_accuracy: 0.6700 - val_loss: 0.6063\n",
            "Epoch 8/10\n",
            "\u001b[1m13/13\u001b[0m \u001b[32m━━━━━━━━━━━━━━━━━━━━\u001b[0m\u001b[37m\u001b[0m \u001b[1m10s\u001b[0m 541ms/step - accuracy: 0.7069 - loss: 0.5583 - val_accuracy: 0.7110 - val_loss: 0.5691\n",
            "Epoch 9/10\n",
            "\u001b[1m13/13\u001b[0m \u001b[32m━━━━━━━━━━━━━━━━━━━━\u001b[0m\u001b[37m\u001b[0m \u001b[1m10s\u001b[0m 531ms/step - accuracy: 0.7229 - loss: 0.5444 - val_accuracy: 0.7096 - val_loss: 0.5471\n",
            "Epoch 10/10\n",
            "\u001b[1m13/13\u001b[0m \u001b[32m━━━━━━━━━━━━━━━━━━━━\u001b[0m\u001b[37m\u001b[0m \u001b[1m10s\u001b[0m 491ms/step - accuracy: 0.7304 - loss: 0.5385 - val_accuracy: 0.7224 - val_loss: 0.5418\n"
          ]
        }
      ]
    },
    {
      "cell_type": "markdown",
      "metadata": {
        "id": "wmOIR4_PHKFE"
      },
      "source": [
        "## 7. Evaluating model performance"
      ]
    },
    {
      "cell_type": "code",
      "metadata": {
        "id": "4VqAxVzGGXk9",
        "outputId": "f11550a6-401a-4037-ff40-0792858d825a",
        "colab": {
          "base_uri": "https://localhost:8080/"
        }
      },
      "source": [
        "# accuracy on training set\n",
        "# Use model.predict() and apply a threshold to get the class predictions\n",
        "train_predictions = (model.predict(X_train) > 0.5).astype(\"int32\")\n",
        "print('Accuracy on training set:', accuracy_score(y_train, train_predictions), '%')\n",
        "\n",
        "# accuracy on validation set\n",
        "# Use model.predict() and apply a threshold to get the class predictions\n",
        "valid_predictions = (model.predict(X_valid) > 0.5).astype(\"int32\")\n",
        "print('Accuracy on validation set:', accuracy_score(y_valid, valid_predictions), '%')"
      ],
      "execution_count": 19,
      "outputs": [
        {
          "output_type": "stream",
          "name": "stdout",
          "text": [
            "\u001b[1m52/52\u001b[0m \u001b[32m━━━━━━━━━━━━━━━━━━━━\u001b[0m\u001b[37m\u001b[0m \u001b[1m12s\u001b[0m 121ms/step\n",
            "Accuracy on training set: 0.778857837181045 %\n",
            "\u001b[1m23/23\u001b[0m \u001b[32m━━━━━━━━━━━━━━━━━━━━\u001b[0m\u001b[37m\u001b[0m \u001b[1m5s\u001b[0m 202ms/step\n",
            "Accuracy on validation set: 0.7223796033994334 %\n"
          ]
        }
      ]
    },
    {
      "cell_type": "code",
      "metadata": {
        "id": "jKrOiGaDGXLK",
        "outputId": "53823e21-217f-4942-a6c3-9c4e0ebb7136",
        "colab": {
          "base_uri": "https://localhost:8080/",
          "height": 472
        }
      },
      "source": [
        "# summarize history for loss\n",
        "plt.plot(model_history.history['loss'])\n",
        "plt.plot(model_history.history['val_loss'])\n",
        "plt.title('model loss')\n",
        "plt.ylabel('loss')\n",
        "plt.xlabel('epoch')\n",
        "plt.legend(['train', 'validation'], loc='upper left')\n",
        "plt.show()"
      ],
      "execution_count": 20,
      "outputs": [
        {
          "output_type": "display_data",
          "data": {
            "text/plain": [
              "<Figure size 640x480 with 1 Axes>"
            ],
            "image/png": "[encoded data removed]"
          },
          "metadata": {}
        }
      ]
    },
    {
      "cell_type": "code",
      "metadata": {
        "id": "VNAd2anFHqjn",
        "outputId": "5cadd0b8-85b0-452c-bf3b-670a03acd830",
        "colab": {
          "base_uri": "https://localhost:8080/",
          "height": 472
        }
      },
      "source": [
        "# summarize history for accuracy\n",
        "plt.plot(model_history.history['accuracy']) # Changed 'acc' to 'accuracy'\n",
        "plt.plot(model_history.history['val_accuracy']) # Changed 'val_acc' to 'val_accuracy'\n",
        "plt.title('model accuracy')\n",
        "plt.ylabel('accuracy')\n",
        "plt.xlabel('epoch')\n",
        "plt.legend(['train', 'validation'], loc='upper left')\n",
        "plt.show()"
      ],
      "execution_count": 22,
      "outputs": [
        {
          "output_type": "display_data",
          "data": {
            "text/plain": [
              "<Figure size 640x480 with 1 Axes>"
            ],
            "image/png": "[encoded data removed]"
          },
          "metadata": {}
        }
      ]
    },
    {
      "cell_type": "markdown",
      "metadata": {
        "id": "Hd7JfLeiHtX2"
      },
      "source": [
        "## Adding Maxpool layer to reduce parameters"
      ]
    },
    {
      "cell_type": "code",
      "metadata": {
        "id": "hxymlVBrIOQu"
      },
      "source": [
        "# importing maxpool layer from keras\n",
        "from keras.layers import MaxPool2D"
      ],
      "execution_count": 23,
      "outputs": []
    },
    {
      "cell_type": "code",
      "metadata": {
        "id": "ouFTqkMuhKMw",
        "outputId": "a9c470fb-2336-4e8a-b577-d368774d24d2",
        "colab": {
          "base_uri": "https://localhost:8080/"
        }
      },
      "source": [
        "# defining the model architecture with maxpool layer\n",
        "model = Sequential()\n",
        "\n",
        "model.add(InputLayer(input_shape=(224, 224, 3)))\n",
        "\n",
        "model.add(Conv2D(25, (5, 5), activation='relu', strides=(1, 1), padding='valid'))\n",
        "model.add(Conv2D(50, (5, 5), activation='relu', strides=(1, 1), padding='valid'))\n",
        "# adding maxpool layer after the convolutional layers\n",
        "model.add(MaxPool2D(pool_size=(4, 4), padding='valid'))\n",
        "model.add(Flatten())\n",
        "\n",
        "model.add(Dense(units=100, activation='sigmoid'))\n",
        "model.add(Dense(units=1, activation='sigmoid'))\n",
        "\n",
        "# compiling the model\n",
        "model.compile(loss='binary_crossentropy', optimizer=\"sgd\", metrics=['accuracy'])"
      ],
      "execution_count": 24,
      "outputs": [
        {
          "output_type": "stream",
          "name": "stderr",
          "text": [
            "/usr/local/lib/python3.11/dist-packages/keras/src/layers/core/input_layer.py:27: UserWarning: Argument `input_shape` is deprecated. Use `shape` instead.\n",
            "  warnings.warn(\n"
          ]
        }
      ]
    },
    {
      "cell_type": "code",
      "metadata": {
        "id": "8WRfKOU_hKM4",
        "outputId": "a3fa531a-a13d-438a-ee09-5aaa3e8b78ca",
        "colab": {
          "base_uri": "https://localhost:8080/",
          "height": 321
        }
      },
      "source": [
        "# summary of the model\n",
        "model.summary()"
      ],
      "execution_count": 25,
      "outputs": [
        {
          "output_type": "display_data",
          "data": {
            "text/plain": [
              "\u001b[1mModel: \"sequential_1\"\u001b[0m\n"
            ],
            "text/html": [
              "<pre style=\"white-space:pre;overflow-x:auto;line-height:normal;font-family:Menlo,'DejaVu Sans Mono',consolas,'Courier New',monospace\"><span style=\"font-weight: bold\">Model: \"sequential_1\"</span>\n",
              "</pre>\n"
            ]
          },
          "metadata": {}
        },
        {
          "output_type": "display_data",
          "data": {
            "text/plain": [
              "┏━━━━━━━━━━━━━━━━━━━━━━━━━━━━━━━━━┳━━━━━━━━━━━━━━━━━━━━━━━━┳━━━━━━━━━━━━━━━┓\n",
              "┃\u001b[1m \u001b[0m\u001b[1mLayer (type)                   \u001b[0m\u001b[1m \u001b[0m┃\u001b[1m \u001b[0m\u001b[1mOutput Shape          \u001b[0m\u001b[1m \u001b[0m┃\u001b[1m \u001b[0m\u001b[1m      Param #\u001b[0m\u001b[1m \u001b[0m┃\n",
              "┡━━━━━━━━━━━━━━━━━━━━━━━━━━━━━━━━━╇━━━━━━━━━━━━━━━━━━━━━━━━╇━━━━━━━━━━━━━━━┩\n",
              "│ conv2d_2 (\u001b[38;5;33mConv2D\u001b[0m)               │ (\u001b[38;5;45mNone\u001b[0m, \u001b[38;5;34m220\u001b[0m, \u001b[38;5;34m220\u001b[0m, \u001b[38;5;34m25\u001b[0m)   │         \u001b[38;5;34m1,900\u001b[0m │\n",
              "├─────────────────────────────────┼────────────────────────┼───────────────┤\n",
              "│ conv2d_3 (\u001b[38;5;33mConv2D\u001b[0m)               │ (\u001b[38;5;45mNone\u001b[0m, \u001b[38;5;34m216\u001b[0m, \u001b[38;5;34m216\u001b[0m, \u001b[38;5;34m50\u001b[0m)   │        \u001b[38;5;34m31,300\u001b[0m │\n",
              "├─────────────────────────────────┼────────────────────────┼───────────────┤\n",
              "│ max_pooling2d (\u001b[38;5;33mMaxPooling2D\u001b[0m)    │ (\u001b[38;5;45mNone\u001b[0m, \u001b[38;5;34m54\u001b[0m, \u001b[38;5;34m54\u001b[0m, \u001b[38;5;34m50\u001b[0m)     │             \u001b[38;5;34m0\u001b[0m │\n",
              "├─────────────────────────────────┼────────────────────────┼───────────────┤\n",
              "│ flatten_1 (\u001b[38;5;33mFlatten\u001b[0m)             │ (\u001b[38;5;45mNone\u001b[0m, \u001b[38;5;34m145800\u001b[0m)         │             \u001b[38;5;34m0\u001b[0m │\n",
              "├─────────────────────────────────┼────────────────────────┼───────────────┤\n",
              "│ dense_2 (\u001b[38;5;33mDense\u001b[0m)                 │ (\u001b[38;5;45mNone\u001b[0m, \u001b[38;5;34m100\u001b[0m)            │    \u001b[38;5;34m14,580,100\u001b[0m │\n",
              "├─────────────────────────────────┼────────────────────────┼───────────────┤\n",
              "│ dense_3 (\u001b[38;5;33mDense\u001b[0m)                 │ (\u001b[38;5;45mNone\u001b[0m, \u001b[38;5;34m1\u001b[0m)              │           \u001b[38;5;34m101\u001b[0m │\n",
              "└─────────────────────────────────┴────────────────────────┴───────────────┘\n"
            ],
            "text/html": [
              "<pre style=\"white-space:pre;overflow-x:auto;line-height:normal;font-family:Menlo,'DejaVu Sans Mono',consolas,'Courier New',monospace\">┏━━━━━━━━━━━━━━━━━━━━━━━━━━━━━━━━━┳━━━━━━━━━━━━━━━━━━━━━━━━┳━━━━━━━━━━━━━━━┓\n",
              "┃<span style=\"font-weight: bold\"> Layer (type)                    </span>┃<span style=\"font-weight: bold\"> Output Shape           </span>┃<span style=\"font-weight: bold\">       Param # </span>┃\n",
              "┡━━━━━━━━━━━━━━━━━━━━━━━━━━━━━━━━━╇━━━━━━━━━━━━━━━━━━━━━━━━╇━━━━━━━━━━━━━━━┩\n",
              "│ conv2d_2 (<span style=\"color: #0087ff; text-decoration-color: #0087ff\">Conv2D</span>)               │ (<span style=\"color: #00d7ff; text-decoration-color: #00d7ff\">None</span>, <span style=\"color: #00af00; text-decoration-color: #00af00\">220</span>, <span style=\"color: #00af00; text-decoration-color: #00af00\">220</span>, <span style=\"color: #00af00; text-decoration-color: #00af00\">25</span>)   │         <span style=\"color: #00af00; text-decoration-color: #00af00\">1,900</span> │\n",
              "├─────────────────────────────────┼────────────────────────┼───────────────┤\n",
              "│ conv2d_3 (<span style=\"color: #0087ff; text-decoration-color: #0087ff\">Conv2D</span>)               │ (<span style=\"color: #00d7ff; text-decoration-color: #00d7ff\">None</span>, <span style=\"color: #00af00; text-decoration-color: #00af00\">216</span>, <span style=\"color: #00af00; text-decoration-color: #00af00\">216</span>, <span style=\"color: #00af00; text-decoration-color: #00af00\">50</span>)   │        <span style=\"color: #00af00; text-decoration-color: #00af00\">31,300</span> │\n",
              "├─────────────────────────────────┼────────────────────────┼───────────────┤\n",
              "│ max_pooling2d (<span style=\"color: #0087ff; text-decoration-color: #0087ff\">MaxPooling2D</span>)    │ (<span style=\"color: #00d7ff; text-decoration-color: #00d7ff\">None</span>, <span style=\"color: #00af00; text-decoration-color: #00af00\">54</span>, <span style=\"color: #00af00; text-decoration-color: #00af00\">54</span>, <span style=\"color: #00af00; text-decoration-color: #00af00\">50</span>)     │             <span style=\"color: #00af00; text-decoration-color: #00af00\">0</span> │\n",
              "├─────────────────────────────────┼────────────────────────┼───────────────┤\n",
              "│ flatten_1 (<span style=\"color: #0087ff; text-decoration-color: #0087ff\">Flatten</span>)             │ (<span style=\"color: #00d7ff; text-decoration-color: #00d7ff\">None</span>, <span style=\"color: #00af00; text-decoration-color: #00af00\">145800</span>)         │             <span style=\"color: #00af00; text-decoration-color: #00af00\">0</span> │\n",
              "├─────────────────────────────────┼────────────────────────┼───────────────┤\n",
              "│ dense_2 (<span style=\"color: #0087ff; text-decoration-color: #0087ff\">Dense</span>)                 │ (<span style=\"color: #00d7ff; text-decoration-color: #00d7ff\">None</span>, <span style=\"color: #00af00; text-decoration-color: #00af00\">100</span>)            │    <span style=\"color: #00af00; text-decoration-color: #00af00\">14,580,100</span> │\n",
              "├─────────────────────────────────┼────────────────────────┼───────────────┤\n",
              "│ dense_3 (<span style=\"color: #0087ff; text-decoration-color: #0087ff\">Dense</span>)                 │ (<span style=\"color: #00d7ff; text-decoration-color: #00d7ff\">None</span>, <span style=\"color: #00af00; text-decoration-color: #00af00\">1</span>)              │           <span style=\"color: #00af00; text-decoration-color: #00af00\">101</span> │\n",
              "└─────────────────────────────────┴────────────────────────┴───────────────┘\n",
              "</pre>\n"
            ]
          },
          "metadata": {}
        },
        {
          "output_type": "display_data",
          "data": {
            "text/plain": [
              "\u001b[1m Total params: \u001b[0m\u001b[38;5;34m14,613,401\u001b[0m (55.75 MB)\n"
            ],
            "text/html": [
              "<pre style=\"white-space:pre;overflow-x:auto;line-height:normal;font-family:Menlo,'DejaVu Sans Mono',consolas,'Courier New',monospace\"><span style=\"font-weight: bold\"> Total params: </span><span style=\"color: #00af00; text-decoration-color: #00af00\">14,613,401</span> (55.75 MB)\n",
              "</pre>\n"
            ]
          },
          "metadata": {}
        },
        {
          "output_type": "display_data",
          "data": {
            "text/plain": [
              "\u001b[1m Trainable params: \u001b[0m\u001b[38;5;34m14,613,401\u001b[0m (55.75 MB)\n"
            ],
            "text/html": [
              "<pre style=\"white-space:pre;overflow-x:auto;line-height:normal;font-family:Menlo,'DejaVu Sans Mono',consolas,'Courier New',monospace\"><span style=\"font-weight: bold\"> Trainable params: </span><span style=\"color: #00af00; text-decoration-color: #00af00\">14,613,401</span> (55.75 MB)\n",
              "</pre>\n"
            ]
          },
          "metadata": {}
        },
        {
          "output_type": "display_data",
          "data": {
            "text/plain": [
              "\u001b[1m Non-trainable params: \u001b[0m\u001b[38;5;34m0\u001b[0m (0.00 B)\n"
            ],
            "text/html": [
              "<pre style=\"white-space:pre;overflow-x:auto;line-height:normal;font-family:Menlo,'DejaVu Sans Mono',consolas,'Courier New',monospace\"><span style=\"font-weight: bold\"> Non-trainable params: </span><span style=\"color: #00af00; text-decoration-color: #00af00\">0</span> (0.00 B)\n",
              "</pre>\n"
            ]
          },
          "metadata": {}
        }
      ]
    },
    {
      "cell_type": "code",
      "metadata": {
        "scrolled": false,
        "id": "F5ZLlBqQhKM9",
        "outputId": "ada48b1f-5a20-42a3-fcc1-100815b39de4",
        "colab": {
          "base_uri": "https://localhost:8080/"
        }
      },
      "source": [
        "# training the model\n",
        "model_history = model.fit(X_train, y_train, epochs=10, batch_size=128,validation_data=(X_valid,y_valid))"
      ],
      "execution_count": 26,
      "outputs": [
        {
          "output_type": "stream",
          "name": "stdout",
          "text": [
            "Epoch 1/10\n",
            "\u001b[1m13/13\u001b[0m \u001b[32m━━━━━━━━━━━━━━━━━━━━\u001b[0m\u001b[37m\u001b[0m \u001b[1m12s\u001b[0m 761ms/step - accuracy: 0.5848 - loss: 0.7781 - val_accuracy: 0.5977 - val_loss: 0.6704\n",
            "Epoch 2/10\n",
            "\u001b[1m13/13\u001b[0m \u001b[32m━━━━━━━━━━━━━━━━━━━━\u001b[0m\u001b[37m\u001b[0m \u001b[1m16s\u001b[0m 462ms/step - accuracy: 0.5859 - loss: 0.6742 - val_accuracy: 0.6020 - val_loss: 0.6602\n",
            "Epoch 3/10\n",
            "\u001b[1m13/13\u001b[0m \u001b[32m━━━━━━━━━━━━━━━━━━━━\u001b[0m\u001b[37m\u001b[0m \u001b[1m6s\u001b[0m 460ms/step - accuracy: 0.6270 - loss: 0.6541 - val_accuracy: 0.5623 - val_loss: 0.6622\n",
            "Epoch 4/10\n",
            "\u001b[1m13/13\u001b[0m \u001b[32m━━━━━━━━━━━━━━━━━━━━\u001b[0m\u001b[37m\u001b[0m \u001b[1m10s\u001b[0m 411ms/step - accuracy: 0.6069 - loss: 0.6514 - val_accuracy: 0.5963 - val_loss: 0.6441\n",
            "Epoch 5/10\n",
            "\u001b[1m13/13\u001b[0m \u001b[32m━━━━━━━━━━━━━━━━━━━━\u001b[0m\u001b[37m\u001b[0m \u001b[1m6s\u001b[0m 468ms/step - accuracy: 0.6200 - loss: 0.6433 - val_accuracy: 0.6530 - val_loss: 0.6288\n",
            "Epoch 6/10\n",
            "\u001b[1m13/13\u001b[0m \u001b[32m━━━━━━━━━━━━━━━━━━━━\u001b[0m\u001b[37m\u001b[0m \u001b[1m10s\u001b[0m 465ms/step - accuracy: 0.6508 - loss: 0.6261 - val_accuracy: 0.6799 - val_loss: 0.6196\n",
            "Epoch 7/10\n",
            "\u001b[1m13/13\u001b[0m \u001b[32m━━━━━━━━━━━━━━━━━━━━\u001b[0m\u001b[37m\u001b[0m \u001b[1m10s\u001b[0m 460ms/step - accuracy: 0.6504 - loss: 0.6369 - val_accuracy: 0.6898 - val_loss: 0.6084\n",
            "Epoch 8/10\n",
            "\u001b[1m13/13\u001b[0m \u001b[32m━━━━━━━━━━━━━━━━━━━━\u001b[0m\u001b[37m\u001b[0m \u001b[1m5s\u001b[0m 414ms/step - accuracy: 0.6562 - loss: 0.6281 - val_accuracy: 0.6870 - val_loss: 0.5986\n",
            "Epoch 9/10\n",
            "\u001b[1m13/13\u001b[0m \u001b[32m━━━━━━━━━━━━━━━━━━━━\u001b[0m\u001b[37m\u001b[0m \u001b[1m11s\u001b[0m 458ms/step - accuracy: 0.6972 - loss: 0.5940 - val_accuracy: 0.6190 - val_loss: 0.6483\n",
            "Epoch 10/10\n",
            "\u001b[1m13/13\u001b[0m \u001b[32m━━━━━━━━━━━━━━━━━━━━\u001b[0m\u001b[37m\u001b[0m \u001b[1m10s\u001b[0m 404ms/step - accuracy: 0.6424 - loss: 0.6224 - val_accuracy: 0.7125 - val_loss: 0.5837\n"
          ]
        }
      ]
    },
    {
      "cell_type": "code",
      "metadata": {
        "id": "SoCap-6hKJkR",
        "outputId": "465eb553-adaa-4c6a-cc2e-f5aff2f4b39e",
        "colab": {
          "base_uri": "https://localhost:8080/"
        }
      },
      "source": [
        "# accuracy on training set\n",
        "# Use model.predict() and apply a threshold to get the class predictions\n",
        "train_predictions = (model.predict(X_train) > 0.5).astype(\"int32\")\n",
        "print('Accuracy on training set:', accuracy_score(y_train, train_predictions), '%')\n",
        "\n",
        "# accuracy on validation set\n",
        "# Use model.predict() and apply a threshold to get the class predictions\n",
        "valid_predictions = (model.predict(X_valid) > 0.5).astype(\"int32\")\n",
        "print('Accuracy on validation set:', accuracy_score(y_valid, valid_predictions), '%')"
      ],
      "execution_count": 28,
      "outputs": [
        {
          "output_type": "stream",
          "name": "stdout",
          "text": [
            "\u001b[1m52/52\u001b[0m \u001b[32m━━━━━━━━━━━━━━━━━━━━\u001b[0m\u001b[37m\u001b[0m \u001b[1m3s\u001b[0m 39ms/step\n",
            "Accuracy on training set: 0.7193195625759417 %\n",
            "\u001b[1m23/23\u001b[0m \u001b[32m━━━━━━━━━━━━━━━━━━━━\u001b[0m\u001b[37m\u001b[0m \u001b[1m1s\u001b[0m 50ms/step\n",
            "Accuracy on validation set: 0.7124645892351275 %\n"
          ]
        }
      ]
    },
    {
      "cell_type": "code",
      "metadata": {
        "id": "vYMP4z8FKJlK",
        "outputId": "ad19e34f-c685-4435-9af7-e17281b76d40",
        "colab": {
          "base_uri": "https://localhost:8080/",
          "height": 472
        }
      },
      "source": [
        "# summarize history for loss\n",
        "plt.plot(model_history.history['loss'])\n",
        "plt.plot(model_history.history['val_loss'])\n",
        "plt.title('model loss')\n",
        "plt.ylabel('loss')\n",
        "plt.xlabel('epoch')\n",
        "plt.legend(['train', 'validation'], loc='upper left')\n",
        "plt.show()"
      ],
      "execution_count": 29,
      "outputs": [
        {
          "output_type": "display_data",
          "data": {
            "text/plain": [
              "<Figure size 640x480 with 1 Axes>"
            ],
            "image/png": "[encoded data removed]"
          },
          "metadata": {}
        }
      ]
    },
    {
      "cell_type": "code",
      "metadata": {
        "id": "CGUdACeiKJle",
        "outputId": "d1098696-842d-4da3-88b1-90ef2e265fc7",
        "colab": {
          "base_uri": "https://localhost:8080/",
          "height": 472
        }
      },
      "source": [
        "# summarize history for accuracy\n",
        "plt.plot(model_history.history['accuracy']) # Changed 'acc' to 'accuracy'\n",
        "plt.plot(model_history.history['val_accuracy']) # Changed 'val_acc' to 'val_accuracy'\n",
        "plt.title('model accuracy')\n",
        "plt.ylabel('accuracy')\n",
        "plt.xlabel('epoch')\n",
        "plt.legend(['train', 'validation'], loc='upper left')\n",
        "plt.show()"
      ],
      "execution_count": 31,
      "outputs": [
        {
          "output_type": "display_data",
          "data": {
            "text/plain": [
              "<Figure size 640x480 with 1 Axes>"
            ],
            "image/png": "[encoded data removed]"
          },
          "metadata": {}
        }
      ]
    },
    {
      "cell_type": "markdown",
      "metadata": {
        "id": "eobCjMm_hKNd"
      },
      "source": [
        "## Hyperparameter Tuning of Convolutional Neural Networks\n",
        "\n",
        "1. increase number of convolutional layers\n",
        "2. increase number of pooling layers\n",
        "3. increase number of convolutional filters\n",
        "4. change size of convolutional filters\n",
        "5. change pooling type\n",
        "6. change padding technique\n",
        "7. change stride\n",
        "\n",
        "#### Hyperparameters of fully connected layers\n",
        "\n",
        "1. change activation function of hidden layer\n",
        "2. increase hidden neurons\n",
        "3. increase hidden layers\n",
        "4. increase number of epochs\n",
        "5. change optimizer\n",
        "6. add batch normalization layer\n",
        "7. add dropout layer"
      ]
    },
    {
      "cell_type": "markdown",
      "metadata": {
        "id": "qG9SHyVzLfeA"
      },
      "source": [
        "## 1. Increasing number of convolutional layers"
      ]
    },
    {
      "cell_type": "code",
      "metadata": {
        "id": "rLe_T2IxhKNl",
        "outputId": "5161a469-365c-4333-f96c-e3e0432f7448",
        "colab": {
          "base_uri": "https://localhost:8080/"
        }
      },
      "source": [
        "# increase number of convolutional layers\n",
        "\n",
        "model = Sequential()\n",
        "\n",
        "model.add(InputLayer(input_shape=(224, 224, 3)))\n",
        "\n",
        "model.add(Conv2D(25, (5, 5), activation='relu', strides=(1, 1), padding='valid'))\n",
        "model.add(Conv2D(50, (5, 5), activation='relu', strides=(1, 1), padding='valid'))\n",
        "model.add(Conv2D(50, (5, 5), activation='relu', strides=(1, 1), padding='valid'))\n",
        "model.add(MaxPool2D(pool_size=(4, 4), padding='valid'))\n",
        "\n",
        "model.add(Flatten())\n",
        "\n",
        "model.add(Dense(units=100, activation='sigmoid'))\n",
        "model.add(Dense(units=1, activation='sigmoid'))\n",
        "\n",
        "model.compile(loss='binary_crossentropy', optimizer=\"sgd\", metrics=['accuracy'])"
      ],
      "execution_count": 32,
      "outputs": [
        {
          "output_type": "stream",
          "name": "stderr",
          "text": [
            "/usr/local/lib/python3.11/dist-packages/keras/src/layers/core/input_layer.py:27: UserWarning: Argument `input_shape` is deprecated. Use `shape` instead.\n",
            "  warnings.warn(\n"
          ]
        }
      ]
    },
    {
      "cell_type": "code",
      "metadata": {
        "id": "U1arli-EhKNq",
        "outputId": "31f3fc4b-0c2f-4bf3-e850-23428da9fe54",
        "colab": {
          "base_uri": "https://localhost:8080/",
          "height": 353
        }
      },
      "source": [
        "model.summary()"
      ],
      "execution_count": 33,
      "outputs": [
        {
          "output_type": "display_data",
          "data": {
            "text/plain": [
              "\u001b[1mModel: \"sequential_2\"\u001b[0m\n"
            ],
            "text/html": [
              "<pre style=\"white-space:pre;overflow-x:auto;line-height:normal;font-family:Menlo,'DejaVu Sans Mono',consolas,'Courier New',monospace\"><span style=\"font-weight: bold\">Model: \"sequential_2\"</span>\n",
              "</pre>\n"
            ]
          },
          "metadata": {}
        },
        {
          "output_type": "display_data",
          "data": {
            "text/plain": [
              "┏━━━━━━━━━━━━━━━━━━━━━━━━━━━━━━━━━┳━━━━━━━━━━━━━━━━━━━━━━━━┳━━━━━━━━━━━━━━━┓\n",
              "┃\u001b[1m \u001b[0m\u001b[1mLayer (type)                   \u001b[0m\u001b[1m \u001b[0m┃\u001b[1m \u001b[0m\u001b[1mOutput Shape          \u001b[0m\u001b[1m \u001b[0m┃\u001b[1m \u001b[0m\u001b[1m      Param #\u001b[0m\u001b[1m \u001b[0m┃\n",
              "┡━━━━━━━━━━━━━━━━━━━━━━━━━━━━━━━━━╇━━━━━━━━━━━━━━━━━━━━━━━━╇━━━━━━━━━━━━━━━┩\n",
              "│ conv2d_4 (\u001b[38;5;33mConv2D\u001b[0m)               │ (\u001b[38;5;45mNone\u001b[0m, \u001b[38;5;34m220\u001b[0m, \u001b[38;5;34m220\u001b[0m, \u001b[38;5;34m25\u001b[0m)   │         \u001b[38;5;34m1,900\u001b[0m │\n",
              "├─────────────────────────────────┼────────────────────────┼───────────────┤\n",
              "│ conv2d_5 (\u001b[38;5;33mConv2D\u001b[0m)               │ (\u001b[38;5;45mNone\u001b[0m, \u001b[38;5;34m216\u001b[0m, \u001b[38;5;34m216\u001b[0m, \u001b[38;5;34m50\u001b[0m)   │        \u001b[38;5;34m31,300\u001b[0m │\n",
              "├─────────────────────────────────┼────────────────────────┼───────────────┤\n",
              "│ conv2d_6 (\u001b[38;5;33mConv2D\u001b[0m)               │ (\u001b[38;5;45mNone\u001b[0m, \u001b[38;5;34m212\u001b[0m, \u001b[38;5;34m212\u001b[0m, \u001b[38;5;34m50\u001b[0m)   │        \u001b[38;5;34m62,550\u001b[0m │\n",
              "├─────────────────────────────────┼────────────────────────┼───────────────┤\n",
              "│ max_pooling2d_1 (\u001b[38;5;33mMaxPooling2D\u001b[0m)  │ (\u001b[38;5;45mNone\u001b[0m, \u001b[38;5;34m53\u001b[0m, \u001b[38;5;34m53\u001b[0m, \u001b[38;5;34m50\u001b[0m)     │             \u001b[38;5;34m0\u001b[0m │\n",
              "├─────────────────────────────────┼────────────────────────┼───────────────┤\n",
              "│ flatten_2 (\u001b[38;5;33mFlatten\u001b[0m)             │ (\u001b[38;5;45mNone\u001b[0m, \u001b[38;5;34m140450\u001b[0m)         │             \u001b[38;5;34m0\u001b[0m │\n",
              "├─────────────────────────────────┼────────────────────────┼───────────────┤\n",
              "│ dense_4 (\u001b[38;5;33mDense\u001b[0m)                 │ (\u001b[38;5;45mNone\u001b[0m, \u001b[38;5;34m100\u001b[0m)            │    \u001b[38;5;34m14,045,100\u001b[0m │\n",
              "├─────────────────────────────────┼────────────────────────┼───────────────┤\n",
              "│ dense_5 (\u001b[38;5;33mDense\u001b[0m)                 │ (\u001b[38;5;45mNone\u001b[0m, \u001b[38;5;34m1\u001b[0m)              │           \u001b[38;5;34m101\u001b[0m │\n",
              "└─────────────────────────────────┴────────────────────────┴───────────────┘\n"
            ],
            "text/html": [
              "<pre style=\"white-space:pre;overflow-x:auto;line-height:normal;font-family:Menlo,'DejaVu Sans Mono',consolas,'Courier New',monospace\">┏━━━━━━━━━━━━━━━━━━━━━━━━━━━━━━━━━┳━━━━━━━━━━━━━━━━━━━━━━━━┳━━━━━━━━━━━━━━━┓\n",
              "┃<span style=\"font-weight: bold\"> Layer (type)                    </span>┃<span style=\"font-weight: bold\"> Output Shape           </span>┃<span style=\"font-weight: bold\">       Param # </span>┃\n",
              "┡━━━━━━━━━━━━━━━━━━━━━━━━━━━━━━━━━╇━━━━━━━━━━━━━━━━━━━━━━━━╇━━━━━━━━━━━━━━━┩\n",
              "│ conv2d_4 (<span style=\"color: #0087ff; text-decoration-color: #0087ff\">Conv2D</span>)               │ (<span style=\"color: #00d7ff; text-decoration-color: #00d7ff\">None</span>, <span style=\"color: #00af00; text-decoration-color: #00af00\">220</span>, <span style=\"color: #00af00; text-decoration-color: #00af00\">220</span>, <span style=\"color: #00af00; text-decoration-color: #00af00\">25</span>)   │         <span style=\"color: #00af00; text-decoration-color: #00af00\">1,900</span> │\n",
              "├─────────────────────────────────┼────────────────────────┼───────────────┤\n",
              "│ conv2d_5 (<span style=\"color: #0087ff; text-decoration-color: #0087ff\">Conv2D</span>)               │ (<span style=\"color: #00d7ff; text-decoration-color: #00d7ff\">None</span>, <span style=\"color: #00af00; text-decoration-color: #00af00\">216</span>, <span style=\"color: #00af00; text-decoration-color: #00af00\">216</span>, <span style=\"color: #00af00; text-decoration-color: #00af00\">50</span>)   │        <span style=\"color: #00af00; text-decoration-color: #00af00\">31,300</span> │\n",
              "├─────────────────────────────────┼────────────────────────┼───────────────┤\n",
              "│ conv2d_6 (<span style=\"color: #0087ff; text-decoration-color: #0087ff\">Conv2D</span>)               │ (<span style=\"color: #00d7ff; text-decoration-color: #00d7ff\">None</span>, <span style=\"color: #00af00; text-decoration-color: #00af00\">212</span>, <span style=\"color: #00af00; text-decoration-color: #00af00\">212</span>, <span style=\"color: #00af00; text-decoration-color: #00af00\">50</span>)   │        <span style=\"color: #00af00; text-decoration-color: #00af00\">62,550</span> │\n",
              "├─────────────────────────────────┼────────────────────────┼───────────────┤\n",
              "│ max_pooling2d_1 (<span style=\"color: #0087ff; text-decoration-color: #0087ff\">MaxPooling2D</span>)  │ (<span style=\"color: #00d7ff; text-decoration-color: #00d7ff\">None</span>, <span style=\"color: #00af00; text-decoration-color: #00af00\">53</span>, <span style=\"color: #00af00; text-decoration-color: #00af00\">53</span>, <span style=\"color: #00af00; text-decoration-color: #00af00\">50</span>)     │             <span style=\"color: #00af00; text-decoration-color: #00af00\">0</span> │\n",
              "├─────────────────────────────────┼────────────────────────┼───────────────┤\n",
              "│ flatten_2 (<span style=\"color: #0087ff; text-decoration-color: #0087ff\">Flatten</span>)             │ (<span style=\"color: #00d7ff; text-decoration-color: #00d7ff\">None</span>, <span style=\"color: #00af00; text-decoration-color: #00af00\">140450</span>)         │             <span style=\"color: #00af00; text-decoration-color: #00af00\">0</span> │\n",
              "├─────────────────────────────────┼────────────────────────┼───────────────┤\n",
              "│ dense_4 (<span style=\"color: #0087ff; text-decoration-color: #0087ff\">Dense</span>)                 │ (<span style=\"color: #00d7ff; text-decoration-color: #00d7ff\">None</span>, <span style=\"color: #00af00; text-decoration-color: #00af00\">100</span>)            │    <span style=\"color: #00af00; text-decoration-color: #00af00\">14,045,100</span> │\n",
              "├─────────────────────────────────┼────────────────────────┼───────────────┤\n",
              "│ dense_5 (<span style=\"color: #0087ff; text-decoration-color: #0087ff\">Dense</span>)                 │ (<span style=\"color: #00d7ff; text-decoration-color: #00d7ff\">None</span>, <span style=\"color: #00af00; text-decoration-color: #00af00\">1</span>)              │           <span style=\"color: #00af00; text-decoration-color: #00af00\">101</span> │\n",
              "└─────────────────────────────────┴────────────────────────┴───────────────┘\n",
              "</pre>\n"
            ]
          },
          "metadata": {}
        },
        {
          "output_type": "display_data",
          "data": {
            "text/plain": [
              "\u001b[1m Total params: \u001b[0m\u001b[38;5;34m14,140,951\u001b[0m (53.94 MB)\n"
            ],
            "text/html": [
              "<pre style=\"white-space:pre;overflow-x:auto;line-height:normal;font-family:Menlo,'DejaVu Sans Mono',consolas,'Courier New',monospace\"><span style=\"font-weight: bold\"> Total params: </span><span style=\"color: #00af00; text-decoration-color: #00af00\">14,140,951</span> (53.94 MB)\n",
              "</pre>\n"
            ]
          },
          "metadata": {}
        },
        {
          "output_type": "display_data",
          "data": {
            "text/plain": [
              "\u001b[1m Trainable params: \u001b[0m\u001b[38;5;34m14,140,951\u001b[0m (53.94 MB)\n"
            ],
            "text/html": [
              "<pre style=\"white-space:pre;overflow-x:auto;line-height:normal;font-family:Menlo,'DejaVu Sans Mono',consolas,'Courier New',monospace\"><span style=\"font-weight: bold\"> Trainable params: </span><span style=\"color: #00af00; text-decoration-color: #00af00\">14,140,951</span> (53.94 MB)\n",
              "</pre>\n"
            ]
          },
          "metadata": {}
        },
        {
          "output_type": "display_data",
          "data": {
            "text/plain": [
              "\u001b[1m Non-trainable params: \u001b[0m\u001b[38;5;34m0\u001b[0m (0.00 B)\n"
            ],
            "text/html": [
              "<pre style=\"white-space:pre;overflow-x:auto;line-height:normal;font-family:Menlo,'DejaVu Sans Mono',consolas,'Courier New',monospace\"><span style=\"font-weight: bold\"> Non-trainable params: </span><span style=\"color: #00af00; text-decoration-color: #00af00\">0</span> (0.00 B)\n",
              "</pre>\n"
            ]
          },
          "metadata": {}
        }
      ]
    },
    {
      "cell_type": "code",
      "metadata": {
        "scrolled": false,
        "id": "eaoHuj0ohKNy",
        "outputId": "3852971e-619e-4658-b372-2ec0921b72b2",
        "colab": {
          "base_uri": "https://localhost:8080/"
        }
      },
      "source": [
        "# training the model\n",
        "model_history = model.fit(X_train, y_train, epochs=10, batch_size=128,validation_data=(X_valid,y_valid))"
      ],
      "execution_count": 34,
      "outputs": [
        {
          "output_type": "stream",
          "name": "stdout",
          "text": [
            "Epoch 1/10\n",
            "\u001b[1m13/13\u001b[0m \u001b[32m━━━━━━━━━━━━━━━━━━━━\u001b[0m\u001b[37m\u001b[0m \u001b[1m92s\u001b[0m 5s/step - accuracy: 0.4566 - loss: 0.7514 - val_accuracy: 0.5609 - val_loss: 0.7082\n",
            "Epoch 2/10\n",
            "\u001b[1m13/13\u001b[0m \u001b[32m━━━━━━━━━━━━━━━━━━━━\u001b[0m\u001b[37m\u001b[0m \u001b[1m10s\u001b[0m 810ms/step - accuracy: 0.5920 - loss: 0.6750 - val_accuracy: 0.5581 - val_loss: 0.6798\n",
            "Epoch 3/10\n",
            "\u001b[1m13/13\u001b[0m \u001b[32m━━━━━━━━━━━━━━━━━━━━\u001b[0m\u001b[37m\u001b[0m \u001b[1m20s\u001b[0m 799ms/step - accuracy: 0.5945 - loss: 0.6689 - val_accuracy: 0.5595 - val_loss: 0.6713\n",
            "Epoch 4/10\n",
            "\u001b[1m13/13\u001b[0m \u001b[32m━━━━━━━━━━━━━━━━━━━━\u001b[0m\u001b[37m\u001b[0m \u001b[1m21s\u001b[0m 818ms/step - accuracy: 0.5888 - loss: 0.6601 - val_accuracy: 0.6062 - val_loss: 0.6572\n",
            "Epoch 5/10\n",
            "\u001b[1m13/13\u001b[0m \u001b[32m━━━━━━━━━━━━━━━━━━━━\u001b[0m\u001b[37m\u001b[0m \u001b[1m20s\u001b[0m 818ms/step - accuracy: 0.6301 - loss: 0.6513 - val_accuracy: 0.5921 - val_loss: 0.6538\n",
            "Epoch 6/10\n",
            "\u001b[1m13/13\u001b[0m \u001b[32m━━━━━━━━━━━━━━━━━━━━\u001b[0m\u001b[37m\u001b[0m \u001b[1m20s\u001b[0m 812ms/step - accuracy: 0.6274 - loss: 0.6438 - val_accuracy: 0.6516 - val_loss: 0.6311\n",
            "Epoch 7/10\n",
            "\u001b[1m13/13\u001b[0m \u001b[32m━━━━━━━━━━━━━━━━━━━━\u001b[0m\u001b[37m\u001b[0m \u001b[1m20s\u001b[0m 806ms/step - accuracy: 0.6468 - loss: 0.6349 - val_accuracy: 0.6544 - val_loss: 0.6252\n",
            "Epoch 8/10\n",
            "\u001b[1m13/13\u001b[0m \u001b[32m━━━━━━━━━━━━━━━━━━━━\u001b[0m\u001b[37m\u001b[0m \u001b[1m21s\u001b[0m 813ms/step - accuracy: 0.6526 - loss: 0.6242 - val_accuracy: 0.6657 - val_loss: 0.6154\n",
            "Epoch 9/10\n",
            "\u001b[1m13/13\u001b[0m \u001b[32m━━━━━━━━━━━━━━━━━━━━\u001b[0m\u001b[37m\u001b[0m \u001b[1m11s\u001b[0m 830ms/step - accuracy: 0.6494 - loss: 0.6250 - val_accuracy: 0.6813 - val_loss: 0.6102\n",
            "Epoch 10/10\n",
            "\u001b[1m13/13\u001b[0m \u001b[32m━━━━━━━━━━━━━━━━━━━━\u001b[0m\u001b[37m\u001b[0m \u001b[1m11s\u001b[0m 829ms/step - accuracy: 0.6600 - loss: 0.6242 - val_accuracy: 0.6700 - val_loss: 0.6083\n"
          ]
        }
      ]
    },
    {
      "cell_type": "code",
      "metadata": {
        "id": "27w1voVdNf-N",
        "outputId": "817cc9f6-434e-4426-a705-6171b136c9a4",
        "colab": {
          "base_uri": "https://localhost:8080/"
        }
      },
      "source": [
        "# accuracy on training set\n",
        "# Use model.predict() and apply a threshold to get the class predictions\n",
        "train_predictions = (model.predict(X_train) > 0.5).astype(\"int32\")\n",
        "print('Accuracy on training set:', accuracy_score(y_train, train_predictions), '%')"
      ],
      "execution_count": 36,
      "outputs": [
        {
          "output_type": "stream",
          "name": "stdout",
          "text": [
            "\u001b[1m52/52\u001b[0m \u001b[32m━━━━━━━━━━━━━━━━━━━━\u001b[0m\u001b[37m\u001b[0m \u001b[1m9s\u001b[0m 99ms/step\n",
            "Accuracy on training set: 0.6852976913730255 %\n"
          ]
        }
      ]
    },
    {
      "cell_type": "code",
      "metadata": {
        "id": "v7FsoJJPNf51",
        "outputId": "8792cc1f-d014-4a77-9945-a352f8c0e7cf",
        "colab": {
          "base_uri": "https://localhost:8080/"
        }
      },
      "source": [
        "# accuracy on validation set\n",
        "# Use model.predict() and apply a threshold to get the class predictions\n",
        "valid_predictions = (model.predict(X_valid) > 0.5).astype(\"int32\")\n",
        "print('Accuracy on validation set:', accuracy_score(y_valid, valid_predictions), '%')"
      ],
      "execution_count": 37,
      "outputs": [
        {
          "output_type": "stream",
          "name": "stdout",
          "text": [
            "\u001b[1m23/23\u001b[0m \u001b[32m━━━━━━━━━━━━━━━━━━━━\u001b[0m\u001b[37m\u001b[0m \u001b[1m2s\u001b[0m 98ms/step\n",
            "Accuracy on validation set: 0.669971671388102 %\n"
          ]
        }
      ]
    },
    {
      "cell_type": "markdown",
      "metadata": {
        "id": "EohJWvwLL2kk"
      },
      "source": [
        "## 2. Increasing number of pooling layers"
      ]
    },
    {
      "cell_type": "code",
      "metadata": {
        "id": "l5BHQGyCNFTB",
        "colab": {
          "base_uri": "https://localhost:8080/"
        },
        "outputId": "5f7a612a-b99d-4061-e162-10b6990cb2c8"
      },
      "source": [
        "# increase number of pooling layers\n",
        "\n",
        "model = Sequential()\n",
        "\n",
        "model.add(InputLayer(input_shape=(224, 224, 3)))\n",
        "\n",
        "model.add(Conv2D(25, (5, 5), activation='relu', strides=(1, 1), padding='valid'))\n",
        "model.add(MaxPool2D(pool_size=(4, 4), padding='valid'))\n",
        "model.add(Conv2D(50, (5, 5), activation='relu', strides=(1, 1), padding='valid'))\n",
        "model.add(MaxPool2D(pool_size=(4, 4), padding='valid'))\n",
        "\n",
        "model.add(Flatten())\n",
        "\n",
        "model.add(Dense(units=100, activation='sigmoid'))\n",
        "model.add(Dense(units=1, activation='sigmoid'))\n",
        "\n",
        "model.compile(loss='binary_crossentropy', optimizer=\"sgd\", metrics=['accuracy'])"
      ],
      "execution_count": 38,
      "outputs": [
        {
          "output_type": "stream",
          "name": "stderr",
          "text": [
            "/usr/local/lib/python3.11/dist-packages/keras/src/layers/core/input_layer.py:27: UserWarning: Argument `input_shape` is deprecated. Use `shape` instead.\n",
            "  warnings.warn(\n"
          ]
        }
      ]
    },
    {
      "cell_type": "code",
      "metadata": {
        "id": "2M42qtGdNFQb",
        "outputId": "72792b44-c42c-41bb-c32e-b9d2e9ccaede",
        "colab": {
          "base_uri": "https://localhost:8080/",
          "height": 353
        }
      },
      "source": [
        "model.summary()"
      ],
      "execution_count": 39,
      "outputs": [
        {
          "output_type": "display_data",
          "data": {
            "text/plain": [
              "\u001b[1mModel: \"sequential_3\"\u001b[0m\n"
            ],
            "text/html": [
              "<pre style=\"white-space:pre;overflow-x:auto;line-height:normal;font-family:Menlo,'DejaVu Sans Mono',consolas,'Courier New',monospace\"><span style=\"font-weight: bold\">Model: \"sequential_3\"</span>\n",
              "</pre>\n"
            ]
          },
          "metadata": {}
        },
        {
          "output_type": "display_data",
          "data": {
            "text/plain": [
              "┏━━━━━━━━━━━━━━━━━━━━━━━━━━━━━━━━━┳━━━━━━━━━━━━━━━━━━━━━━━━┳━━━━━━━━━━━━━━━┓\n",
              "┃\u001b[1m \u001b[0m\u001b[1mLayer (type)                   \u001b[0m\u001b[1m \u001b[0m┃\u001b[1m \u001b[0m\u001b[1mOutput Shape          \u001b[0m\u001b[1m \u001b[0m┃\u001b[1m \u001b[0m\u001b[1m      Param #\u001b[0m\u001b[1m \u001b[0m┃\n",
              "┡━━━━━━━━━━━━━━━━━━━━━━━━━━━━━━━━━╇━━━━━━━━━━━━━━━━━━━━━━━━╇━━━━━━━━━━━━━━━┩\n",
              "│ conv2d_7 (\u001b[38;5;33mConv2D\u001b[0m)               │ (\u001b[38;5;45mNone\u001b[0m, \u001b[38;5;34m220\u001b[0m, \u001b[38;5;34m220\u001b[0m, \u001b[38;5;34m25\u001b[0m)   │         \u001b[38;5;34m1,900\u001b[0m │\n",
              "├─────────────────────────────────┼────────────────────────┼───────────────┤\n",
              "│ max_pooling2d_2 (\u001b[38;5;33mMaxPooling2D\u001b[0m)  │ (\u001b[38;5;45mNone\u001b[0m, \u001b[38;5;34m55\u001b[0m, \u001b[38;5;34m55\u001b[0m, \u001b[38;5;34m25\u001b[0m)     │             \u001b[38;5;34m0\u001b[0m │\n",
              "├─────────────────────────────────┼────────────────────────┼───────────────┤\n",
              "│ conv2d_8 (\u001b[38;5;33mConv2D\u001b[0m)               │ (\u001b[38;5;45mNone\u001b[0m, \u001b[38;5;34m51\u001b[0m, \u001b[38;5;34m51\u001b[0m, \u001b[38;5;34m50\u001b[0m)     │        \u001b[38;5;34m31,300\u001b[0m │\n",
              "├─────────────────────────────────┼────────────────────────┼───────────────┤\n",
              "│ max_pooling2d_3 (\u001b[38;5;33mMaxPooling2D\u001b[0m)  │ (\u001b[38;5;45mNone\u001b[0m, \u001b[38;5;34m12\u001b[0m, \u001b[38;5;34m12\u001b[0m, \u001b[38;5;34m50\u001b[0m)     │             \u001b[38;5;34m0\u001b[0m │\n",
              "├─────────────────────────────────┼────────────────────────┼───────────────┤\n",
              "│ flatten_3 (\u001b[38;5;33mFlatten\u001b[0m)             │ (\u001b[38;5;45mNone\u001b[0m, \u001b[38;5;34m7200\u001b[0m)           │             \u001b[38;5;34m0\u001b[0m │\n",
              "├─────────────────────────────────┼────────────────────────┼───────────────┤\n",
              "│ dense_6 (\u001b[38;5;33mDense\u001b[0m)                 │ (\u001b[38;5;45mNone\u001b[0m, \u001b[38;5;34m100\u001b[0m)            │       \u001b[38;5;34m720,100\u001b[0m │\n",
              "├─────────────────────────────────┼────────────────────────┼───────────────┤\n",
              "│ dense_7 (\u001b[38;5;33mDense\u001b[0m)                 │ (\u001b[38;5;45mNone\u001b[0m, \u001b[38;5;34m1\u001b[0m)              │           \u001b[38;5;34m101\u001b[0m │\n",
              "└─────────────────────────────────┴────────────────────────┴───────────────┘\n"
            ],
            "text/html": [
              "<pre style=\"white-space:pre;overflow-x:auto;line-height:normal;font-family:Menlo,'DejaVu Sans Mono',consolas,'Courier New',monospace\">┏━━━━━━━━━━━━━━━━━━━━━━━━━━━━━━━━━┳━━━━━━━━━━━━━━━━━━━━━━━━┳━━━━━━━━━━━━━━━┓\n",
              "┃<span style=\"font-weight: bold\"> Layer (type)                    </span>┃<span style=\"font-weight: bold\"> Output Shape           </span>┃<span style=\"font-weight: bold\">       Param # </span>┃\n",
              "┡━━━━━━━━━━━━━━━━━━━━━━━━━━━━━━━━━╇━━━━━━━━━━━━━━━━━━━━━━━━╇━━━━━━━━━━━━━━━┩\n",
              "│ conv2d_7 (<span style=\"color: #0087ff; text-decoration-color: #0087ff\">Conv2D</span>)               │ (<span style=\"color: #00d7ff; text-decoration-color: #00d7ff\">None</span>, <span style=\"color: #00af00; text-decoration-color: #00af00\">220</span>, <span style=\"color: #00af00; text-decoration-color: #00af00\">220</span>, <span style=\"color: #00af00; text-decoration-color: #00af00\">25</span>)   │         <span style=\"color: #00af00; text-decoration-color: #00af00\">1,900</span> │\n",
              "├─────────────────────────────────┼────────────────────────┼───────────────┤\n",
              "│ max_pooling2d_2 (<span style=\"color: #0087ff; text-decoration-color: #0087ff\">MaxPooling2D</span>)  │ (<span style=\"color: #00d7ff; text-decoration-color: #00d7ff\">None</span>, <span style=\"color: #00af00; text-decoration-color: #00af00\">55</span>, <span style=\"color: #00af00; text-decoration-color: #00af00\">55</span>, <span style=\"color: #00af00; text-decoration-color: #00af00\">25</span>)     │             <span style=\"color: #00af00; text-decoration-color: #00af00\">0</span> │\n",
              "├─────────────────────────────────┼────────────────────────┼───────────────┤\n",
              "│ conv2d_8 (<span style=\"color: #0087ff; text-decoration-color: #0087ff\">Conv2D</span>)               │ (<span style=\"color: #00d7ff; text-decoration-color: #00d7ff\">None</span>, <span style=\"color: #00af00; text-decoration-color: #00af00\">51</span>, <span style=\"color: #00af00; text-decoration-color: #00af00\">51</span>, <span style=\"color: #00af00; text-decoration-color: #00af00\">50</span>)     │        <span style=\"color: #00af00; text-decoration-color: #00af00\">31,300</span> │\n",
              "├─────────────────────────────────┼────────────────────────┼───────────────┤\n",
              "│ max_pooling2d_3 (<span style=\"color: #0087ff; text-decoration-color: #0087ff\">MaxPooling2D</span>)  │ (<span style=\"color: #00d7ff; text-decoration-color: #00d7ff\">None</span>, <span style=\"color: #00af00; text-decoration-color: #00af00\">12</span>, <span style=\"color: #00af00; text-decoration-color: #00af00\">12</span>, <span style=\"color: #00af00; text-decoration-color: #00af00\">50</span>)     │             <span style=\"color: #00af00; text-decoration-color: #00af00\">0</span> │\n",
              "├─────────────────────────────────┼────────────────────────┼───────────────┤\n",
              "│ flatten_3 (<span style=\"color: #0087ff; text-decoration-color: #0087ff\">Flatten</span>)             │ (<span style=\"color: #00d7ff; text-decoration-color: #00d7ff\">None</span>, <span style=\"color: #00af00; text-decoration-color: #00af00\">7200</span>)           │             <span style=\"color: #00af00; text-decoration-color: #00af00\">0</span> │\n",
              "├─────────────────────────────────┼────────────────────────┼───────────────┤\n",
              "│ dense_6 (<span style=\"color: #0087ff; text-decoration-color: #0087ff\">Dense</span>)                 │ (<span style=\"color: #00d7ff; text-decoration-color: #00d7ff\">None</span>, <span style=\"color: #00af00; text-decoration-color: #00af00\">100</span>)            │       <span style=\"color: #00af00; text-decoration-color: #00af00\">720,100</span> │\n",
              "├─────────────────────────────────┼────────────────────────┼───────────────┤\n",
              "│ dense_7 (<span style=\"color: #0087ff; text-decoration-color: #0087ff\">Dense</span>)                 │ (<span style=\"color: #00d7ff; text-decoration-color: #00d7ff\">None</span>, <span style=\"color: #00af00; text-decoration-color: #00af00\">1</span>)              │           <span style=\"color: #00af00; text-decoration-color: #00af00\">101</span> │\n",
              "└─────────────────────────────────┴────────────────────────┴───────────────┘\n",
              "</pre>\n"
            ]
          },
          "metadata": {}
        },
        {
          "output_type": "display_data",
          "data": {
            "text/plain": [
              "\u001b[1m Total params: \u001b[0m\u001b[38;5;34m753,401\u001b[0m (2.87 MB)\n"
            ],
            "text/html": [
              "<pre style=\"white-space:pre;overflow-x:auto;line-height:normal;font-family:Menlo,'DejaVu Sans Mono',consolas,'Courier New',monospace\"><span style=\"font-weight: bold\"> Total params: </span><span style=\"color: #00af00; text-decoration-color: #00af00\">753,401</span> (2.87 MB)\n",
              "</pre>\n"
            ]
          },
          "metadata": {}
        },
        {
          "output_type": "display_data",
          "data": {
            "text/plain": [
              "\u001b[1m Trainable params: \u001b[0m\u001b[38;5;34m753,401\u001b[0m (2.87 MB)\n"
            ],
            "text/html": [
              "<pre style=\"white-space:pre;overflow-x:auto;line-height:normal;font-family:Menlo,'DejaVu Sans Mono',consolas,'Courier New',monospace\"><span style=\"font-weight: bold\"> Trainable params: </span><span style=\"color: #00af00; text-decoration-color: #00af00\">753,401</span> (2.87 MB)\n",
              "</pre>\n"
            ]
          },
          "metadata": {}
        },
        {
          "output_type": "display_data",
          "data": {
            "text/plain": [
              "\u001b[1m Non-trainable params: \u001b[0m\u001b[38;5;34m0\u001b[0m (0.00 B)\n"
            ],
            "text/html": [
              "<pre style=\"white-space:pre;overflow-x:auto;line-height:normal;font-family:Menlo,'DejaVu Sans Mono',consolas,'Courier New',monospace\"><span style=\"font-weight: bold\"> Non-trainable params: </span><span style=\"color: #00af00; text-decoration-color: #00af00\">0</span> (0.00 B)\n",
              "</pre>\n"
            ]
          },
          "metadata": {}
        }
      ]
    },
    {
      "cell_type": "code",
      "metadata": {
        "id": "u_XrOnOZNFNh",
        "outputId": "4923058d-f1b9-4cc8-c0cd-fb92c91f9aa7",
        "colab": {
          "base_uri": "https://localhost:8080/"
        }
      },
      "source": [
        "# training the model\n",
        "model_history = model.fit(X_train, y_train, epochs=10, batch_size=128,validation_data=(X_valid,y_valid))"
      ],
      "execution_count": 40,
      "outputs": [
        {
          "output_type": "stream",
          "name": "stdout",
          "text": [
            "Epoch 1/10\n",
            "\u001b[1m13/13\u001b[0m \u001b[32m━━━━━━━━━━━━━━━━━━━━\u001b[0m\u001b[37m\u001b[0m \u001b[1m11s\u001b[0m 664ms/step - accuracy: 0.4501 - loss: 0.7127 - val_accuracy: 0.5609 - val_loss: 0.6881\n",
            "Epoch 2/10\n",
            "\u001b[1m13/13\u001b[0m \u001b[32m━━━━━━━━━━━━━━━━━━━━\u001b[0m\u001b[37m\u001b[0m \u001b[1m11s\u001b[0m 134ms/step - accuracy: 0.5819 - loss: 0.6813 - val_accuracy: 0.5609 - val_loss: 0.6877\n",
            "Epoch 3/10\n",
            "\u001b[1m13/13\u001b[0m \u001b[32m━━━━━━━━━━━━━━━━━━━━\u001b[0m\u001b[37m\u001b[0m \u001b[1m3s\u001b[0m 164ms/step - accuracy: 0.6003 - loss: 0.6729 - val_accuracy: 0.5609 - val_loss: 0.6866\n",
            "Epoch 4/10\n",
            "\u001b[1m13/13\u001b[0m \u001b[32m━━━━━━━━━━━━━━━━━━━━\u001b[0m\u001b[37m\u001b[0m \u001b[1m2s\u001b[0m 153ms/step - accuracy: 0.5939 - loss: 0.6749 - val_accuracy: 0.5609 - val_loss: 0.6863\n",
            "Epoch 5/10\n",
            "\u001b[1m13/13\u001b[0m \u001b[32m━━━━━━━━━━━━━━━━━━━━\u001b[0m\u001b[37m\u001b[0m \u001b[1m2s\u001b[0m 131ms/step - accuracy: 0.5799 - loss: 0.6779 - val_accuracy: 0.5609 - val_loss: 0.6858\n",
            "Epoch 6/10\n",
            "\u001b[1m13/13\u001b[0m \u001b[32m━━━━━━━━━━━━━━━━━━━━\u001b[0m\u001b[37m\u001b[0m \u001b[1m2s\u001b[0m 157ms/step - accuracy: 0.5957 - loss: 0.6715 - val_accuracy: 0.5609 - val_loss: 0.6842\n",
            "Epoch 7/10\n",
            "\u001b[1m13/13\u001b[0m \u001b[32m━━━━━━━━━━━━━━━━━━━━\u001b[0m\u001b[37m\u001b[0m \u001b[1m2s\u001b[0m 136ms/step - accuracy: 0.5716 - loss: 0.6784 - val_accuracy: 0.5609 - val_loss: 0.6843\n",
            "Epoch 8/10\n",
            "\u001b[1m13/13\u001b[0m \u001b[32m━━━━━━━━━━━━━━━━━━━━\u001b[0m\u001b[37m\u001b[0m \u001b[1m2s\u001b[0m 129ms/step - accuracy: 0.5808 - loss: 0.6748 - val_accuracy: 0.5609 - val_loss: 0.6834\n",
            "Epoch 9/10\n",
            "\u001b[1m13/13\u001b[0m \u001b[32m━━━━━━━━━━━━━━━━━━━━\u001b[0m\u001b[37m\u001b[0m \u001b[1m3s\u001b[0m 128ms/step - accuracy: 0.5926 - loss: 0.6699 - val_accuracy: 0.5609 - val_loss: 0.6813\n",
            "Epoch 10/10\n",
            "\u001b[1m13/13\u001b[0m \u001b[32m━━━━━━━━━━━━━━━━━━━━\u001b[0m\u001b[37m\u001b[0m \u001b[1m3s\u001b[0m 154ms/step - accuracy: 0.5797 - loss: 0.6734 - val_accuracy: 0.5609 - val_loss: 0.6811\n"
          ]
        }
      ]
    },
    {
      "cell_type": "code",
      "metadata": {
        "id": "V5IT6yKfNnwR",
        "colab": {
          "base_uri": "https://localhost:8080/"
        },
        "outputId": "c3c36c9d-1196-4aec-e750-cf4b4494f5ff"
      },
      "source": [
        "# accuracy on training set\n",
        "# Use model.predict() and apply a threshold to get the class predictions\n",
        "train_predictions = (model.predict(X_train) > 0.5).astype(\"int32\")\n",
        "print('Accuracy on training set:', accuracy_score(y_train, train_predictions), '%')"
      ],
      "execution_count": 42,
      "outputs": [
        {
          "output_type": "stream",
          "name": "stdout",
          "text": [
            "\u001b[1m52/52\u001b[0m \u001b[32m━━━━━━━━━━━━━━━━━━━━\u001b[0m\u001b[37m\u001b[0m \u001b[1m2s\u001b[0m 27ms/step\n",
            "Accuracy on training set: 0.586269744835966 %\n"
          ]
        }
      ]
    },
    {
      "cell_type": "code",
      "metadata": {
        "id": "sxg_PHhONnw_",
        "colab": {
          "base_uri": "https://localhost:8080/"
        },
        "outputId": "5df28ba8-b2d4-4f13-8d3f-fc9525648c52"
      },
      "source": [
        "# accuracy on validation set\n",
        "# Use model.predict() and apply a threshold to get the class predictions\n",
        "valid_predictions = (model.predict(X_valid) > 0.5).astype(\"int32\")\n",
        "print('Accuracy on validation set:', accuracy_score(y_valid, valid_predictions), '%')"
      ],
      "execution_count": 44,
      "outputs": [
        {
          "output_type": "stream",
          "name": "stdout",
          "text": [
            "\u001b[1m23/23\u001b[0m \u001b[32m━━━━━━━━━━━━━━━━━━━━\u001b[0m\u001b[37m\u001b[0m \u001b[1m1s\u001b[0m 34ms/step\n",
            "Accuracy on validation set: 0.5609065155807366 %\n"
          ]
        }
      ]
    },
    {
      "cell_type": "markdown",
      "metadata": {
        "id": "570Net31NpiN"
      },
      "source": [
        "## 3. Increasing number of convolutional filters"
      ]
    },
    {
      "cell_type": "code",
      "metadata": {
        "id": "8jwO0VbKhKN9",
        "colab": {
          "base_uri": "https://localhost:8080/"
        },
        "outputId": "a22d7990-9683-4f46-db2d-045486fef70a"
      },
      "source": [
        "# increase number of convolutional filters\n",
        "\n",
        "model = Sequential()\n",
        "\n",
        "model.add(InputLayer(input_shape=(224, 224, 3)))\n",
        "\n",
        "model.add(Conv2D(50, (5, 5), activation='relu', strides=(1, 1), padding='valid'))\n",
        "model.add(Conv2D(75, (5, 5), activation='relu', strides=(1, 1), padding='valid'))\n",
        "model.add(MaxPool2D(pool_size=(4, 4), padding='valid'))\n",
        "\n",
        "model.add(Flatten())\n",
        "\n",
        "model.add(Dense(units=100, activation='sigmoid'))\n",
        "model.add(Dense(units=1, activation='sigmoid'))\n",
        "\n",
        "model.compile(loss='binary_crossentropy', optimizer=\"sgd\", metrics=['accuracy'])"
      ],
      "execution_count": 45,
      "outputs": [
        {
          "output_type": "stream",
          "name": "stderr",
          "text": [
            "/usr/local/lib/python3.11/dist-packages/keras/src/layers/core/input_layer.py:27: UserWarning: Argument `input_shape` is deprecated. Use `shape` instead.\n",
            "  warnings.warn(\n"
          ]
        }
      ]
    },
    {
      "cell_type": "code",
      "metadata": {
        "id": "nH2_XQPHN562",
        "outputId": "8ce09007-2726-4e35-c5f5-bed6307a7f66",
        "colab": {
          "base_uri": "https://localhost:8080/",
          "height": 321
        }
      },
      "source": [
        "model.summary()"
      ],
      "execution_count": 46,
      "outputs": [
        {
          "output_type": "display_data",
          "data": {
            "text/plain": [
              "\u001b[1mModel: \"sequential_4\"\u001b[0m\n"
            ],
            "text/html": [
              "<pre style=\"white-space:pre;overflow-x:auto;line-height:normal;font-family:Menlo,'DejaVu Sans Mono',consolas,'Courier New',monospace\"><span style=\"font-weight: bold\">Model: \"sequential_4\"</span>\n",
              "</pre>\n"
            ]
          },
          "metadata": {}
        },
        {
          "output_type": "display_data",
          "data": {
            "text/plain": [
              "┏━━━━━━━━━━━━━━━━━━━━━━━━━━━━━━━━━┳━━━━━━━━━━━━━━━━━━━━━━━━┳━━━━━━━━━━━━━━━┓\n",
              "┃\u001b[1m \u001b[0m\u001b[1mLayer (type)                   \u001b[0m\u001b[1m \u001b[0m┃\u001b[1m \u001b[0m\u001b[1mOutput Shape          \u001b[0m\u001b[1m \u001b[0m┃\u001b[1m \u001b[0m\u001b[1m      Param #\u001b[0m\u001b[1m \u001b[0m┃\n",
              "┡━━━━━━━━━━━━━━━━━━━━━━━━━━━━━━━━━╇━━━━━━━━━━━━━━━━━━━━━━━━╇━━━━━━━━━━━━━━━┩\n",
              "│ conv2d_9 (\u001b[38;5;33mConv2D\u001b[0m)               │ (\u001b[38;5;45mNone\u001b[0m, \u001b[38;5;34m220\u001b[0m, \u001b[38;5;34m220\u001b[0m, \u001b[38;5;34m50\u001b[0m)   │         \u001b[38;5;34m3,800\u001b[0m │\n",
              "├─────────────────────────────────┼────────────────────────┼───────────────┤\n",
              "│ conv2d_10 (\u001b[38;5;33mConv2D\u001b[0m)              │ (\u001b[38;5;45mNone\u001b[0m, \u001b[38;5;34m216\u001b[0m, \u001b[38;5;34m216\u001b[0m, \u001b[38;5;34m75\u001b[0m)   │        \u001b[38;5;34m93,825\u001b[0m │\n",
              "├─────────────────────────────────┼────────────────────────┼───────────────┤\n",
              "│ max_pooling2d_4 (\u001b[38;5;33mMaxPooling2D\u001b[0m)  │ (\u001b[38;5;45mNone\u001b[0m, \u001b[38;5;34m54\u001b[0m, \u001b[38;5;34m54\u001b[0m, \u001b[38;5;34m75\u001b[0m)     │             \u001b[38;5;34m0\u001b[0m │\n",
              "├─────────────────────────────────┼────────────────────────┼───────────────┤\n",
              "│ flatten_4 (\u001b[38;5;33mFlatten\u001b[0m)             │ (\u001b[38;5;45mNone\u001b[0m, \u001b[38;5;34m218700\u001b[0m)         │             \u001b[38;5;34m0\u001b[0m │\n",
              "├─────────────────────────────────┼────────────────────────┼───────────────┤\n",
              "│ dense_8 (\u001b[38;5;33mDense\u001b[0m)                 │ (\u001b[38;5;45mNone\u001b[0m, \u001b[38;5;34m100\u001b[0m)            │    \u001b[38;5;34m21,870,100\u001b[0m │\n",
              "├─────────────────────────────────┼────────────────────────┼───────────────┤\n",
              "│ dense_9 (\u001b[38;5;33mDense\u001b[0m)                 │ (\u001b[38;5;45mNone\u001b[0m, \u001b[38;5;34m1\u001b[0m)              │           \u001b[38;5;34m101\u001b[0m │\n",
              "└─────────────────────────────────┴────────────────────────┴───────────────┘\n"
            ],
            "text/html": [
              "<pre style=\"white-space:pre;overflow-x:auto;line-height:normal;font-family:Menlo,'DejaVu Sans Mono',consolas,'Courier New',monospace\">┏━━━━━━━━━━━━━━━━━━━━━━━━━━━━━━━━━┳━━━━━━━━━━━━━━━━━━━━━━━━┳━━━━━━━━━━━━━━━┓\n",
              "┃<span style=\"font-weight: bold\"> Layer (type)                    </span>┃<span style=\"font-weight: bold\"> Output Shape           </span>┃<span style=\"font-weight: bold\">       Param # </span>┃\n",
              "┡━━━━━━━━━━━━━━━━━━━━━━━━━━━━━━━━━╇━━━━━━━━━━━━━━━━━━━━━━━━╇━━━━━━━━━━━━━━━┩\n",
              "│ conv2d_9 (<span style=\"color: #0087ff; text-decoration-color: #0087ff\">Conv2D</span>)               │ (<span style=\"color: #00d7ff; text-decoration-color: #00d7ff\">None</span>, <span style=\"color: #00af00; text-decoration-color: #00af00\">220</span>, <span style=\"color: #00af00; text-decoration-color: #00af00\">220</span>, <span style=\"color: #00af00; text-decoration-color: #00af00\">50</span>)   │         <span style=\"color: #00af00; text-decoration-color: #00af00\">3,800</span> │\n",
              "├─────────────────────────────────┼────────────────────────┼───────────────┤\n",
              "│ conv2d_10 (<span style=\"color: #0087ff; text-decoration-color: #0087ff\">Conv2D</span>)              │ (<span style=\"color: #00d7ff; text-decoration-color: #00d7ff\">None</span>, <span style=\"color: #00af00; text-decoration-color: #00af00\">216</span>, <span style=\"color: #00af00; text-decoration-color: #00af00\">216</span>, <span style=\"color: #00af00; text-decoration-color: #00af00\">75</span>)   │        <span style=\"color: #00af00; text-decoration-color: #00af00\">93,825</span> │\n",
              "├─────────────────────────────────┼────────────────────────┼───────────────┤\n",
              "│ max_pooling2d_4 (<span style=\"color: #0087ff; text-decoration-color: #0087ff\">MaxPooling2D</span>)  │ (<span style=\"color: #00d7ff; text-decoration-color: #00d7ff\">None</span>, <span style=\"color: #00af00; text-decoration-color: #00af00\">54</span>, <span style=\"color: #00af00; text-decoration-color: #00af00\">54</span>, <span style=\"color: #00af00; text-decoration-color: #00af00\">75</span>)     │             <span style=\"color: #00af00; text-decoration-color: #00af00\">0</span> │\n",
              "├─────────────────────────────────┼────────────────────────┼───────────────┤\n",
              "│ flatten_4 (<span style=\"color: #0087ff; text-decoration-color: #0087ff\">Flatten</span>)             │ (<span style=\"color: #00d7ff; text-decoration-color: #00d7ff\">None</span>, <span style=\"color: #00af00; text-decoration-color: #00af00\">218700</span>)         │             <span style=\"color: #00af00; text-decoration-color: #00af00\">0</span> │\n",
              "├─────────────────────────────────┼────────────────────────┼───────────────┤\n",
              "│ dense_8 (<span style=\"color: #0087ff; text-decoration-color: #0087ff\">Dense</span>)                 │ (<span style=\"color: #00d7ff; text-decoration-color: #00d7ff\">None</span>, <span style=\"color: #00af00; text-decoration-color: #00af00\">100</span>)            │    <span style=\"color: #00af00; text-decoration-color: #00af00\">21,870,100</span> │\n",
              "├─────────────────────────────────┼────────────────────────┼───────────────┤\n",
              "│ dense_9 (<span style=\"color: #0087ff; text-decoration-color: #0087ff\">Dense</span>)                 │ (<span style=\"color: #00d7ff; text-decoration-color: #00d7ff\">None</span>, <span style=\"color: #00af00; text-decoration-color: #00af00\">1</span>)              │           <span style=\"color: #00af00; text-decoration-color: #00af00\">101</span> │\n",
              "└─────────────────────────────────┴────────────────────────┴───────────────┘\n",
              "</pre>\n"
            ]
          },
          "metadata": {}
        },
        {
          "output_type": "display_data",
          "data": {
            "text/plain": [
              "\u001b[1m Total params: \u001b[0m\u001b[38;5;34m21,967,826\u001b[0m (83.80 MB)\n"
            ],
            "text/html": [
              "<pre style=\"white-space:pre;overflow-x:auto;line-height:normal;font-family:Menlo,'DejaVu Sans Mono',consolas,'Courier New',monospace\"><span style=\"font-weight: bold\"> Total params: </span><span style=\"color: #00af00; text-decoration-color: #00af00\">21,967,826</span> (83.80 MB)\n",
              "</pre>\n"
            ]
          },
          "metadata": {}
        },
        {
          "output_type": "display_data",
          "data": {
            "text/plain": [
              "\u001b[1m Trainable params: \u001b[0m\u001b[38;5;34m21,967,826\u001b[0m (83.80 MB)\n"
            ],
            "text/html": [
              "<pre style=\"white-space:pre;overflow-x:auto;line-height:normal;font-family:Menlo,'DejaVu Sans Mono',consolas,'Courier New',monospace\"><span style=\"font-weight: bold\"> Trainable params: </span><span style=\"color: #00af00; text-decoration-color: #00af00\">21,967,826</span> (83.80 MB)\n",
              "</pre>\n"
            ]
          },
          "metadata": {}
        },
        {
          "output_type": "display_data",
          "data": {
            "text/plain": [
              "\u001b[1m Non-trainable params: \u001b[0m\u001b[38;5;34m0\u001b[0m (0.00 B)\n"
            ],
            "text/html": [
              "<pre style=\"white-space:pre;overflow-x:auto;line-height:normal;font-family:Menlo,'DejaVu Sans Mono',consolas,'Courier New',monospace\"><span style=\"font-weight: bold\"> Non-trainable params: </span><span style=\"color: #00af00; text-decoration-color: #00af00\">0</span> (0.00 B)\n",
              "</pre>\n"
            ]
          },
          "metadata": {}
        }
      ]
    },
    {
      "cell_type": "code",
      "metadata": {
        "id": "FPAQ7FBhN_sf",
        "outputId": "9eafaa0a-4d43-41ae-f380-2c78470f1432",
        "colab": {
          "base_uri": "https://localhost:8080/"
        }
      },
      "source": [
        "# training the model\n",
        "model_history = model.fit(X_train, y_train, epochs=10, batch_size=128,validation_data=(X_valid,y_valid))"
      ],
      "execution_count": 47,
      "outputs": [
        {
          "output_type": "stream",
          "name": "stdout",
          "text": [
            "Epoch 1/10\n",
            "\u001b[1m13/13\u001b[0m \u001b[32m━━━━━━━━━━━━━━━━━━━━\u001b[0m\u001b[37m\u001b[0m \u001b[1m131s\u001b[0m 7s/step - accuracy: 0.5833 - loss: 0.6778 - val_accuracy: 0.5609 - val_loss: 0.6800\n",
            "Epoch 2/10\n",
            "\u001b[1m13/13\u001b[0m \u001b[32m━━━━━━━━━━━━━━━━━━━━\u001b[0m\u001b[37m\u001b[0m \u001b[1m9s\u001b[0m 729ms/step - accuracy: 0.5842 - loss: 0.6710 - val_accuracy: 0.5609 - val_loss: 0.6726\n",
            "Epoch 3/10\n",
            "\u001b[1m13/13\u001b[0m \u001b[32m━━━━━━━━━━━━━━━━━━━━\u001b[0m\u001b[37m\u001b[0m \u001b[1m10s\u001b[0m 716ms/step - accuracy: 0.5908 - loss: 0.6632 - val_accuracy: 0.5609 - val_loss: 0.6668\n",
            "Epoch 4/10\n",
            "\u001b[1m13/13\u001b[0m \u001b[32m━━━━━━━━━━━━━━━━━━━━\u001b[0m\u001b[37m\u001b[0m \u001b[1m10s\u001b[0m 731ms/step - accuracy: 0.5888 - loss: 0.6569 - val_accuracy: 0.5680 - val_loss: 0.6573\n",
            "Epoch 5/10\n",
            "\u001b[1m13/13\u001b[0m \u001b[32m━━━━━━━━━━━━━━━━━━━━\u001b[0m\u001b[37m\u001b[0m \u001b[1m10s\u001b[0m 721ms/step - accuracy: 0.6062 - loss: 0.6483 - val_accuracy: 0.6161 - val_loss: 0.6463\n",
            "Epoch 6/10\n",
            "\u001b[1m13/13\u001b[0m \u001b[32m━━━━━━━━━━━━━━━━━━━━\u001b[0m\u001b[37m\u001b[0m \u001b[1m10s\u001b[0m 732ms/step - accuracy: 0.6374 - loss: 0.6428 - val_accuracy: 0.6161 - val_loss: 0.6400\n",
            "Epoch 7/10\n",
            "\u001b[1m13/13\u001b[0m \u001b[32m━━━━━━━━━━━━━━━━━━━━\u001b[0m\u001b[37m\u001b[0m \u001b[1m10s\u001b[0m 741ms/step - accuracy: 0.6697 - loss: 0.6199 - val_accuracy: 0.6955 - val_loss: 0.6223\n",
            "Epoch 8/10\n",
            "\u001b[1m13/13\u001b[0m \u001b[32m━━━━━━━━━━━━━━━━━━━━\u001b[0m\u001b[37m\u001b[0m \u001b[1m10s\u001b[0m 740ms/step - accuracy: 0.6765 - loss: 0.6187 - val_accuracy: 0.6530 - val_loss: 0.6194\n",
            "Epoch 9/10\n",
            "\u001b[1m13/13\u001b[0m \u001b[32m━━━━━━━━━━━━━━━━━━━━\u001b[0m\u001b[37m\u001b[0m \u001b[1m10s\u001b[0m 736ms/step - accuracy: 0.6738 - loss: 0.6090 - val_accuracy: 0.6544 - val_loss: 0.6118\n",
            "Epoch 10/10\n",
            "\u001b[1m13/13\u001b[0m \u001b[32m━━━━━━━━━━━━━━━━━━━━\u001b[0m\u001b[37m\u001b[0m \u001b[1m10s\u001b[0m 736ms/step - accuracy: 0.6788 - loss: 0.6017 - val_accuracy: 0.7011 - val_loss: 0.5952\n"
          ]
        }
      ]
    },
    {
      "cell_type": "code",
      "metadata": {
        "id": "9U-22outN_tC",
        "outputId": "eb8ce3d3-e3e0-4d52-99f8-8af0c19372b9",
        "colab": {
          "base_uri": "https://localhost:8080/"
        }
      },
      "source": [
        "# accuracy on training set\n",
        "# Use model.predict() and apply a threshold to get the class predictions\n",
        "train_predictions = (model.predict(X_train) > 0.5).astype(\"int32\")\n",
        "print('Accuracy on training set:', accuracy_score(y_train, train_predictions), '%')"
      ],
      "execution_count": 49,
      "outputs": [
        {
          "output_type": "stream",
          "name": "stdout",
          "text": [
            "\u001b[1m52/52\u001b[0m \u001b[32m━━━━━━━━━━━━━━━━━━━━\u001b[0m\u001b[37m\u001b[0m \u001b[1m11s\u001b[0m 110ms/step\n",
            "Accuracy on training set: 0.6901579586877278 %\n"
          ]
        }
      ]
    },
    {
      "cell_type": "code",
      "metadata": {
        "id": "12Cz-XVpN_tR",
        "outputId": "c0d49d21-dbd8-411d-d35c-3a2dd6fecdd5",
        "colab": {
          "base_uri": "https://localhost:8080/"
        }
      },
      "source": [
        "# accuracy on validation set\n",
        "# Use model.predict() and apply a threshold to get the class predictions\n",
        "valid_predictions = (model.predict(X_valid) > 0.5).astype(\"int32\")\n",
        "print('Accuracy on validation set:', accuracy_score(y_valid, valid_predictions), '%')"
      ],
      "execution_count": 50,
      "outputs": [
        {
          "output_type": "stream",
          "name": "stdout",
          "text": [
            "\u001b[1m23/23\u001b[0m \u001b[32m━━━━━━━━━━━━━━━━━━━━\u001b[0m\u001b[37m\u001b[0m \u001b[1m2s\u001b[0m 108ms/step\n",
            "Accuracy on validation set: 0.7011331444759207 %\n"
          ]
        }
      ]
    },
    {
      "cell_type": "markdown",
      "metadata": {
        "id": "zJjMRdqpW2Rv"
      },
      "source": [
        "## 4. Changing size of convolutional filters"
      ]
    },
    {
      "cell_type": "code",
      "metadata": {
        "id": "9of5ypRihKOH",
        "colab": {
          "base_uri": "https://localhost:8080/"
        },
        "outputId": "c51f6838-0977-4905-b7e1-03c8ddff4653"
      },
      "source": [
        "# change filter size for convolutional layer\n",
        "\n",
        "model = Sequential()\n",
        "\n",
        "model.add(InputLayer(input_shape=(224, 224, 3)))\n",
        "\n",
        "model.add(Conv2D(25, (3, 3), activation='relu', strides=(1, 1), padding='valid'))\n",
        "model.add(Conv2D(50, (3, 3), activation='relu', strides=(1, 1), padding='valid'))\n",
        "model.add(MaxPool2D(pool_size=(4, 4), padding='valid'))\n",
        "\n",
        "model.add(Flatten())\n",
        "\n",
        "model.add(Dense(units=100, activation='sigmoid'))\n",
        "model.add(Dense(units=1, activation='sigmoid'))\n",
        "\n",
        "model.compile(loss='binary_crossentropy', optimizer=\"sgd\", metrics=['accuracy'])"
      ],
      "execution_count": 51,
      "outputs": [
        {
          "output_type": "stream",
          "name": "stderr",
          "text": [
            "/usr/local/lib/python3.11/dist-packages/keras/src/layers/core/input_layer.py:27: UserWarning: Argument `input_shape` is deprecated. Use `shape` instead.\n",
            "  warnings.warn(\n"
          ]
        }
      ]
    },
    {
      "cell_type": "code",
      "metadata": {
        "id": "Ax6l1FB9XZ1I",
        "outputId": "a80ef2fb-ca65-49bc-8d02-cf952d62cd31",
        "colab": {
          "base_uri": "https://localhost:8080/",
          "height": 321
        }
      },
      "source": [
        "model.summary()"
      ],
      "execution_count": 52,
      "outputs": [
        {
          "output_type": "display_data",
          "data": {
            "text/plain": [
              "\u001b[1mModel: \"sequential_5\"\u001b[0m\n"
            ],
            "text/html": [
              "<pre style=\"white-space:pre;overflow-x:auto;line-height:normal;font-family:Menlo,'DejaVu Sans Mono',consolas,'Courier New',monospace\"><span style=\"font-weight: bold\">Model: \"sequential_5\"</span>\n",
              "</pre>\n"
            ]
          },
          "metadata": {}
        },
        {
          "output_type": "display_data",
          "data": {
            "text/plain": [
              "┏━━━━━━━━━━━━━━━━━━━━━━━━━━━━━━━━━┳━━━━━━━━━━━━━━━━━━━━━━━━┳━━━━━━━━━━━━━━━┓\n",
              "┃\u001b[1m \u001b[0m\u001b[1mLayer (type)                   \u001b[0m\u001b[1m \u001b[0m┃\u001b[1m \u001b[0m\u001b[1mOutput Shape          \u001b[0m\u001b[1m \u001b[0m┃\u001b[1m \u001b[0m\u001b[1m      Param #\u001b[0m\u001b[1m \u001b[0m┃\n",
              "┡━━━━━━━━━━━━━━━━━━━━━━━━━━━━━━━━━╇━━━━━━━━━━━━━━━━━━━━━━━━╇━━━━━━━━━━━━━━━┩\n",
              "│ conv2d_11 (\u001b[38;5;33mConv2D\u001b[0m)              │ (\u001b[38;5;45mNone\u001b[0m, \u001b[38;5;34m222\u001b[0m, \u001b[38;5;34m222\u001b[0m, \u001b[38;5;34m25\u001b[0m)   │           \u001b[38;5;34m700\u001b[0m │\n",
              "├─────────────────────────────────┼────────────────────────┼───────────────┤\n",
              "│ conv2d_12 (\u001b[38;5;33mConv2D\u001b[0m)              │ (\u001b[38;5;45mNone\u001b[0m, \u001b[38;5;34m220\u001b[0m, \u001b[38;5;34m220\u001b[0m, \u001b[38;5;34m50\u001b[0m)   │        \u001b[38;5;34m11,300\u001b[0m │\n",
              "├─────────────────────────────────┼────────────────────────┼───────────────┤\n",
              "│ max_pooling2d_5 (\u001b[38;5;33mMaxPooling2D\u001b[0m)  │ (\u001b[38;5;45mNone\u001b[0m, \u001b[38;5;34m55\u001b[0m, \u001b[38;5;34m55\u001b[0m, \u001b[38;5;34m50\u001b[0m)     │             \u001b[38;5;34m0\u001b[0m │\n",
              "├─────────────────────────────────┼────────────────────────┼───────────────┤\n",
              "│ flatten_5 (\u001b[38;5;33mFlatten\u001b[0m)             │ (\u001b[38;5;45mNone\u001b[0m, \u001b[38;5;34m151250\u001b[0m)         │             \u001b[38;5;34m0\u001b[0m │\n",
              "├─────────────────────────────────┼────────────────────────┼───────────────┤\n",
              "│ dense_10 (\u001b[38;5;33mDense\u001b[0m)                │ (\u001b[38;5;45mNone\u001b[0m, \u001b[38;5;34m100\u001b[0m)            │    \u001b[38;5;34m15,125,100\u001b[0m │\n",
              "├─────────────────────────────────┼────────────────────────┼───────────────┤\n",
              "│ dense_11 (\u001b[38;5;33mDense\u001b[0m)                │ (\u001b[38;5;45mNone\u001b[0m, \u001b[38;5;34m1\u001b[0m)              │           \u001b[38;5;34m101\u001b[0m │\n",
              "└─────────────────────────────────┴────────────────────────┴───────────────┘\n"
            ],
            "text/html": [
              "<pre style=\"white-space:pre;overflow-x:auto;line-height:normal;font-family:Menlo,'DejaVu Sans Mono',consolas,'Courier New',monospace\">┏━━━━━━━━━━━━━━━━━━━━━━━━━━━━━━━━━┳━━━━━━━━━━━━━━━━━━━━━━━━┳━━━━━━━━━━━━━━━┓\n",
              "┃<span style=\"font-weight: bold\"> Layer (type)                    </span>┃<span style=\"font-weight: bold\"> Output Shape           </span>┃<span style=\"font-weight: bold\">       Param # </span>┃\n",
              "┡━━━━━━━━━━━━━━━━━━━━━━━━━━━━━━━━━╇━━━━━━━━━━━━━━━━━━━━━━━━╇━━━━━━━━━━━━━━━┩\n",
              "│ conv2d_11 (<span style=\"color: #0087ff; text-decoration-color: #0087ff\">Conv2D</span>)              │ (<span style=\"color: #00d7ff; text-decoration-color: #00d7ff\">None</span>, <span style=\"color: #00af00; text-decoration-color: #00af00\">222</span>, <span style=\"color: #00af00; text-decoration-color: #00af00\">222</span>, <span style=\"color: #00af00; text-decoration-color: #00af00\">25</span>)   │           <span style=\"color: #00af00; text-decoration-color: #00af00\">700</span> │\n",
              "├─────────────────────────────────┼────────────────────────┼───────────────┤\n",
              "│ conv2d_12 (<span style=\"color: #0087ff; text-decoration-color: #0087ff\">Conv2D</span>)              │ (<span style=\"color: #00d7ff; text-decoration-color: #00d7ff\">None</span>, <span style=\"color: #00af00; text-decoration-color: #00af00\">220</span>, <span style=\"color: #00af00; text-decoration-color: #00af00\">220</span>, <span style=\"color: #00af00; text-decoration-color: #00af00\">50</span>)   │        <span style=\"color: #00af00; text-decoration-color: #00af00\">11,300</span> │\n",
              "├─────────────────────────────────┼────────────────────────┼───────────────┤\n",
              "│ max_pooling2d_5 (<span style=\"color: #0087ff; text-decoration-color: #0087ff\">MaxPooling2D</span>)  │ (<span style=\"color: #00d7ff; text-decoration-color: #00d7ff\">None</span>, <span style=\"color: #00af00; text-decoration-color: #00af00\">55</span>, <span style=\"color: #00af00; text-decoration-color: #00af00\">55</span>, <span style=\"color: #00af00; text-decoration-color: #00af00\">50</span>)     │             <span style=\"color: #00af00; text-decoration-color: #00af00\">0</span> │\n",
              "├─────────────────────────────────┼────────────────────────┼───────────────┤\n",
              "│ flatten_5 (<span style=\"color: #0087ff; text-decoration-color: #0087ff\">Flatten</span>)             │ (<span style=\"color: #00d7ff; text-decoration-color: #00d7ff\">None</span>, <span style=\"color: #00af00; text-decoration-color: #00af00\">151250</span>)         │             <span style=\"color: #00af00; text-decoration-color: #00af00\">0</span> │\n",
              "├─────────────────────────────────┼────────────────────────┼───────────────┤\n",
              "│ dense_10 (<span style=\"color: #0087ff; text-decoration-color: #0087ff\">Dense</span>)                │ (<span style=\"color: #00d7ff; text-decoration-color: #00d7ff\">None</span>, <span style=\"color: #00af00; text-decoration-color: #00af00\">100</span>)            │    <span style=\"color: #00af00; text-decoration-color: #00af00\">15,125,100</span> │\n",
              "├─────────────────────────────────┼────────────────────────┼───────────────┤\n",
              "│ dense_11 (<span style=\"color: #0087ff; text-decoration-color: #0087ff\">Dense</span>)                │ (<span style=\"color: #00d7ff; text-decoration-color: #00d7ff\">None</span>, <span style=\"color: #00af00; text-decoration-color: #00af00\">1</span>)              │           <span style=\"color: #00af00; text-decoration-color: #00af00\">101</span> │\n",
              "└─────────────────────────────────┴────────────────────────┴───────────────┘\n",
              "</pre>\n"
            ]
          },
          "metadata": {}
        },
        {
          "output_type": "display_data",
          "data": {
            "text/plain": [
              "\u001b[1m Total params: \u001b[0m\u001b[38;5;34m15,137,201\u001b[0m (57.74 MB)\n"
            ],
            "text/html": [
              "<pre style=\"white-space:pre;overflow-x:auto;line-height:normal;font-family:Menlo,'DejaVu Sans Mono',consolas,'Courier New',monospace\"><span style=\"font-weight: bold\"> Total params: </span><span style=\"color: #00af00; text-decoration-color: #00af00\">15,137,201</span> (57.74 MB)\n",
              "</pre>\n"
            ]
          },
          "metadata": {}
        },
        {
          "output_type": "display_data",
          "data": {
            "text/plain": [
              "\u001b[1m Trainable params: \u001b[0m\u001b[38;5;34m15,137,201\u001b[0m (57.74 MB)\n"
            ],
            "text/html": [
              "<pre style=\"white-space:pre;overflow-x:auto;line-height:normal;font-family:Menlo,'DejaVu Sans Mono',consolas,'Courier New',monospace\"><span style=\"font-weight: bold\"> Trainable params: </span><span style=\"color: #00af00; text-decoration-color: #00af00\">15,137,201</span> (57.74 MB)\n",
              "</pre>\n"
            ]
          },
          "metadata": {}
        },
        {
          "output_type": "display_data",
          "data": {
            "text/plain": [
              "\u001b[1m Non-trainable params: \u001b[0m\u001b[38;5;34m0\u001b[0m (0.00 B)\n"
            ],
            "text/html": [
              "<pre style=\"white-space:pre;overflow-x:auto;line-height:normal;font-family:Menlo,'DejaVu Sans Mono',consolas,'Courier New',monospace\"><span style=\"font-weight: bold\"> Non-trainable params: </span><span style=\"color: #00af00; text-decoration-color: #00af00\">0</span> (0.00 B)\n",
              "</pre>\n"
            ]
          },
          "metadata": {}
        }
      ]
    },
    {
      "cell_type": "code",
      "metadata": {
        "id": "HtwUPK-tXZ1l",
        "outputId": "6a832f7b-7e91-45cb-d55d-ecdb0cebc44b",
        "colab": {
          "base_uri": "https://localhost:8080/"
        }
      },
      "source": [
        "# training the model\n",
        "model_history = model.fit(X_train, y_train, epochs=10, batch_size=128,validation_data=(X_valid,y_valid))"
      ],
      "execution_count": 53,
      "outputs": [
        {
          "output_type": "stream",
          "name": "stdout",
          "text": [
            "Epoch 1/10\n",
            "\u001b[1m13/13\u001b[0m \u001b[32m━━━━━━━━━━━━━━━━━━━━\u001b[0m\u001b[37m\u001b[0m \u001b[1m48s\u001b[0m 2s/step - accuracy: 0.5770 - loss: 0.6815 - val_accuracy: 0.5609 - val_loss: 0.6839\n",
            "Epoch 2/10\n",
            "\u001b[1m13/13\u001b[0m \u001b[32m━━━━━━━━━━━━━━━━━━━━\u001b[0m\u001b[37m\u001b[0m \u001b[1m38s\u001b[0m 293ms/step - accuracy: 0.5975 - loss: 0.6652 - val_accuracy: 0.5609 - val_loss: 0.6688\n",
            "Epoch 3/10\n",
            "\u001b[1m13/13\u001b[0m \u001b[32m━━━━━━━━━━━━━━━━━━━━\u001b[0m\u001b[37m\u001b[0m \u001b[1m4s\u001b[0m 287ms/step - accuracy: 0.6006 - loss: 0.6568 - val_accuracy: 0.6232 - val_loss: 0.6583\n",
            "Epoch 4/10\n",
            "\u001b[1m13/13\u001b[0m \u001b[32m━━━━━━━━━━━━━━━━━━━━\u001b[0m\u001b[37m\u001b[0m \u001b[1m5s\u001b[0m 301ms/step - accuracy: 0.6113 - loss: 0.6539 - val_accuracy: 0.5793 - val_loss: 0.6529\n",
            "Epoch 5/10\n",
            "\u001b[1m13/13\u001b[0m \u001b[32m━━━━━━━━━━━━━━━━━━━━\u001b[0m\u001b[37m\u001b[0m \u001b[1m4s\u001b[0m 304ms/step - accuracy: 0.6205 - loss: 0.6443 - val_accuracy: 0.5963 - val_loss: 0.6454\n",
            "Epoch 6/10\n",
            "\u001b[1m13/13\u001b[0m \u001b[32m━━━━━━━━━━━━━━━━━━━━\u001b[0m\u001b[37m\u001b[0m \u001b[1m4s\u001b[0m 308ms/step - accuracy: 0.6411 - loss: 0.6384 - val_accuracy: 0.6544 - val_loss: 0.6314\n",
            "Epoch 7/10\n",
            "\u001b[1m13/13\u001b[0m \u001b[32m━━━━━━━━━━━━━━━━━━━━\u001b[0m\u001b[37m\u001b[0m \u001b[1m4s\u001b[0m 311ms/step - accuracy: 0.6576 - loss: 0.6292 - val_accuracy: 0.6572 - val_loss: 0.6260\n",
            "Epoch 8/10\n",
            "\u001b[1m13/13\u001b[0m \u001b[32m━━━━━━━━━━━━━━━━━━━━\u001b[0m\u001b[37m\u001b[0m \u001b[1m4s\u001b[0m 319ms/step - accuracy: 0.6557 - loss: 0.6313 - val_accuracy: 0.6841 - val_loss: 0.6134\n",
            "Epoch 9/10\n",
            "\u001b[1m13/13\u001b[0m \u001b[32m━━━━━━━━━━━━━━━━━━━━\u001b[0m\u001b[37m\u001b[0m \u001b[1m5s\u001b[0m 308ms/step - accuracy: 0.6773 - loss: 0.6100 - val_accuracy: 0.6771 - val_loss: 0.6093\n",
            "Epoch 10/10\n",
            "\u001b[1m13/13\u001b[0m \u001b[32m━━━━━━━━━━━━━━━━━━━━\u001b[0m\u001b[37m\u001b[0m \u001b[1m5s\u001b[0m 321ms/step - accuracy: 0.6908 - loss: 0.6099 - val_accuracy: 0.6926 - val_loss: 0.6004\n"
          ]
        }
      ]
    },
    {
      "cell_type": "code",
      "metadata": {
        "id": "FbwZP8gFXZ1z",
        "outputId": "c792e68e-5c5a-49e1-820d-4826cb48a177",
        "colab": {
          "base_uri": "https://localhost:8080/"
        }
      },
      "source": [
        "# accuracy on training set\n",
        "# Use model.predict() and apply a threshold to get the class predictions\n",
        "train_predictions = (model.predict(X_train) > 0.5).astype(\"int32\")\n",
        "print('Accuracy on training set:', accuracy_score(y_train, train_predictions), '%')\n",
        "\n",
        "# accuracy on validation set\n",
        "# Use model.predict() and apply a threshold to get the class predictions\n",
        "valid_predictions = (model.predict(X_valid) > 0.5).astype(\"int32\")\n",
        "print('Accuracy on validation set:', accuracy_score(y_valid, valid_predictions), '%')"
      ],
      "execution_count": 55,
      "outputs": [
        {
          "output_type": "stream",
          "name": "stdout",
          "text": [
            "\u001b[1m52/52\u001b[0m \u001b[32m━━━━━━━━━━━━━━━━━━━━\u001b[0m\u001b[37m\u001b[0m \u001b[1m4s\u001b[0m 46ms/step\n",
            "Accuracy on training set: 0.701093560145808 %\n",
            "\u001b[1m23/23\u001b[0m \u001b[32m━━━━━━━━━━━━━━━━━━━━\u001b[0m\u001b[37m\u001b[0m \u001b[1m1s\u001b[0m 51ms/step\n",
            "Accuracy on validation set: 0.6926345609065155 %\n"
          ]
        }
      ]
    },
    {
      "cell_type": "markdown",
      "metadata": {
        "id": "MugTAmQ7XcLq"
      },
      "source": [
        "## 5. Changing pooling size"
      ]
    },
    {
      "cell_type": "code",
      "metadata": {
        "id": "1TlepUXsX-Pt",
        "colab": {
          "base_uri": "https://localhost:8080/"
        },
        "outputId": "3934d6c9-7955-4844-b384-afff7671624a"
      },
      "source": [
        "# change pooling size\n",
        "\n",
        "model = Sequential()\n",
        "\n",
        "model.add(InputLayer(input_shape=(224, 224, 3)))\n",
        "\n",
        "model.add(Conv2D(25, (5, 5), activation='relu', strides=(1, 1), padding='valid'))\n",
        "model.add(Conv2D(50, (5, 5), activation='relu', strides=(1, 1), padding='valid'))\n",
        "model.add(MaxPool2D(pool_size=(2, 2), padding='valid'))\n",
        "\n",
        "model.add(Flatten())\n",
        "\n",
        "model.add(Dense(units=100, activation='sigmoid'))\n",
        "model.add(Dense(units=1, activation='sigmoid'))\n",
        "\n",
        "model.compile(loss='binary_crossentropy', optimizer=\"sgd\", metrics=['accuracy'])"
      ],
      "execution_count": 56,
      "outputs": [
        {
          "output_type": "stream",
          "name": "stderr",
          "text": [
            "/usr/local/lib/python3.11/dist-packages/keras/src/layers/core/input_layer.py:27: UserWarning: Argument `input_shape` is deprecated. Use `shape` instead.\n",
            "  warnings.warn(\n"
          ]
        }
      ]
    },
    {
      "cell_type": "code",
      "metadata": {
        "id": "u5c9xliOX-QN",
        "outputId": "6d0cb4a3-c644-40a0-c670-72a417c15894",
        "colab": {
          "base_uri": "https://localhost:8080/",
          "height": 321
        }
      },
      "source": [
        "model.summary()"
      ],
      "execution_count": 57,
      "outputs": [
        {
          "output_type": "display_data",
          "data": {
            "text/plain": [
              "\u001b[1mModel: \"sequential_6\"\u001b[0m\n"
            ],
            "text/html": [
              "<pre style=\"white-space:pre;overflow-x:auto;line-height:normal;font-family:Menlo,'DejaVu Sans Mono',consolas,'Courier New',monospace\"><span style=\"font-weight: bold\">Model: \"sequential_6\"</span>\n",
              "</pre>\n"
            ]
          },
          "metadata": {}
        },
        {
          "output_type": "display_data",
          "data": {
            "text/plain": [
              "┏━━━━━━━━━━━━━━━━━━━━━━━━━━━━━━━━━┳━━━━━━━━━━━━━━━━━━━━━━━━┳━━━━━━━━━━━━━━━┓\n",
              "┃\u001b[1m \u001b[0m\u001b[1mLayer (type)                   \u001b[0m\u001b[1m \u001b[0m┃\u001b[1m \u001b[0m\u001b[1mOutput Shape          \u001b[0m\u001b[1m \u001b[0m┃\u001b[1m \u001b[0m\u001b[1m      Param #\u001b[0m\u001b[1m \u001b[0m┃\n",
              "┡━━━━━━━━━━━━━━━━━━━━━━━━━━━━━━━━━╇━━━━━━━━━━━━━━━━━━━━━━━━╇━━━━━━━━━━━━━━━┩\n",
              "│ conv2d_13 (\u001b[38;5;33mConv2D\u001b[0m)              │ (\u001b[38;5;45mNone\u001b[0m, \u001b[38;5;34m220\u001b[0m, \u001b[38;5;34m220\u001b[0m, \u001b[38;5;34m25\u001b[0m)   │         \u001b[38;5;34m1,900\u001b[0m │\n",
              "├─────────────────────────────────┼────────────────────────┼───────────────┤\n",
              "│ conv2d_14 (\u001b[38;5;33mConv2D\u001b[0m)              │ (\u001b[38;5;45mNone\u001b[0m, \u001b[38;5;34m216\u001b[0m, \u001b[38;5;34m216\u001b[0m, \u001b[38;5;34m50\u001b[0m)   │        \u001b[38;5;34m31,300\u001b[0m │\n",
              "├─────────────────────────────────┼────────────────────────┼───────────────┤\n",
              "│ max_pooling2d_6 (\u001b[38;5;33mMaxPooling2D\u001b[0m)  │ (\u001b[38;5;45mNone\u001b[0m, \u001b[38;5;34m108\u001b[0m, \u001b[38;5;34m108\u001b[0m, \u001b[38;5;34m50\u001b[0m)   │             \u001b[38;5;34m0\u001b[0m │\n",
              "├─────────────────────────────────┼────────────────────────┼───────────────┤\n",
              "│ flatten_6 (\u001b[38;5;33mFlatten\u001b[0m)             │ (\u001b[38;5;45mNone\u001b[0m, \u001b[38;5;34m583200\u001b[0m)         │             \u001b[38;5;34m0\u001b[0m │\n",
              "├─────────────────────────────────┼────────────────────────┼───────────────┤\n",
              "│ dense_12 (\u001b[38;5;33mDense\u001b[0m)                │ (\u001b[38;5;45mNone\u001b[0m, \u001b[38;5;34m100\u001b[0m)            │    \u001b[38;5;34m58,320,100\u001b[0m │\n",
              "├─────────────────────────────────┼────────────────────────┼───────────────┤\n",
              "│ dense_13 (\u001b[38;5;33mDense\u001b[0m)                │ (\u001b[38;5;45mNone\u001b[0m, \u001b[38;5;34m1\u001b[0m)              │           \u001b[38;5;34m101\u001b[0m │\n",
              "└─────────────────────────────────┴────────────────────────┴───────────────┘\n"
            ],
            "text/html": [
              "<pre style=\"white-space:pre;overflow-x:auto;line-height:normal;font-family:Menlo,'DejaVu Sans Mono',consolas,'Courier New',monospace\">┏━━━━━━━━━━━━━━━━━━━━━━━━━━━━━━━━━┳━━━━━━━━━━━━━━━━━━━━━━━━┳━━━━━━━━━━━━━━━┓\n",
              "┃<span style=\"font-weight: bold\"> Layer (type)                    </span>┃<span style=\"font-weight: bold\"> Output Shape           </span>┃<span style=\"font-weight: bold\">       Param # </span>┃\n",
              "┡━━━━━━━━━━━━━━━━━━━━━━━━━━━━━━━━━╇━━━━━━━━━━━━━━━━━━━━━━━━╇━━━━━━━━━━━━━━━┩\n",
              "│ conv2d_13 (<span style=\"color: #0087ff; text-decoration-color: #0087ff\">Conv2D</span>)              │ (<span style=\"color: #00d7ff; text-decoration-color: #00d7ff\">None</span>, <span style=\"color: #00af00; text-decoration-color: #00af00\">220</span>, <span style=\"color: #00af00; text-decoration-color: #00af00\">220</span>, <span style=\"color: #00af00; text-decoration-color: #00af00\">25</span>)   │         <span style=\"color: #00af00; text-decoration-color: #00af00\">1,900</span> │\n",
              "├─────────────────────────────────┼────────────────────────┼───────────────┤\n",
              "│ conv2d_14 (<span style=\"color: #0087ff; text-decoration-color: #0087ff\">Conv2D</span>)              │ (<span style=\"color: #00d7ff; text-decoration-color: #00d7ff\">None</span>, <span style=\"color: #00af00; text-decoration-color: #00af00\">216</span>, <span style=\"color: #00af00; text-decoration-color: #00af00\">216</span>, <span style=\"color: #00af00; text-decoration-color: #00af00\">50</span>)   │        <span style=\"color: #00af00; text-decoration-color: #00af00\">31,300</span> │\n",
              "├─────────────────────────────────┼────────────────────────┼───────────────┤\n",
              "│ max_pooling2d_6 (<span style=\"color: #0087ff; text-decoration-color: #0087ff\">MaxPooling2D</span>)  │ (<span style=\"color: #00d7ff; text-decoration-color: #00d7ff\">None</span>, <span style=\"color: #00af00; text-decoration-color: #00af00\">108</span>, <span style=\"color: #00af00; text-decoration-color: #00af00\">108</span>, <span style=\"color: #00af00; text-decoration-color: #00af00\">50</span>)   │             <span style=\"color: #00af00; text-decoration-color: #00af00\">0</span> │\n",
              "├─────────────────────────────────┼────────────────────────┼───────────────┤\n",
              "│ flatten_6 (<span style=\"color: #0087ff; text-decoration-color: #0087ff\">Flatten</span>)             │ (<span style=\"color: #00d7ff; text-decoration-color: #00d7ff\">None</span>, <span style=\"color: #00af00; text-decoration-color: #00af00\">583200</span>)         │             <span style=\"color: #00af00; text-decoration-color: #00af00\">0</span> │\n",
              "├─────────────────────────────────┼────────────────────────┼───────────────┤\n",
              "│ dense_12 (<span style=\"color: #0087ff; text-decoration-color: #0087ff\">Dense</span>)                │ (<span style=\"color: #00d7ff; text-decoration-color: #00d7ff\">None</span>, <span style=\"color: #00af00; text-decoration-color: #00af00\">100</span>)            │    <span style=\"color: #00af00; text-decoration-color: #00af00\">58,320,100</span> │\n",
              "├─────────────────────────────────┼────────────────────────┼───────────────┤\n",
              "│ dense_13 (<span style=\"color: #0087ff; text-decoration-color: #0087ff\">Dense</span>)                │ (<span style=\"color: #00d7ff; text-decoration-color: #00d7ff\">None</span>, <span style=\"color: #00af00; text-decoration-color: #00af00\">1</span>)              │           <span style=\"color: #00af00; text-decoration-color: #00af00\">101</span> │\n",
              "└─────────────────────────────────┴────────────────────────┴───────────────┘\n",
              "</pre>\n"
            ]
          },
          "metadata": {}
        },
        {
          "output_type": "display_data",
          "data": {
            "text/plain": [
              "\u001b[1m Total params: \u001b[0m\u001b[38;5;34m58,353,401\u001b[0m (222.60 MB)\n"
            ],
            "text/html": [
              "<pre style=\"white-space:pre;overflow-x:auto;line-height:normal;font-family:Menlo,'DejaVu Sans Mono',consolas,'Courier New',monospace\"><span style=\"font-weight: bold\"> Total params: </span><span style=\"color: #00af00; text-decoration-color: #00af00\">58,353,401</span> (222.60 MB)\n",
              "</pre>\n"
            ]
          },
          "metadata": {}
        },
        {
          "output_type": "display_data",
          "data": {
            "text/plain": [
              "\u001b[1m Trainable params: \u001b[0m\u001b[38;5;34m58,353,401\u001b[0m (222.60 MB)\n"
            ],
            "text/html": [
              "<pre style=\"white-space:pre;overflow-x:auto;line-height:normal;font-family:Menlo,'DejaVu Sans Mono',consolas,'Courier New',monospace\"><span style=\"font-weight: bold\"> Trainable params: </span><span style=\"color: #00af00; text-decoration-color: #00af00\">58,353,401</span> (222.60 MB)\n",
              "</pre>\n"
            ]
          },
          "metadata": {}
        },
        {
          "output_type": "display_data",
          "data": {
            "text/plain": [
              "\u001b[1m Non-trainable params: \u001b[0m\u001b[38;5;34m0\u001b[0m (0.00 B)\n"
            ],
            "text/html": [
              "<pre style=\"white-space:pre;overflow-x:auto;line-height:normal;font-family:Menlo,'DejaVu Sans Mono',consolas,'Courier New',monospace\"><span style=\"font-weight: bold\"> Non-trainable params: </span><span style=\"color: #00af00; text-decoration-color: #00af00\">0</span> (0.00 B)\n",
              "</pre>\n"
            ]
          },
          "metadata": {}
        }
      ]
    },
    {
      "cell_type": "code",
      "metadata": {
        "id": "ObaTC2H-X-Qb",
        "outputId": "d791baf1-5d56-41b7-ccdb-80ed19c91330",
        "colab": {
          "base_uri": "https://localhost:8080/"
        }
      },
      "source": [
        "# training the model\n",
        "model_history = model.fit(X_train, y_train, epochs=10, batch_size=128,validation_data=(X_valid,y_valid))"
      ],
      "execution_count": 58,
      "outputs": [
        {
          "output_type": "stream",
          "name": "stdout",
          "text": [
            "Epoch 1/10\n",
            "\u001b[1m13/13\u001b[0m \u001b[32m━━━━━━━━━━━━━━━━━━━━\u001b[0m\u001b[37m\u001b[0m \u001b[1m14s\u001b[0m 866ms/step - accuracy: 0.5774 - loss: 0.6763 - val_accuracy: 0.5680 - val_loss: 0.6660\n",
            "Epoch 2/10\n",
            "\u001b[1m13/13\u001b[0m \u001b[32m━━━━━━━━━━━━━━━━━━━━\u001b[0m\u001b[37m\u001b[0m \u001b[1m13s\u001b[0m 434ms/step - accuracy: 0.5952 - loss: 0.6605 - val_accuracy: 0.5765 - val_loss: 0.6536\n",
            "Epoch 3/10\n",
            "\u001b[1m13/13\u001b[0m \u001b[32m━━━━━━━━━━━━━━━━━━━━\u001b[0m\u001b[37m\u001b[0m \u001b[1m10s\u001b[0m 427ms/step - accuracy: 0.6187 - loss: 0.6454 - val_accuracy: 0.6856 - val_loss: 0.6377\n",
            "Epoch 4/10\n",
            "\u001b[1m13/13\u001b[0m \u001b[32m━━━━━━━━━━━━━━━━━━━━\u001b[0m\u001b[37m\u001b[0m \u001b[1m6s\u001b[0m 478ms/step - accuracy: 0.6626 - loss: 0.6318 - val_accuracy: 0.6020 - val_loss: 0.6382\n",
            "Epoch 5/10\n",
            "\u001b[1m13/13\u001b[0m \u001b[32m━━━━━━━━━━━━━━━━━━━━\u001b[0m\u001b[37m\u001b[0m \u001b[1m6s\u001b[0m 437ms/step - accuracy: 0.6676 - loss: 0.6111 - val_accuracy: 0.6416 - val_loss: 0.6384\n",
            "Epoch 6/10\n",
            "\u001b[1m13/13\u001b[0m \u001b[32m━━━━━━━━━━━━━━━━━━━━\u001b[0m\u001b[37m\u001b[0m \u001b[1m6s\u001b[0m 435ms/step - accuracy: 0.6453 - loss: 0.6371 - val_accuracy: 0.6941 - val_loss: 0.5909\n",
            "Epoch 7/10\n",
            "\u001b[1m13/13\u001b[0m \u001b[32m━━━━━━━━━━━━━━━━━━━━\u001b[0m\u001b[37m\u001b[0m \u001b[1m6s\u001b[0m 487ms/step - accuracy: 0.7048 - loss: 0.5948 - val_accuracy: 0.6827 - val_loss: 0.5858\n",
            "Epoch 8/10\n",
            "\u001b[1m13/13\u001b[0m \u001b[32m━━━━━━━━━━━━━━━━━━━━\u001b[0m\u001b[37m\u001b[0m \u001b[1m10s\u001b[0m 478ms/step - accuracy: 0.6841 - loss: 0.5860 - val_accuracy: 0.6997 - val_loss: 0.5736\n",
            "Epoch 9/10\n",
            "\u001b[1m13/13\u001b[0m \u001b[32m━━━━━━━━━━━━━━━━━━━━\u001b[0m\u001b[37m\u001b[0m \u001b[1m10s\u001b[0m 477ms/step - accuracy: 0.7262 - loss: 0.5607 - val_accuracy: 0.6615 - val_loss: 0.6049\n",
            "Epoch 10/10\n",
            "\u001b[1m13/13\u001b[0m \u001b[32m━━━━━━━━━━━━━━━━━━━━\u001b[0m\u001b[37m\u001b[0m \u001b[1m10s\u001b[0m 475ms/step - accuracy: 0.7265 - loss: 0.5617 - val_accuracy: 0.6941 - val_loss: 0.5594\n"
          ]
        }
      ]
    },
    {
      "cell_type": "code",
      "metadata": {
        "id": "_DOMRLPjX-Qq",
        "outputId": "834ccbf5-dc81-4b63-f8aa-0805b164775c",
        "colab": {
          "base_uri": "https://localhost:8080/"
        }
      },
      "source": [
        "# accuracy on training set\n",
        "# Use model.predict() and apply a threshold to get the class predictions\n",
        "train_predictions = (model.predict(X_train) > 0.5).astype(\"int32\")\n",
        "print('Accuracy on training set:', accuracy_score(y_train, train_predictions), '%')\n",
        "\n",
        "# accuracy on validation set\n",
        "# Use model.predict() and apply a threshold to get the class predictions\n",
        "valid_predictions = (model.predict(X_valid) > 0.5).astype(\"int32\")\n",
        "print('Accuracy on validation set:', accuracy_score(y_valid, valid_predictions), '%')"
      ],
      "execution_count": 60,
      "outputs": [
        {
          "output_type": "stream",
          "name": "stdout",
          "text": [
            "\u001b[1m52/52\u001b[0m \u001b[32m━━━━━━━━━━━━━━━━━━━━\u001b[0m\u001b[37m\u001b[0m \u001b[1m4s\u001b[0m 57ms/step\n",
            "Accuracy on training set: 0.7509113001215066 %\n",
            "\u001b[1m23/23\u001b[0m \u001b[32m━━━━━━━━━━━━━━━━━━━━\u001b[0m\u001b[37m\u001b[0m \u001b[1m2s\u001b[0m 74ms/step\n",
            "Accuracy on validation set: 0.6940509915014165 %\n"
          ]
        }
      ]
    },
    {
      "cell_type": "markdown",
      "metadata": {
        "id": "sOCZcGB5YQSx"
      },
      "source": [
        "## 6. Changing padding technique"
      ]
    },
    {
      "cell_type": "code",
      "metadata": {
        "id": "pyvT1mT8hKOY",
        "colab": {
          "base_uri": "https://localhost:8080/"
        },
        "outputId": "9f0fc539-233c-4e3f-8965-bac23c23f1d2"
      },
      "source": [
        "# change padding technique\n",
        "\n",
        "model = Sequential()\n",
        "\n",
        "model.add(InputLayer(input_shape=(224, 224, 3)))\n",
        "\n",
        "model.add(Conv2D(25, (5, 5), activation='relu', strides=(1, 1), padding='same'))\n",
        "model.add(Conv2D(50, (5, 5), activation='relu', strides=(1, 1), padding='same'))\n",
        "model.add(MaxPool2D(pool_size=(4, 4), padding='valid'))\n",
        "\n",
        "model.add(Flatten())\n",
        "\n",
        "model.add(Dense(units=100, activation='sigmoid'))\n",
        "model.add(Dense(units=1, activation='sigmoid'))\n",
        "\n",
        "model.compile(loss='binary_crossentropy', optimizer=\"sgd\", metrics=['accuracy'])"
      ],
      "execution_count": 61,
      "outputs": [
        {
          "output_type": "stream",
          "name": "stderr",
          "text": [
            "/usr/local/lib/python3.11/dist-packages/keras/src/layers/core/input_layer.py:27: UserWarning: Argument `input_shape` is deprecated. Use `shape` instead.\n",
            "  warnings.warn(\n"
          ]
        }
      ]
    },
    {
      "cell_type": "code",
      "metadata": {
        "id": "cf-z6vIBYyzH",
        "outputId": "d54044c9-1b0e-4a4c-ca89-7a255f089b97",
        "colab": {
          "base_uri": "https://localhost:8080/",
          "height": 321
        }
      },
      "source": [
        "model.summary()"
      ],
      "execution_count": 62,
      "outputs": [
        {
          "output_type": "display_data",
          "data": {
            "text/plain": [
              "\u001b[1mModel: \"sequential_7\"\u001b[0m\n"
            ],
            "text/html": [
              "<pre style=\"white-space:pre;overflow-x:auto;line-height:normal;font-family:Menlo,'DejaVu Sans Mono',consolas,'Courier New',monospace\"><span style=\"font-weight: bold\">Model: \"sequential_7\"</span>\n",
              "</pre>\n"
            ]
          },
          "metadata": {}
        },
        {
          "output_type": "display_data",
          "data": {
            "text/plain": [
              "┏━━━━━━━━━━━━━━━━━━━━━━━━━━━━━━━━━┳━━━━━━━━━━━━━━━━━━━━━━━━┳━━━━━━━━━━━━━━━┓\n",
              "┃\u001b[1m \u001b[0m\u001b[1mLayer (type)                   \u001b[0m\u001b[1m \u001b[0m┃\u001b[1m \u001b[0m\u001b[1mOutput Shape          \u001b[0m\u001b[1m \u001b[0m┃\u001b[1m \u001b[0m\u001b[1m      Param #\u001b[0m\u001b[1m \u001b[0m┃\n",
              "┡━━━━━━━━━━━━━━━━━━━━━━━━━━━━━━━━━╇━━━━━━━━━━━━━━━━━━━━━━━━╇━━━━━━━━━━━━━━━┩\n",
              "│ conv2d_15 (\u001b[38;5;33mConv2D\u001b[0m)              │ (\u001b[38;5;45mNone\u001b[0m, \u001b[38;5;34m224\u001b[0m, \u001b[38;5;34m224\u001b[0m, \u001b[38;5;34m25\u001b[0m)   │         \u001b[38;5;34m1,900\u001b[0m │\n",
              "├─────────────────────────────────┼────────────────────────┼───────────────┤\n",
              "│ conv2d_16 (\u001b[38;5;33mConv2D\u001b[0m)              │ (\u001b[38;5;45mNone\u001b[0m, \u001b[38;5;34m224\u001b[0m, \u001b[38;5;34m224\u001b[0m, \u001b[38;5;34m50\u001b[0m)   │        \u001b[38;5;34m31,300\u001b[0m │\n",
              "├─────────────────────────────────┼────────────────────────┼───────────────┤\n",
              "│ max_pooling2d_7 (\u001b[38;5;33mMaxPooling2D\u001b[0m)  │ (\u001b[38;5;45mNone\u001b[0m, \u001b[38;5;34m56\u001b[0m, \u001b[38;5;34m56\u001b[0m, \u001b[38;5;34m50\u001b[0m)     │             \u001b[38;5;34m0\u001b[0m │\n",
              "├─────────────────────────────────┼────────────────────────┼───────────────┤\n",
              "│ flatten_7 (\u001b[38;5;33mFlatten\u001b[0m)             │ (\u001b[38;5;45mNone\u001b[0m, \u001b[38;5;34m156800\u001b[0m)         │             \u001b[38;5;34m0\u001b[0m │\n",
              "├─────────────────────────────────┼────────────────────────┼───────────────┤\n",
              "│ dense_14 (\u001b[38;5;33mDense\u001b[0m)                │ (\u001b[38;5;45mNone\u001b[0m, \u001b[38;5;34m100\u001b[0m)            │    \u001b[38;5;34m15,680,100\u001b[0m │\n",
              "├─────────────────────────────────┼────────────────────────┼───────────────┤\n",
              "│ dense_15 (\u001b[38;5;33mDense\u001b[0m)                │ (\u001b[38;5;45mNone\u001b[0m, \u001b[38;5;34m1\u001b[0m)              │           \u001b[38;5;34m101\u001b[0m │\n",
              "└─────────────────────────────────┴────────────────────────┴───────────────┘\n"
            ],
            "text/html": [
              "<pre style=\"white-space:pre;overflow-x:auto;line-height:normal;font-family:Menlo,'DejaVu Sans Mono',consolas,'Courier New',monospace\">┏━━━━━━━━━━━━━━━━━━━━━━━━━━━━━━━━━┳━━━━━━━━━━━━━━━━━━━━━━━━┳━━━━━━━━━━━━━━━┓\n",
              "┃<span style=\"font-weight: bold\"> Layer (type)                    </span>┃<span style=\"font-weight: bold\"> Output Shape           </span>┃<span style=\"font-weight: bold\">       Param # </span>┃\n",
              "┡━━━━━━━━━━━━━━━━━━━━━━━━━━━━━━━━━╇━━━━━━━━━━━━━━━━━━━━━━━━╇━━━━━━━━━━━━━━━┩\n",
              "│ conv2d_15 (<span style=\"color: #0087ff; text-decoration-color: #0087ff\">Conv2D</span>)              │ (<span style=\"color: #00d7ff; text-decoration-color: #00d7ff\">None</span>, <span style=\"color: #00af00; text-decoration-color: #00af00\">224</span>, <span style=\"color: #00af00; text-decoration-color: #00af00\">224</span>, <span style=\"color: #00af00; text-decoration-color: #00af00\">25</span>)   │         <span style=\"color: #00af00; text-decoration-color: #00af00\">1,900</span> │\n",
              "├─────────────────────────────────┼────────────────────────┼───────────────┤\n",
              "│ conv2d_16 (<span style=\"color: #0087ff; text-decoration-color: #0087ff\">Conv2D</span>)              │ (<span style=\"color: #00d7ff; text-decoration-color: #00d7ff\">None</span>, <span style=\"color: #00af00; text-decoration-color: #00af00\">224</span>, <span style=\"color: #00af00; text-decoration-color: #00af00\">224</span>, <span style=\"color: #00af00; text-decoration-color: #00af00\">50</span>)   │        <span style=\"color: #00af00; text-decoration-color: #00af00\">31,300</span> │\n",
              "├─────────────────────────────────┼────────────────────────┼───────────────┤\n",
              "│ max_pooling2d_7 (<span style=\"color: #0087ff; text-decoration-color: #0087ff\">MaxPooling2D</span>)  │ (<span style=\"color: #00d7ff; text-decoration-color: #00d7ff\">None</span>, <span style=\"color: #00af00; text-decoration-color: #00af00\">56</span>, <span style=\"color: #00af00; text-decoration-color: #00af00\">56</span>, <span style=\"color: #00af00; text-decoration-color: #00af00\">50</span>)     │             <span style=\"color: #00af00; text-decoration-color: #00af00\">0</span> │\n",
              "├─────────────────────────────────┼────────────────────────┼───────────────┤\n",
              "│ flatten_7 (<span style=\"color: #0087ff; text-decoration-color: #0087ff\">Flatten</span>)             │ (<span style=\"color: #00d7ff; text-decoration-color: #00d7ff\">None</span>, <span style=\"color: #00af00; text-decoration-color: #00af00\">156800</span>)         │             <span style=\"color: #00af00; text-decoration-color: #00af00\">0</span> │\n",
              "├─────────────────────────────────┼────────────────────────┼───────────────┤\n",
              "│ dense_14 (<span style=\"color: #0087ff; text-decoration-color: #0087ff\">Dense</span>)                │ (<span style=\"color: #00d7ff; text-decoration-color: #00d7ff\">None</span>, <span style=\"color: #00af00; text-decoration-color: #00af00\">100</span>)            │    <span style=\"color: #00af00; text-decoration-color: #00af00\">15,680,100</span> │\n",
              "├─────────────────────────────────┼────────────────────────┼───────────────┤\n",
              "│ dense_15 (<span style=\"color: #0087ff; text-decoration-color: #0087ff\">Dense</span>)                │ (<span style=\"color: #00d7ff; text-decoration-color: #00d7ff\">None</span>, <span style=\"color: #00af00; text-decoration-color: #00af00\">1</span>)              │           <span style=\"color: #00af00; text-decoration-color: #00af00\">101</span> │\n",
              "└─────────────────────────────────┴────────────────────────┴───────────────┘\n",
              "</pre>\n"
            ]
          },
          "metadata": {}
        },
        {
          "output_type": "display_data",
          "data": {
            "text/plain": [
              "\u001b[1m Total params: \u001b[0m\u001b[38;5;34m15,713,401\u001b[0m (59.94 MB)\n"
            ],
            "text/html": [
              "<pre style=\"white-space:pre;overflow-x:auto;line-height:normal;font-family:Menlo,'DejaVu Sans Mono',consolas,'Courier New',monospace\"><span style=\"font-weight: bold\"> Total params: </span><span style=\"color: #00af00; text-decoration-color: #00af00\">15,713,401</span> (59.94 MB)\n",
              "</pre>\n"
            ]
          },
          "metadata": {}
        },
        {
          "output_type": "display_data",
          "data": {
            "text/plain": [
              "\u001b[1m Trainable params: \u001b[0m\u001b[38;5;34m15,713,401\u001b[0m (59.94 MB)\n"
            ],
            "text/html": [
              "<pre style=\"white-space:pre;overflow-x:auto;line-height:normal;font-family:Menlo,'DejaVu Sans Mono',consolas,'Courier New',monospace\"><span style=\"font-weight: bold\"> Trainable params: </span><span style=\"color: #00af00; text-decoration-color: #00af00\">15,713,401</span> (59.94 MB)\n",
              "</pre>\n"
            ]
          },
          "metadata": {}
        },
        {
          "output_type": "display_data",
          "data": {
            "text/plain": [
              "\u001b[1m Non-trainable params: \u001b[0m\u001b[38;5;34m0\u001b[0m (0.00 B)\n"
            ],
            "text/html": [
              "<pre style=\"white-space:pre;overflow-x:auto;line-height:normal;font-family:Menlo,'DejaVu Sans Mono',consolas,'Courier New',monospace\"><span style=\"font-weight: bold\"> Non-trainable params: </span><span style=\"color: #00af00; text-decoration-color: #00af00\">0</span> (0.00 B)\n",
              "</pre>\n"
            ]
          },
          "metadata": {}
        }
      ]
    },
    {
      "cell_type": "code",
      "metadata": {
        "id": "FfeXcq8xYyzp",
        "outputId": "b0da4a0d-9f5f-4bb5-9711-67496728a24a",
        "colab": {
          "base_uri": "https://localhost:8080/"
        }
      },
      "source": [
        "# training the model\n",
        "model_history = model.fit(X_train, y_train, epochs=10, batch_size=128,validation_data=(X_valid,y_valid))"
      ],
      "execution_count": 63,
      "outputs": [
        {
          "output_type": "stream",
          "name": "stdout",
          "text": [
            "Epoch 1/10\n",
            "\u001b[1m13/13\u001b[0m \u001b[32m━━━━━━━━━━━━━━━━━━━━\u001b[0m\u001b[37m\u001b[0m \u001b[1m83s\u001b[0m 4s/step - accuracy: 0.5396 - loss: 0.6902 - val_accuracy: 0.5609 - val_loss: 0.6833\n",
            "Epoch 2/10\n",
            "\u001b[1m13/13\u001b[0m \u001b[32m━━━━━━━━━━━━━━━━━━━━\u001b[0m\u001b[37m\u001b[0m \u001b[1m5s\u001b[0m 408ms/step - accuracy: 0.5940 - loss: 0.6726 - val_accuracy: 0.5637 - val_loss: 0.6731\n",
            "Epoch 3/10\n",
            "\u001b[1m13/13\u001b[0m \u001b[32m━━━━━━━━━━━━━━━━━━━━\u001b[0m\u001b[37m\u001b[0m \u001b[1m11s\u001b[0m 456ms/step - accuracy: 0.5898 - loss: 0.6641 - val_accuracy: 0.5623 - val_loss: 0.6671\n",
            "Epoch 4/10\n",
            "\u001b[1m13/13\u001b[0m \u001b[32m━━━━━━━━━━━━━━━━━━━━\u001b[0m\u001b[37m\u001b[0m \u001b[1m10s\u001b[0m 463ms/step - accuracy: 0.5911 - loss: 0.6572 - val_accuracy: 0.5765 - val_loss: 0.6555\n",
            "Epoch 5/10\n",
            "\u001b[1m13/13\u001b[0m \u001b[32m━━━━━━━━━━━━━━━━━━━━\u001b[0m\u001b[37m\u001b[0m \u001b[1m10s\u001b[0m 461ms/step - accuracy: 0.6174 - loss: 0.6480 - val_accuracy: 0.5765 - val_loss: 0.6518\n",
            "Epoch 6/10\n",
            "\u001b[1m13/13\u001b[0m \u001b[32m━━━━━━━━━━━━━━━━━━━━\u001b[0m\u001b[37m\u001b[0m \u001b[1m10s\u001b[0m 412ms/step - accuracy: 0.6404 - loss: 0.6457 - val_accuracy: 0.5892 - val_loss: 0.6460\n",
            "Epoch 7/10\n",
            "\u001b[1m13/13\u001b[0m \u001b[32m━━━━━━━━━━━━━━━━━━━━\u001b[0m\u001b[37m\u001b[0m \u001b[1m10s\u001b[0m 414ms/step - accuracy: 0.6404 - loss: 0.6315 - val_accuracy: 0.6941 - val_loss: 0.6157\n",
            "Epoch 8/10\n",
            "\u001b[1m13/13\u001b[0m \u001b[32m━━━━━━━━━━━━━━━━━━━━\u001b[0m\u001b[37m\u001b[0m \u001b[1m6s\u001b[0m 427ms/step - accuracy: 0.6900 - loss: 0.6169 - val_accuracy: 0.6870 - val_loss: 0.6051\n",
            "Epoch 9/10\n",
            "\u001b[1m13/13\u001b[0m \u001b[32m━━━━━━━━━━━━━━━━━━━━\u001b[0m\u001b[37m\u001b[0m \u001b[1m10s\u001b[0m 415ms/step - accuracy: 0.6832 - loss: 0.6054 - val_accuracy: 0.6785 - val_loss: 0.6032\n",
            "Epoch 10/10\n",
            "\u001b[1m13/13\u001b[0m \u001b[32m━━━━━━━━━━━━━━━━━━━━\u001b[0m\u001b[37m\u001b[0m \u001b[1m11s\u001b[0m 462ms/step - accuracy: 0.6880 - loss: 0.5957 - val_accuracy: 0.7011 - val_loss: 0.5858\n"
          ]
        }
      ]
    },
    {
      "cell_type": "code",
      "metadata": {
        "id": "FeCqlE73Yyz5",
        "outputId": "ef494f9d-7d02-4a47-d561-b794594227c1",
        "colab": {
          "base_uri": "https://localhost:8080/"
        }
      },
      "source": [
        "# accuracy on training set\n",
        "# Use model.predict() and apply a threshold to get the class predictions\n",
        "train_predictions = (model.predict(X_train) > 0.5).astype(\"int32\")\n",
        "print('Accuracy on training set:', accuracy_score(y_train, train_predictions), '%')"
      ],
      "execution_count": 65,
      "outputs": [
        {
          "output_type": "stream",
          "name": "stdout",
          "text": [
            "\u001b[1m52/52\u001b[0m \u001b[32m━━━━━━━━━━━━━━━━━━━━\u001b[0m\u001b[37m\u001b[0m \u001b[1m6s\u001b[0m 70ms/step\n",
            "Accuracy on training set: 0.7174969623329283 %\n"
          ]
        }
      ]
    },
    {
      "cell_type": "code",
      "metadata": {
        "id": "cO60-SfbYy0E",
        "outputId": "bcaaf6ee-dd81-4919-a2b7-8b0ce4ceebdc",
        "colab": {
          "base_uri": "https://localhost:8080/"
        }
      },
      "source": [
        "# accuracy on validation set\n",
        "# Use model.predict() and apply a threshold to get the class predictions\n",
        "valid_predictions = (model.predict(X_valid) > 0.5).astype(\"int32\")\n",
        "print('Accuracy on validation set:', accuracy_score(y_valid, valid_predictions), '%')"
      ],
      "execution_count": 67,
      "outputs": [
        {
          "output_type": "stream",
          "name": "stdout",
          "text": [
            "\u001b[1m23/23\u001b[0m \u001b[32m━━━━━━━━━━━━━━━━━━━━\u001b[0m\u001b[37m\u001b[0m \u001b[1m2s\u001b[0m 71ms/step\n",
            "Accuracy on validation set: 0.7011331444759207 %\n"
          ]
        }
      ]
    },
    {
      "cell_type": "markdown",
      "metadata": {
        "id": "gSYrnrv-Y3qZ"
      },
      "source": [
        "## 7. Changing stride"
      ]
    },
    {
      "cell_type": "code",
      "metadata": {
        "id": "9l6Qo3oehKOm",
        "colab": {
          "base_uri": "https://localhost:8080/"
        },
        "outputId": "fe1ba755-ecb9-4a91-cb2e-e48466307bc6"
      },
      "source": [
        "# changing stride\n",
        "\n",
        "model = Sequential()\n",
        "\n",
        "model.add(InputLayer(input_shape=(224, 224, 3)))\n",
        "\n",
        "model.add(Conv2D(25, (5, 5), activation='relu', strides=(2, 2), padding='valid'))\n",
        "model.add(Conv2D(50, (5, 5), activation='relu', strides=(1, 1), padding='valid'))\n",
        "model.add(MaxPool2D(pool_size=(4, 4), padding='valid'))\n",
        "\n",
        "model.add(Flatten())\n",
        "\n",
        "model.add(Dense(units=100, activation='sigmoid'))\n",
        "model.add(Dense(units=1, activation='sigmoid'))\n",
        "\n",
        "model.compile(loss='binary_crossentropy', optimizer=\"sgd\", metrics=['accuracy'])"
      ],
      "execution_count": 68,
      "outputs": [
        {
          "output_type": "stream",
          "name": "stderr",
          "text": [
            "/usr/local/lib/python3.11/dist-packages/keras/src/layers/core/input_layer.py:27: UserWarning: Argument `input_shape` is deprecated. Use `shape` instead.\n",
            "  warnings.warn(\n"
          ]
        }
      ]
    },
    {
      "cell_type": "code",
      "metadata": {
        "id": "tctf_89BhKO0",
        "outputId": "885546f2-b6b3-45ce-9a2c-9f276c08bf7b",
        "colab": {
          "base_uri": "https://localhost:8080/",
          "height": 321
        }
      },
      "source": [
        "model.summary()"
      ],
      "execution_count": 69,
      "outputs": [
        {
          "output_type": "display_data",
          "data": {
            "text/plain": [
              "\u001b[1mModel: \"sequential_8\"\u001b[0m\n"
            ],
            "text/html": [
              "<pre style=\"white-space:pre;overflow-x:auto;line-height:normal;font-family:Menlo,'DejaVu Sans Mono',consolas,'Courier New',monospace\"><span style=\"font-weight: bold\">Model: \"sequential_8\"</span>\n",
              "</pre>\n"
            ]
          },
          "metadata": {}
        },
        {
          "output_type": "display_data",
          "data": {
            "text/plain": [
              "┏━━━━━━━━━━━━━━━━━━━━━━━━━━━━━━━━━┳━━━━━━━━━━━━━━━━━━━━━━━━┳━━━━━━━━━━━━━━━┓\n",
              "┃\u001b[1m \u001b[0m\u001b[1mLayer (type)                   \u001b[0m\u001b[1m \u001b[0m┃\u001b[1m \u001b[0m\u001b[1mOutput Shape          \u001b[0m\u001b[1m \u001b[0m┃\u001b[1m \u001b[0m\u001b[1m      Param #\u001b[0m\u001b[1m \u001b[0m┃\n",
              "┡━━━━━━━━━━━━━━━━━━━━━━━━━━━━━━━━━╇━━━━━━━━━━━━━━━━━━━━━━━━╇━━━━━━━━━━━━━━━┩\n",
              "│ conv2d_17 (\u001b[38;5;33mConv2D\u001b[0m)              │ (\u001b[38;5;45mNone\u001b[0m, \u001b[38;5;34m110\u001b[0m, \u001b[38;5;34m110\u001b[0m, \u001b[38;5;34m25\u001b[0m)   │         \u001b[38;5;34m1,900\u001b[0m │\n",
              "├─────────────────────────────────┼────────────────────────┼───────────────┤\n",
              "│ conv2d_18 (\u001b[38;5;33mConv2D\u001b[0m)              │ (\u001b[38;5;45mNone\u001b[0m, \u001b[38;5;34m106\u001b[0m, \u001b[38;5;34m106\u001b[0m, \u001b[38;5;34m50\u001b[0m)   │        \u001b[38;5;34m31,300\u001b[0m │\n",
              "├─────────────────────────────────┼────────────────────────┼───────────────┤\n",
              "│ max_pooling2d_8 (\u001b[38;5;33mMaxPooling2D\u001b[0m)  │ (\u001b[38;5;45mNone\u001b[0m, \u001b[38;5;34m26\u001b[0m, \u001b[38;5;34m26\u001b[0m, \u001b[38;5;34m50\u001b[0m)     │             \u001b[38;5;34m0\u001b[0m │\n",
              "├─────────────────────────────────┼────────────────────────┼───────────────┤\n",
              "│ flatten_8 (\u001b[38;5;33mFlatten\u001b[0m)             │ (\u001b[38;5;45mNone\u001b[0m, \u001b[38;5;34m33800\u001b[0m)          │             \u001b[38;5;34m0\u001b[0m │\n",
              "├─────────────────────────────────┼────────────────────────┼───────────────┤\n",
              "│ dense_16 (\u001b[38;5;33mDense\u001b[0m)                │ (\u001b[38;5;45mNone\u001b[0m, \u001b[38;5;34m100\u001b[0m)            │     \u001b[38;5;34m3,380,100\u001b[0m │\n",
              "├─────────────────────────────────┼────────────────────────┼───────────────┤\n",
              "│ dense_17 (\u001b[38;5;33mDense\u001b[0m)                │ (\u001b[38;5;45mNone\u001b[0m, \u001b[38;5;34m1\u001b[0m)              │           \u001b[38;5;34m101\u001b[0m │\n",
              "└─────────────────────────────────┴────────────────────────┴───────────────┘\n"
            ],
            "text/html": [
              "<pre style=\"white-space:pre;overflow-x:auto;line-height:normal;font-family:Menlo,'DejaVu Sans Mono',consolas,'Courier New',monospace\">┏━━━━━━━━━━━━━━━━━━━━━━━━━━━━━━━━━┳━━━━━━━━━━━━━━━━━━━━━━━━┳━━━━━━━━━━━━━━━┓\n",
              "┃<span style=\"font-weight: bold\"> Layer (type)                    </span>┃<span style=\"font-weight: bold\"> Output Shape           </span>┃<span style=\"font-weight: bold\">       Param # </span>┃\n",
              "┡━━━━━━━━━━━━━━━━━━━━━━━━━━━━━━━━━╇━━━━━━━━━━━━━━━━━━━━━━━━╇━━━━━━━━━━━━━━━┩\n",
              "│ conv2d_17 (<span style=\"color: #0087ff; text-decoration-color: #0087ff\">Conv2D</span>)              │ (<span style=\"color: #00d7ff; text-decoration-color: #00d7ff\">None</span>, <span style=\"color: #00af00; text-decoration-color: #00af00\">110</span>, <span style=\"color: #00af00; text-decoration-color: #00af00\">110</span>, <span style=\"color: #00af00; text-decoration-color: #00af00\">25</span>)   │         <span style=\"color: #00af00; text-decoration-color: #00af00\">1,900</span> │\n",
              "├─────────────────────────────────┼────────────────────────┼───────────────┤\n",
              "│ conv2d_18 (<span style=\"color: #0087ff; text-decoration-color: #0087ff\">Conv2D</span>)              │ (<span style=\"color: #00d7ff; text-decoration-color: #00d7ff\">None</span>, <span style=\"color: #00af00; text-decoration-color: #00af00\">106</span>, <span style=\"color: #00af00; text-decoration-color: #00af00\">106</span>, <span style=\"color: #00af00; text-decoration-color: #00af00\">50</span>)   │        <span style=\"color: #00af00; text-decoration-color: #00af00\">31,300</span> │\n",
              "├─────────────────────────────────┼────────────────────────┼───────────────┤\n",
              "│ max_pooling2d_8 (<span style=\"color: #0087ff; text-decoration-color: #0087ff\">MaxPooling2D</span>)  │ (<span style=\"color: #00d7ff; text-decoration-color: #00d7ff\">None</span>, <span style=\"color: #00af00; text-decoration-color: #00af00\">26</span>, <span style=\"color: #00af00; text-decoration-color: #00af00\">26</span>, <span style=\"color: #00af00; text-decoration-color: #00af00\">50</span>)     │             <span style=\"color: #00af00; text-decoration-color: #00af00\">0</span> │\n",
              "├─────────────────────────────────┼────────────────────────┼───────────────┤\n",
              "│ flatten_8 (<span style=\"color: #0087ff; text-decoration-color: #0087ff\">Flatten</span>)             │ (<span style=\"color: #00d7ff; text-decoration-color: #00d7ff\">None</span>, <span style=\"color: #00af00; text-decoration-color: #00af00\">33800</span>)          │             <span style=\"color: #00af00; text-decoration-color: #00af00\">0</span> │\n",
              "├─────────────────────────────────┼────────────────────────┼───────────────┤\n",
              "│ dense_16 (<span style=\"color: #0087ff; text-decoration-color: #0087ff\">Dense</span>)                │ (<span style=\"color: #00d7ff; text-decoration-color: #00d7ff\">None</span>, <span style=\"color: #00af00; text-decoration-color: #00af00\">100</span>)            │     <span style=\"color: #00af00; text-decoration-color: #00af00\">3,380,100</span> │\n",
              "├─────────────────────────────────┼────────────────────────┼───────────────┤\n",
              "│ dense_17 (<span style=\"color: #0087ff; text-decoration-color: #0087ff\">Dense</span>)                │ (<span style=\"color: #00d7ff; text-decoration-color: #00d7ff\">None</span>, <span style=\"color: #00af00; text-decoration-color: #00af00\">1</span>)              │           <span style=\"color: #00af00; text-decoration-color: #00af00\">101</span> │\n",
              "└─────────────────────────────────┴────────────────────────┴───────────────┘\n",
              "</pre>\n"
            ]
          },
          "metadata": {}
        },
        {
          "output_type": "display_data",
          "data": {
            "text/plain": [
              "\u001b[1m Total params: \u001b[0m\u001b[38;5;34m3,413,401\u001b[0m (13.02 MB)\n"
            ],
            "text/html": [
              "<pre style=\"white-space:pre;overflow-x:auto;line-height:normal;font-family:Menlo,'DejaVu Sans Mono',consolas,'Courier New',monospace\"><span style=\"font-weight: bold\"> Total params: </span><span style=\"color: #00af00; text-decoration-color: #00af00\">3,413,401</span> (13.02 MB)\n",
              "</pre>\n"
            ]
          },
          "metadata": {}
        },
        {
          "output_type": "display_data",
          "data": {
            "text/plain": [
              "\u001b[1m Trainable params: \u001b[0m\u001b[38;5;34m3,413,401\u001b[0m (13.02 MB)\n"
            ],
            "text/html": [
              "<pre style=\"white-space:pre;overflow-x:auto;line-height:normal;font-family:Menlo,'DejaVu Sans Mono',consolas,'Courier New',monospace\"><span style=\"font-weight: bold\"> Trainable params: </span><span style=\"color: #00af00; text-decoration-color: #00af00\">3,413,401</span> (13.02 MB)\n",
              "</pre>\n"
            ]
          },
          "metadata": {}
        },
        {
          "output_type": "display_data",
          "data": {
            "text/plain": [
              "\u001b[1m Non-trainable params: \u001b[0m\u001b[38;5;34m0\u001b[0m (0.00 B)\n"
            ],
            "text/html": [
              "<pre style=\"white-space:pre;overflow-x:auto;line-height:normal;font-family:Menlo,'DejaVu Sans Mono',consolas,'Courier New',monospace\"><span style=\"font-weight: bold\"> Non-trainable params: </span><span style=\"color: #00af00; text-decoration-color: #00af00\">0</span> (0.00 B)\n",
              "</pre>\n"
            ]
          },
          "metadata": {}
        }
      ]
    },
    {
      "cell_type": "code",
      "metadata": {
        "id": "Nb5q7nbpZ5ua",
        "outputId": "40e51177-df16-432c-e2db-b3b476572670",
        "colab": {
          "base_uri": "https://localhost:8080/"
        }
      },
      "source": [
        "# training the model\n",
        "model_history = model.fit(X_train, y_train, epochs=10, batch_size=128,validation_data=(X_valid,y_valid))"
      ],
      "execution_count": 70,
      "outputs": [
        {
          "output_type": "stream",
          "name": "stdout",
          "text": [
            "Epoch 1/10\n",
            "\u001b[1m13/13\u001b[0m \u001b[32m━━━━━━━━━━━━━━━━━━━━\u001b[0m\u001b[37m\u001b[0m \u001b[1m25s\u001b[0m 1s/step - accuracy: 0.4540 - loss: 0.8279 - val_accuracy: 0.5425 - val_loss: 0.6910\n",
            "Epoch 2/10\n",
            "\u001b[1m13/13\u001b[0m \u001b[32m━━━━━━━━━━━━━━━━━━━━\u001b[0m\u001b[37m\u001b[0m \u001b[1m19s\u001b[0m 140ms/step - accuracy: 0.5512 - loss: 0.6813 - val_accuracy: 0.5467 - val_loss: 0.6898\n",
            "Epoch 3/10\n",
            "\u001b[1m13/13\u001b[0m \u001b[32m━━━━━━━━━━━━━━━━━━━━\u001b[0m\u001b[37m\u001b[0m \u001b[1m2s\u001b[0m 159ms/step - accuracy: 0.5875 - loss: 0.6706 - val_accuracy: 0.5482 - val_loss: 0.6769\n",
            "Epoch 4/10\n",
            "\u001b[1m13/13\u001b[0m \u001b[32m━━━━━━━━━━━━━━━━━━━━\u001b[0m\u001b[37m\u001b[0m \u001b[1m3s\u001b[0m 152ms/step - accuracy: 0.5739 - loss: 0.6697 - val_accuracy: 0.5595 - val_loss: 0.6703\n",
            "Epoch 5/10\n",
            "\u001b[1m13/13\u001b[0m \u001b[32m━━━━━━━━━━━━━━━━━━━━\u001b[0m\u001b[37m\u001b[0m \u001b[1m2s\u001b[0m 135ms/step - accuracy: 0.5911 - loss: 0.6559 - val_accuracy: 0.5765 - val_loss: 0.6632\n",
            "Epoch 6/10\n",
            "\u001b[1m13/13\u001b[0m \u001b[32m━━━━━━━━━━━━━━━━━━━━\u001b[0m\u001b[37m\u001b[0m \u001b[1m2s\u001b[0m 160ms/step - accuracy: 0.6204 - loss: 0.6537 - val_accuracy: 0.6091 - val_loss: 0.6542\n",
            "Epoch 7/10\n",
            "\u001b[1m13/13\u001b[0m \u001b[32m━━━━━━━━━━━━━━━━━━━━\u001b[0m\u001b[37m\u001b[0m \u001b[1m2s\u001b[0m 137ms/step - accuracy: 0.6334 - loss: 0.6472 - val_accuracy: 0.6346 - val_loss: 0.6469\n",
            "Epoch 8/10\n",
            "\u001b[1m13/13\u001b[0m \u001b[32m━━━━━━━━━━━━━━━━━━━━\u001b[0m\u001b[37m\u001b[0m \u001b[1m2s\u001b[0m 158ms/step - accuracy: 0.6566 - loss: 0.6300 - val_accuracy: 0.6629 - val_loss: 0.6391\n",
            "Epoch 9/10\n",
            "\u001b[1m13/13\u001b[0m \u001b[32m━━━━━━━━━━━━━━━━━━━━\u001b[0m\u001b[37m\u001b[0m \u001b[1m2s\u001b[0m 158ms/step - accuracy: 0.6593 - loss: 0.6359 - val_accuracy: 0.6558 - val_loss: 0.6331\n",
            "Epoch 10/10\n",
            "\u001b[1m13/13\u001b[0m \u001b[32m━━━━━━━━━━━━━━━━━━━━\u001b[0m\u001b[37m\u001b[0m \u001b[1m2s\u001b[0m 157ms/step - accuracy: 0.6718 - loss: 0.6266 - val_accuracy: 0.6686 - val_loss: 0.6261\n"
          ]
        }
      ]
    },
    {
      "cell_type": "code",
      "metadata": {
        "id": "hdsmGV3RZ5u_",
        "outputId": "2fa6438f-4fad-4122-c7a1-bd36efd24ede",
        "colab": {
          "base_uri": "https://localhost:8080/"
        }
      },
      "source": [
        "# accuracy on training set\n",
        "# Use model.predict() and apply a threshold to get the class predictions\n",
        "train_predictions = (model.predict(X_train) > 0.5).astype(\"int32\")\n",
        "print('Accuracy on training set:', accuracy_score(y_train, train_predictions), '%')"
      ],
      "execution_count": 72,
      "outputs": [
        {
          "output_type": "stream",
          "name": "stdout",
          "text": [
            "\u001b[1m52/52\u001b[0m \u001b[32m━━━━━━━━━━━━━━━━━━━━\u001b[0m\u001b[37m\u001b[0m \u001b[1m3s\u001b[0m 37ms/step\n",
            "Accuracy on training set: 0.6585662211421628 %\n"
          ]
        }
      ]
    },
    {
      "cell_type": "code",
      "metadata": {
        "id": "S2G90kqeZ5vQ",
        "outputId": "59775e08-1910-45fc-8a05-cc03f482a2b3",
        "colab": {
          "base_uri": "https://localhost:8080/"
        }
      },
      "source": [
        "# accuracy on validation set\n",
        "# Use model.predict() and apply a threshold to get the class predictions\n",
        "valid_predictions = (model.predict(X_valid) > 0.5).astype(\"int32\")\n",
        "print('Accuracy on validation set:', accuracy_score(y_valid, valid_predictions), '%')"
      ],
      "execution_count": 73,
      "outputs": [
        {
          "output_type": "stream",
          "name": "stdout",
          "text": [
            "\u001b[1m23/23\u001b[0m \u001b[32m━━━━━━━━━━━━━━━━━━━━\u001b[0m\u001b[37m\u001b[0m \u001b[1m1s\u001b[0m 46ms/step\n",
            "Accuracy on validation set: 0.6685552407932012 %\n"
          ]
        }
      ]
    },
    {
      "cell_type": "markdown",
      "metadata": {
        "id": "8TUZlzVvb7EW"
      },
      "source": [
        "## Combining Hyperparameter tuning"
      ]
    },
    {
      "cell_type": "code",
      "metadata": {
        "id": "D5fIqq0ocA5r",
        "outputId": "f0f3759f-197d-4d2e-a109-605ea902c838",
        "colab": {
          "base_uri": "https://localhost:8080/"
        }
      },
      "source": [
        "# defining the model architecture with maxpool layer\n",
        "\n",
        "model = Sequential()\n",
        "\n",
        "model.add(InputLayer(input_shape=(224, 224, 3)))\n",
        "\n",
        "model.add(Conv2D(50, (5, 5), activation='relu', strides=(1, 1), padding='valid'))\n",
        "model.add(MaxPool2D(pool_size=(2, 2), padding='valid'))\n",
        "model.add(Conv2D(50, (5, 5), activation='relu', strides=(1, 1), padding='valid'))\n",
        "model.add(MaxPool2D(pool_size=(4, 4), padding='valid'))\n",
        "\n",
        "model.add(Flatten())\n",
        "\n",
        "model.add(Dense(units=100, activation='relu'))\n",
        "model.add(BatchNormalization())\n",
        "model.add(Dropout(rate=0.6))\n",
        "model.add(Dense(units=100, activation='relu'))\n",
        "model.add(BatchNormalization())\n",
        "model.add(Dropout(rate=0.6))\n",
        "model.add(Dense(units=1, activation='sigmoid'))\n",
        "\n",
        "# compiling the model\n",
        "model.compile(loss='binary_crossentropy', optimizer=\"adam\", metrics=['accuracy'])"
      ],
      "execution_count": 74,
      "outputs": [
        {
          "output_type": "stream",
          "name": "stderr",
          "text": [
            "/usr/local/lib/python3.11/dist-packages/keras/src/layers/core/input_layer.py:27: UserWarning: Argument `input_shape` is deprecated. Use `shape` instead.\n",
            "  warnings.warn(\n"
          ]
        }
      ]
    },
    {
      "cell_type": "code",
      "metadata": {
        "id": "3-SYPJ7ccxO_",
        "outputId": "2a8b2b33-1fc1-49ae-9c85-f7e2f17774d6",
        "colab": {
          "base_uri": "https://localhost:8080/",
          "height": 573
        }
      },
      "source": [
        "model.summary()"
      ],
      "execution_count": null,
      "outputs": [
        {
          "output_type": "stream",
          "text": [
            "Model: \"sequential_11\"\n",
            "_________________________________________________________________\n",
            "Layer (type)                 Output Shape              Param #   \n",
            "=================================================================\n",
            "conv2d_22 (Conv2D)           (None, 220, 220, 50)      3800      \n",
            "_________________________________________________________________\n",
            "max_pooling2d_13 (MaxPooling (None, 110, 110, 50)      0         \n",
            "_________________________________________________________________\n",
            "conv2d_23 (Conv2D)           (None, 106, 106, 50)      62550     \n",
            "_________________________________________________________________\n",
            "max_pooling2d_14 (MaxPooling (None, 26, 26, 50)        0         \n",
            "_________________________________________________________________\n",
            "flatten_11 (Flatten)         (None, 33800)             0         \n",
            "_________________________________________________________________\n",
            "dense_20 (Dense)             (None, 100)               3380100   \n",
            "_________________________________________________________________\n",
            "batch_normalization_1 (Batch (None, 100)               400       \n",
            "_________________________________________________________________\n",
            "dropout_1 (Dropout)          (None, 100)               0         \n",
            "_________________________________________________________________\n",
            "dense_21 (Dense)             (None, 100)               10100     \n",
            "_________________________________________________________________\n",
            "batch_normalization_2 (Batch (None, 100)               400       \n",
            "_________________________________________________________________\n",
            "dropout_2 (Dropout)          (None, 100)               0         \n",
            "_________________________________________________________________\n",
            "dense_22 (Dense)             (None, 1)                 101       \n",
            "=================================================================\n",
            "Total params: 3,457,451\n",
            "Trainable params: 3,457,051\n",
            "Non-trainable params: 400\n",
            "_________________________________________________________________\n"
          ],
          "name": "stdout"
        }
      ]
    },
    {
      "cell_type": "code",
      "metadata": {
        "id": "z4r5Ujo4cxPg",
        "outputId": "54db02cc-d864-4260-ec36-6e24f3e6a9cd",
        "colab": {
          "base_uri": "https://localhost:8080/"
        }
      },
      "source": [
        "# training the model for 100 epochs\n",
        "model_history = model.fit(X_train, y_train, epochs=100, batch_size=128,validation_data=(X_valid,y_valid))"
      ],
      "execution_count": 75,
      "outputs": [
        {
          "output_type": "stream",
          "name": "stdout",
          "text": [
            "Epoch 1/100\n",
            "\u001b[1m13/13\u001b[0m \u001b[32m━━━━━━━━━━━━━━━━━━━━\u001b[0m\u001b[37m\u001b[0m \u001b[1m42s\u001b[0m 2s/step - accuracy: 0.5433 - loss: 0.9464 - val_accuracy: 0.5892 - val_loss: 0.8838\n",
            "Epoch 2/100\n",
            "\u001b[1m13/13\u001b[0m \u001b[32m━━━━━━━━━━━━━━━━━━━━\u001b[0m\u001b[37m\u001b[0m \u001b[1m5s\u001b[0m 259ms/step - accuracy: 0.6078 - loss: 0.8167 - val_accuracy: 0.6771 - val_loss: 0.6147\n",
            "Epoch 3/100\n",
            "\u001b[1m13/13\u001b[0m \u001b[32m━━━━━━━━━━━━━━━━━━━━\u001b[0m\u001b[37m\u001b[0m \u001b[1m5s\u001b[0m 265ms/step - accuracy: 0.6590 - loss: 0.7131 - val_accuracy: 0.7408 - val_loss: 0.5103\n",
            "Epoch 4/100\n",
            "\u001b[1m13/13\u001b[0m \u001b[32m━━━━━━━━━━━━━━━━━━━━\u001b[0m\u001b[37m\u001b[0m \u001b[1m3s\u001b[0m 248ms/step - accuracy: 0.7256 - loss: 0.6022 - val_accuracy: 0.5652 - val_loss: 1.2289\n",
            "Epoch 5/100\n",
            "\u001b[1m13/13\u001b[0m \u001b[32m━━━━━━━━━━━━━━━━━━━━\u001b[0m\u001b[37m\u001b[0m \u001b[1m5s\u001b[0m 258ms/step - accuracy: 0.7463 - loss: 0.5555 - val_accuracy: 0.6586 - val_loss: 0.6668\n",
            "Epoch 6/100\n",
            "\u001b[1m13/13\u001b[0m \u001b[32m━━━━━━━━━━━━━━━━━━━━\u001b[0m\u001b[37m\u001b[0m \u001b[1m3s\u001b[0m 263ms/step - accuracy: 0.7566 - loss: 0.5267 - val_accuracy: 0.7365 - val_loss: 0.5130\n",
            "Epoch 7/100\n",
            "\u001b[1m13/13\u001b[0m \u001b[32m━━━━━━━━━━━━━━━━━━━━\u001b[0m\u001b[37m\u001b[0m \u001b[1m5s\u001b[0m 258ms/step - accuracy: 0.7674 - loss: 0.5207 - val_accuracy: 0.6799 - val_loss: 0.7412\n",
            "Epoch 8/100\n",
            "\u001b[1m13/13\u001b[0m \u001b[32m━━━━━━━━━━━━━━━━━━━━\u001b[0m\u001b[37m\u001b[0m \u001b[1m3s\u001b[0m 260ms/step - accuracy: 0.7857 - loss: 0.4788 - val_accuracy: 0.6176 - val_loss: 0.8614\n",
            "Epoch 9/100\n",
            "\u001b[1m13/13\u001b[0m \u001b[32m━━━━━━━━━━━━━━━━━━━━\u001b[0m\u001b[37m\u001b[0m \u001b[1m5s\u001b[0m 268ms/step - accuracy: 0.8005 - loss: 0.4686 - val_accuracy: 0.5283 - val_loss: 1.0155\n",
            "Epoch 10/100\n",
            "\u001b[1m13/13\u001b[0m \u001b[32m━━━━━━━━━━━━━━━━━━━━\u001b[0m\u001b[37m\u001b[0m \u001b[1m3s\u001b[0m 262ms/step - accuracy: 0.8316 - loss: 0.4121 - val_accuracy: 0.6926 - val_loss: 0.7614\n",
            "Epoch 11/100\n",
            "\u001b[1m13/13\u001b[0m \u001b[32m━━━━━━━━━━━━━━━━━━━━\u001b[0m\u001b[37m\u001b[0m \u001b[1m3s\u001b[0m 263ms/step - accuracy: 0.8574 - loss: 0.3338 - val_accuracy: 0.6629 - val_loss: 0.7862\n",
            "Epoch 12/100\n",
            "\u001b[1m13/13\u001b[0m \u001b[32m━━━━━━━━━━━━━━━━━━━━\u001b[0m\u001b[37m\u001b[0m \u001b[1m5s\u001b[0m 268ms/step - accuracy: 0.8664 - loss: 0.3027 - val_accuracy: 0.8343 - val_loss: 0.3622\n",
            "Epoch 13/100\n",
            "\u001b[1m13/13\u001b[0m \u001b[32m━━━━━━━━━━━━━━━━━━━━\u001b[0m\u001b[37m\u001b[0m \u001b[1m3s\u001b[0m 251ms/step - accuracy: 0.8903 - loss: 0.2581 - val_accuracy: 0.8329 - val_loss: 0.3507\n",
            "Epoch 14/100\n",
            "\u001b[1m13/13\u001b[0m \u001b[32m━━━━━━━━━━━━━━━━━━━━\u001b[0m\u001b[37m\u001b[0m \u001b[1m5s\u001b[0m 264ms/step - accuracy: 0.8964 - loss: 0.2552 - val_accuracy: 0.8626 - val_loss: 0.3409\n",
            "Epoch 15/100\n",
            "\u001b[1m13/13\u001b[0m \u001b[32m━━━━━━━━━━━━━━━━━━━━\u001b[0m\u001b[37m\u001b[0m \u001b[1m5s\u001b[0m 257ms/step - accuracy: 0.9215 - loss: 0.1874 - val_accuracy: 0.8513 - val_loss: 0.3744\n",
            "Epoch 16/100\n",
            "\u001b[1m13/13\u001b[0m \u001b[32m━━━━━━━━━━━━━━━━━━━━\u001b[0m\u001b[37m\u001b[0m \u001b[1m3s\u001b[0m 248ms/step - accuracy: 0.9295 - loss: 0.1714 - val_accuracy: 0.7450 - val_loss: 0.6782\n",
            "Epoch 17/100\n",
            "\u001b[1m13/13\u001b[0m \u001b[32m━━━━━━━━━━━━━━━━━━━━\u001b[0m\u001b[37m\u001b[0m \u001b[1m3s\u001b[0m 248ms/step - accuracy: 0.9410 - loss: 0.1520 - val_accuracy: 0.7323 - val_loss: 0.7679\n",
            "Epoch 18/100\n",
            "\u001b[1m13/13\u001b[0m \u001b[32m━━━━━━━━━━━━━━━━━━━━\u001b[0m\u001b[37m\u001b[0m \u001b[1m3s\u001b[0m 252ms/step - accuracy: 0.9467 - loss: 0.1357 - val_accuracy: 0.8187 - val_loss: 0.4598\n",
            "Epoch 19/100\n",
            "\u001b[1m13/13\u001b[0m \u001b[32m━━━━━━━━━━━━━━━━━━━━\u001b[0m\u001b[37m\u001b[0m \u001b[1m3s\u001b[0m 256ms/step - accuracy: 0.9524 - loss: 0.1316 - val_accuracy: 0.7790 - val_loss: 0.5369\n",
            "Epoch 20/100\n",
            "\u001b[1m13/13\u001b[0m \u001b[32m━━━━━━━━━━━━━━━━━━━━\u001b[0m\u001b[37m\u001b[0m \u001b[1m3s\u001b[0m 260ms/step - accuracy: 0.9704 - loss: 0.0927 - val_accuracy: 0.6445 - val_loss: 1.3428\n",
            "Epoch 21/100\n",
            "\u001b[1m13/13\u001b[0m \u001b[32m━━━━━━━━━━━━━━━━━━━━\u001b[0m\u001b[37m\u001b[0m \u001b[1m3s\u001b[0m 247ms/step - accuracy: 0.9758 - loss: 0.0886 - val_accuracy: 0.7266 - val_loss: 0.8683\n",
            "Epoch 22/100\n",
            "\u001b[1m13/13\u001b[0m \u001b[32m━━━━━━━━━━━━━━━━━━━━\u001b[0m\u001b[37m\u001b[0m \u001b[1m5s\u001b[0m 270ms/step - accuracy: 0.9761 - loss: 0.0810 - val_accuracy: 0.8442 - val_loss: 0.4022\n",
            "Epoch 23/100\n",
            "\u001b[1m13/13\u001b[0m \u001b[32m━━━━━━━━━━━━━━━━━━━━\u001b[0m\u001b[37m\u001b[0m \u001b[1m5s\u001b[0m 247ms/step - accuracy: 0.9709 - loss: 0.0823 - val_accuracy: 0.7337 - val_loss: 0.8279\n",
            "Epoch 24/100\n",
            "\u001b[1m13/13\u001b[0m \u001b[32m━━━━━━━━━━━━━━━━━━━━\u001b[0m\u001b[37m\u001b[0m \u001b[1m3s\u001b[0m 259ms/step - accuracy: 0.9797 - loss: 0.0707 - val_accuracy: 0.8527 - val_loss: 0.4150\n",
            "Epoch 25/100\n",
            "\u001b[1m13/13\u001b[0m \u001b[32m━━━━━━━━━━━━━━━━━━━━\u001b[0m\u001b[37m\u001b[0m \u001b[1m5s\u001b[0m 264ms/step - accuracy: 0.9825 - loss: 0.0612 - val_accuracy: 0.8045 - val_loss: 0.5452\n",
            "Epoch 26/100\n",
            "\u001b[1m13/13\u001b[0m \u001b[32m━━━━━━━━━━━━━━━━━━━━\u001b[0m\u001b[37m\u001b[0m \u001b[1m3s\u001b[0m 246ms/step - accuracy: 0.9820 - loss: 0.0661 - val_accuracy: 0.7507 - val_loss: 0.8040\n",
            "Epoch 27/100\n",
            "\u001b[1m13/13\u001b[0m \u001b[32m━━━━━━━━━━━━━━━━━━━━\u001b[0m\u001b[37m\u001b[0m \u001b[1m5s\u001b[0m 261ms/step - accuracy: 0.9922 - loss: 0.0477 - val_accuracy: 0.7380 - val_loss: 0.8352\n",
            "Epoch 28/100\n",
            "\u001b[1m13/13\u001b[0m \u001b[32m━━━━━━━━━━━━━━━━━━━━\u001b[0m\u001b[37m\u001b[0m \u001b[1m5s\u001b[0m 260ms/step - accuracy: 0.9918 - loss: 0.0344 - val_accuracy: 0.8258 - val_loss: 0.5757\n",
            "Epoch 29/100\n",
            "\u001b[1m13/13\u001b[0m \u001b[32m━━━━━━━━━━━━━━━━━━━━\u001b[0m\u001b[37m\u001b[0m \u001b[1m5s\u001b[0m 247ms/step - accuracy: 0.9890 - loss: 0.0385 - val_accuracy: 0.6983 - val_loss: 1.4112\n",
            "Epoch 30/100\n",
            "\u001b[1m13/13\u001b[0m \u001b[32m━━━━━━━━━━━━━━━━━━━━\u001b[0m\u001b[37m\u001b[0m \u001b[1m3s\u001b[0m 261ms/step - accuracy: 0.9910 - loss: 0.0359 - val_accuracy: 0.7535 - val_loss: 0.8967\n",
            "Epoch 31/100\n",
            "\u001b[1m13/13\u001b[0m \u001b[32m━━━━━━━━━━━━━━━━━━━━\u001b[0m\u001b[37m\u001b[0m \u001b[1m5s\u001b[0m 254ms/step - accuracy: 0.9917 - loss: 0.0333 - val_accuracy: 0.8371 - val_loss: 0.5864\n",
            "Epoch 32/100\n",
            "\u001b[1m13/13\u001b[0m \u001b[32m━━━━━━━━━━━━━━━━━━━━\u001b[0m\u001b[37m\u001b[0m \u001b[1m3s\u001b[0m 248ms/step - accuracy: 0.9906 - loss: 0.0371 - val_accuracy: 0.8541 - val_loss: 0.5208\n",
            "Epoch 33/100\n",
            "\u001b[1m13/13\u001b[0m \u001b[32m━━━━━━━━━━━━━━━━━━━━\u001b[0m\u001b[37m\u001b[0m \u001b[1m5s\u001b[0m 249ms/step - accuracy: 0.9902 - loss: 0.0340 - val_accuracy: 0.6969 - val_loss: 1.4710\n",
            "Epoch 34/100\n",
            "\u001b[1m13/13\u001b[0m \u001b[32m━━━━━━━━━━━━━━━━━━━━\u001b[0m\u001b[37m\u001b[0m \u001b[1m5s\u001b[0m 260ms/step - accuracy: 0.9952 - loss: 0.0221 - val_accuracy: 0.7677 - val_loss: 0.9887\n",
            "Epoch 35/100\n",
            "\u001b[1m13/13\u001b[0m \u001b[32m━━━━━━━━━━━━━━━━━━━━\u001b[0m\u001b[37m\u001b[0m \u001b[1m5s\u001b[0m 261ms/step - accuracy: 0.9929 - loss: 0.0289 - val_accuracy: 0.7592 - val_loss: 1.0679\n",
            "Epoch 36/100\n",
            "\u001b[1m13/13\u001b[0m \u001b[32m━━━━━━━━━━━━━━━━━━━━\u001b[0m\u001b[37m\u001b[0m \u001b[1m5s\u001b[0m 268ms/step - accuracy: 0.9918 - loss: 0.0437 - val_accuracy: 0.8399 - val_loss: 0.6052\n",
            "Epoch 37/100\n",
            "\u001b[1m13/13\u001b[0m \u001b[32m━━━━━━━━━━━━━━━━━━━━\u001b[0m\u001b[37m\u001b[0m \u001b[1m3s\u001b[0m 260ms/step - accuracy: 0.9937 - loss: 0.0283 - val_accuracy: 0.8314 - val_loss: 0.6868\n",
            "Epoch 38/100\n",
            "\u001b[1m13/13\u001b[0m \u001b[32m━━━━━━━━━━━━━━━━━━━━\u001b[0m\u001b[37m\u001b[0m \u001b[1m3s\u001b[0m 261ms/step - accuracy: 0.9953 - loss: 0.0234 - val_accuracy: 0.8371 - val_loss: 0.4928\n",
            "Epoch 39/100\n",
            "\u001b[1m13/13\u001b[0m \u001b[32m━━━━━━━━━━━━━━━━━━━━\u001b[0m\u001b[37m\u001b[0m \u001b[1m5s\u001b[0m 263ms/step - accuracy: 0.9946 - loss: 0.0251 - val_accuracy: 0.8385 - val_loss: 0.6417\n",
            "Epoch 40/100\n",
            "\u001b[1m13/13\u001b[0m \u001b[32m━━━━━━━━━━━━━━━━━━━━\u001b[0m\u001b[37m\u001b[0m \u001b[1m3s\u001b[0m 251ms/step - accuracy: 0.9944 - loss: 0.0284 - val_accuracy: 0.8229 - val_loss: 0.6385\n",
            "Epoch 41/100\n",
            "\u001b[1m13/13\u001b[0m \u001b[32m━━━━━━━━━━━━━━━━━━━━\u001b[0m\u001b[37m\u001b[0m \u001b[1m5s\u001b[0m 246ms/step - accuracy: 0.9900 - loss: 0.0313 - val_accuracy: 0.7748 - val_loss: 1.0811\n",
            "Epoch 42/100\n",
            "\u001b[1m13/13\u001b[0m \u001b[32m━━━━━━━━━━━━━━━━━━━━\u001b[0m\u001b[37m\u001b[0m \u001b[1m5s\u001b[0m 263ms/step - accuracy: 0.9954 - loss: 0.0299 - val_accuracy: 0.8045 - val_loss: 0.7534\n",
            "Epoch 43/100\n",
            "\u001b[1m13/13\u001b[0m \u001b[32m━━━━━━━━━━━━━━━━━━━━\u001b[0m\u001b[37m\u001b[0m \u001b[1m5s\u001b[0m 247ms/step - accuracy: 0.9883 - loss: 0.0399 - val_accuracy: 0.8414 - val_loss: 0.6230\n",
            "Epoch 44/100\n",
            "\u001b[1m13/13\u001b[0m \u001b[32m━━━━━━━━━━━━━━━━━━━━\u001b[0m\u001b[37m\u001b[0m \u001b[1m3s\u001b[0m 259ms/step - accuracy: 0.9900 - loss: 0.0328 - val_accuracy: 0.8215 - val_loss: 0.7197\n",
            "Epoch 45/100\n",
            "\u001b[1m13/13\u001b[0m \u001b[32m━━━━━━━━━━━━━━━━━━━━\u001b[0m\u001b[37m\u001b[0m \u001b[1m5s\u001b[0m 269ms/step - accuracy: 0.9939 - loss: 0.0238 - val_accuracy: 0.7125 - val_loss: 1.4261\n",
            "Epoch 46/100\n",
            "\u001b[1m13/13\u001b[0m \u001b[32m━━━━━━━━━━━━━━━━━━━━\u001b[0m\u001b[37m\u001b[0m \u001b[1m3s\u001b[0m 260ms/step - accuracy: 0.9921 - loss: 0.0285 - val_accuracy: 0.7238 - val_loss: 1.5997\n",
            "Epoch 47/100\n",
            "\u001b[1m13/13\u001b[0m \u001b[32m━━━━━━━━━━━━━━━━━━━━\u001b[0m\u001b[37m\u001b[0m \u001b[1m5s\u001b[0m 248ms/step - accuracy: 0.9932 - loss: 0.0283 - val_accuracy: 0.8201 - val_loss: 0.7064\n",
            "Epoch 48/100\n",
            "\u001b[1m13/13\u001b[0m \u001b[32m━━━━━━━━━━━━━━━━━━━━\u001b[0m\u001b[37m\u001b[0m \u001b[1m3s\u001b[0m 258ms/step - accuracy: 0.9959 - loss: 0.0230 - val_accuracy: 0.7550 - val_loss: 1.3446\n",
            "Epoch 49/100\n",
            "\u001b[1m13/13\u001b[0m \u001b[32m━━━━━━━━━━━━━━━━━━━━\u001b[0m\u001b[37m\u001b[0m \u001b[1m5s\u001b[0m 246ms/step - accuracy: 0.9976 - loss: 0.0150 - val_accuracy: 0.7748 - val_loss: 1.1175\n",
            "Epoch 50/100\n",
            "\u001b[1m13/13\u001b[0m \u001b[32m━━━━━━━━━━━━━━━━━━━━\u001b[0m\u001b[37m\u001b[0m \u001b[1m5s\u001b[0m 260ms/step - accuracy: 0.9990 - loss: 0.0108 - val_accuracy: 0.8074 - val_loss: 1.0365\n",
            "Epoch 51/100\n",
            "\u001b[1m13/13\u001b[0m \u001b[32m━━━━━━━━━━━━━━━━━━━━\u001b[0m\u001b[37m\u001b[0m \u001b[1m5s\u001b[0m 253ms/step - accuracy: 0.9955 - loss: 0.0200 - val_accuracy: 0.7833 - val_loss: 1.0505\n",
            "Epoch 52/100\n",
            "\u001b[1m13/13\u001b[0m \u001b[32m━━━━━━━━━━━━━━━━━━━━\u001b[0m\u001b[37m\u001b[0m \u001b[1m3s\u001b[0m 262ms/step - accuracy: 0.9954 - loss: 0.0194 - val_accuracy: 0.8215 - val_loss: 0.7561\n",
            "Epoch 53/100\n",
            "\u001b[1m13/13\u001b[0m \u001b[32m━━━━━━━━━━━━━━━━━━━━\u001b[0m\u001b[37m\u001b[0m \u001b[1m3s\u001b[0m 248ms/step - accuracy: 0.9968 - loss: 0.0134 - val_accuracy: 0.8442 - val_loss: 0.6654\n",
            "Epoch 54/100\n",
            "\u001b[1m13/13\u001b[0m \u001b[32m━━━━━━━━━━━━━━━━━━━━\u001b[0m\u001b[37m\u001b[0m \u001b[1m5s\u001b[0m 251ms/step - accuracy: 0.9979 - loss: 0.0117 - val_accuracy: 0.8329 - val_loss: 0.7025\n",
            "Epoch 55/100\n",
            "\u001b[1m13/13\u001b[0m \u001b[32m━━━━━━━━━━━━━━━━━━━━\u001b[0m\u001b[37m\u001b[0m \u001b[1m3s\u001b[0m 254ms/step - accuracy: 0.9953 - loss: 0.0161 - val_accuracy: 0.8329 - val_loss: 0.6271\n",
            "Epoch 56/100\n",
            "\u001b[1m13/13\u001b[0m \u001b[32m━━━━━━━━━━━━━━━━━━━━\u001b[0m\u001b[37m\u001b[0m \u001b[1m5s\u001b[0m 262ms/step - accuracy: 0.9985 - loss: 0.0133 - val_accuracy: 0.7677 - val_loss: 1.2191\n",
            "Epoch 57/100\n",
            "\u001b[1m13/13\u001b[0m \u001b[32m━━━━━━━━━━━━━━━━━━━━\u001b[0m\u001b[37m\u001b[0m \u001b[1m5s\u001b[0m 259ms/step - accuracy: 0.9953 - loss: 0.0163 - val_accuracy: 0.7904 - val_loss: 0.9702\n",
            "Epoch 58/100\n",
            "\u001b[1m13/13\u001b[0m \u001b[32m━━━━━━━━━━━━━━━━━━━━\u001b[0m\u001b[37m\u001b[0m \u001b[1m3s\u001b[0m 260ms/step - accuracy: 0.9956 - loss: 0.0115 - val_accuracy: 0.8286 - val_loss: 0.7426\n",
            "Epoch 59/100\n",
            "\u001b[1m13/13\u001b[0m \u001b[32m━━━━━━━━━━━━━━━━━━━━\u001b[0m\u001b[37m\u001b[0m \u001b[1m5s\u001b[0m 262ms/step - accuracy: 0.9963 - loss: 0.0148 - val_accuracy: 0.8343 - val_loss: 0.6632\n",
            "Epoch 60/100\n",
            "\u001b[1m13/13\u001b[0m \u001b[32m━━━━━━━━━━━━━━━━━━━━\u001b[0m\u001b[37m\u001b[0m \u001b[1m5s\u001b[0m 246ms/step - accuracy: 0.9965 - loss: 0.0207 - val_accuracy: 0.8215 - val_loss: 0.6913\n",
            "Epoch 61/100\n",
            "\u001b[1m13/13\u001b[0m \u001b[32m━━━━━━━━━━━━━━━━━━━━\u001b[0m\u001b[37m\u001b[0m \u001b[1m3s\u001b[0m 260ms/step - accuracy: 0.9955 - loss: 0.0171 - val_accuracy: 0.8130 - val_loss: 0.7881\n",
            "Epoch 62/100\n",
            "\u001b[1m13/13\u001b[0m \u001b[32m━━━━━━━━━━━━━━━━━━━━\u001b[0m\u001b[37m\u001b[0m \u001b[1m5s\u001b[0m 268ms/step - accuracy: 0.9961 - loss: 0.0181 - val_accuracy: 0.8300 - val_loss: 0.8771\n",
            "Epoch 63/100\n",
            "\u001b[1m13/13\u001b[0m \u001b[32m━━━━━━━━━━━━━━━━━━━━\u001b[0m\u001b[37m\u001b[0m \u001b[1m3s\u001b[0m 247ms/step - accuracy: 0.9955 - loss: 0.0145 - val_accuracy: 0.8031 - val_loss: 0.9938\n",
            "Epoch 64/100\n",
            "\u001b[1m13/13\u001b[0m \u001b[32m━━━━━━━━━━━━━━━━━━━━\u001b[0m\u001b[37m\u001b[0m \u001b[1m5s\u001b[0m 248ms/step - accuracy: 0.9972 - loss: 0.0109 - val_accuracy: 0.8385 - val_loss: 0.7107\n",
            "Epoch 65/100\n",
            "\u001b[1m13/13\u001b[0m \u001b[32m━━━━━━━━━━━━━━━━━━━━\u001b[0m\u001b[37m\u001b[0m \u001b[1m4s\u001b[0m 273ms/step - accuracy: 0.9944 - loss: 0.0423 - val_accuracy: 0.8357 - val_loss: 0.8008\n",
            "Epoch 66/100\n",
            "\u001b[1m13/13\u001b[0m \u001b[32m━━━━━━━━━━━━━━━━━━━━\u001b[0m\u001b[37m\u001b[0m \u001b[1m5s\u001b[0m 247ms/step - accuracy: 0.9941 - loss: 0.0182 - val_accuracy: 0.8541 - val_loss: 0.7401\n",
            "Epoch 67/100\n",
            "\u001b[1m13/13\u001b[0m \u001b[32m━━━━━━━━━━━━━━━━━━━━\u001b[0m\u001b[37m\u001b[0m \u001b[1m3s\u001b[0m 248ms/step - accuracy: 0.9970 - loss: 0.0119 - val_accuracy: 0.8683 - val_loss: 0.6977\n",
            "Epoch 68/100\n",
            "\u001b[1m13/13\u001b[0m \u001b[32m━━━━━━━━━━━━━━━━━━━━\u001b[0m\u001b[37m\u001b[0m \u001b[1m5s\u001b[0m 267ms/step - accuracy: 0.9953 - loss: 0.0165 - val_accuracy: 0.7790 - val_loss: 1.2355\n",
            "Epoch 69/100\n",
            "\u001b[1m13/13\u001b[0m \u001b[32m━━━━━━━━━━━━━━━━━━━━\u001b[0m\u001b[37m\u001b[0m \u001b[1m5s\u001b[0m 262ms/step - accuracy: 0.9940 - loss: 0.0249 - val_accuracy: 0.8541 - val_loss: 0.7344\n",
            "Epoch 70/100\n",
            "\u001b[1m13/13\u001b[0m \u001b[32m━━━━━━━━━━━━━━━━━━━━\u001b[0m\u001b[37m\u001b[0m \u001b[1m5s\u001b[0m 247ms/step - accuracy: 0.9980 - loss: 0.0204 - val_accuracy: 0.7110 - val_loss: 2.1266\n",
            "Epoch 71/100\n",
            "\u001b[1m13/13\u001b[0m \u001b[32m━━━━━━━━━━━━━━━━━━━━\u001b[0m\u001b[37m\u001b[0m \u001b[1m5s\u001b[0m 248ms/step - accuracy: 0.9979 - loss: 0.0147 - val_accuracy: 0.8385 - val_loss: 0.7051\n",
            "Epoch 72/100\n",
            "\u001b[1m13/13\u001b[0m \u001b[32m━━━━━━━━━━━━━━━━━━━━\u001b[0m\u001b[37m\u001b[0m \u001b[1m3s\u001b[0m 247ms/step - accuracy: 0.9956 - loss: 0.0165 - val_accuracy: 0.7606 - val_loss: 1.3620\n",
            "Epoch 73/100\n",
            "\u001b[1m13/13\u001b[0m \u001b[32m━━━━━━━━━━━━━━━━━━━━\u001b[0m\u001b[37m\u001b[0m \u001b[1m5s\u001b[0m 258ms/step - accuracy: 0.9954 - loss: 0.0165 - val_accuracy: 0.7521 - val_loss: 1.5440\n",
            "Epoch 74/100\n",
            "\u001b[1m13/13\u001b[0m \u001b[32m━━━━━━━━━━━━━━━━━━━━\u001b[0m\u001b[37m\u001b[0m \u001b[1m5s\u001b[0m 259ms/step - accuracy: 0.9990 - loss: 0.0104 - val_accuracy: 0.7932 - val_loss: 1.0766\n",
            "Epoch 75/100\n",
            "\u001b[1m13/13\u001b[0m \u001b[32m━━━━━━━━━━━━━━━━━━━━\u001b[0m\u001b[37m\u001b[0m \u001b[1m5s\u001b[0m 260ms/step - accuracy: 0.9974 - loss: 0.0133 - val_accuracy: 0.8116 - val_loss: 1.0101\n",
            "Epoch 76/100\n",
            "\u001b[1m13/13\u001b[0m \u001b[32m━━━━━━━━━━━━━━━━━━━━\u001b[0m\u001b[37m\u001b[0m \u001b[1m3s\u001b[0m 260ms/step - accuracy: 0.9958 - loss: 0.0185 - val_accuracy: 0.8371 - val_loss: 0.7105\n",
            "Epoch 77/100\n",
            "\u001b[1m13/13\u001b[0m \u001b[32m━━━━━━━━━━━━━━━━━━━━\u001b[0m\u001b[37m\u001b[0m \u001b[1m4s\u001b[0m 264ms/step - accuracy: 0.9979 - loss: 0.0189 - val_accuracy: 0.8499 - val_loss: 0.7130\n",
            "Epoch 78/100\n",
            "\u001b[1m13/13\u001b[0m \u001b[32m━━━━━━━━━━━━━━━━━━━━\u001b[0m\u001b[37m\u001b[0m \u001b[1m5s\u001b[0m 249ms/step - accuracy: 0.9974 - loss: 0.0155 - val_accuracy: 0.8343 - val_loss: 0.8967\n",
            "Epoch 79/100\n",
            "\u001b[1m13/13\u001b[0m \u001b[32m━━━━━━━━━━━━━━━━━━━━\u001b[0m\u001b[37m\u001b[0m \u001b[1m5s\u001b[0m 270ms/step - accuracy: 0.9953 - loss: 0.0177 - val_accuracy: 0.8329 - val_loss: 0.8035\n",
            "Epoch 80/100\n",
            "\u001b[1m13/13\u001b[0m \u001b[32m━━━━━━━━━━━━━━━━━━━━\u001b[0m\u001b[37m\u001b[0m \u001b[1m5s\u001b[0m 248ms/step - accuracy: 0.9971 - loss: 0.0125 - val_accuracy: 0.8229 - val_loss: 0.7651\n",
            "Epoch 81/100\n",
            "\u001b[1m13/13\u001b[0m \u001b[32m━━━━━━━━━━━━━━━━━━━━\u001b[0m\u001b[37m\u001b[0m \u001b[1m5s\u001b[0m 249ms/step - accuracy: 0.9980 - loss: 0.0133 - val_accuracy: 0.7890 - val_loss: 0.9345\n",
            "Epoch 82/100\n",
            "\u001b[1m13/13\u001b[0m \u001b[32m━━━━━━━━━━━━━━━━━━━━\u001b[0m\u001b[37m\u001b[0m \u001b[1m5s\u001b[0m 261ms/step - accuracy: 0.9953 - loss: 0.0157 - val_accuracy: 0.8584 - val_loss: 0.6259\n",
            "Epoch 83/100\n",
            "\u001b[1m13/13\u001b[0m \u001b[32m━━━━━━━━━━━━━━━━━━━━\u001b[0m\u001b[37m\u001b[0m \u001b[1m5s\u001b[0m 259ms/step - accuracy: 0.9971 - loss: 0.0139 - val_accuracy: 0.8598 - val_loss: 0.6853\n",
            "Epoch 84/100\n",
            "\u001b[1m13/13\u001b[0m \u001b[32m━━━━━━━━━━━━━━━━━━━━\u001b[0m\u001b[37m\u001b[0m \u001b[1m5s\u001b[0m 265ms/step - accuracy: 0.9922 - loss: 0.0261 - val_accuracy: 0.8059 - val_loss: 0.9293\n",
            "Epoch 85/100\n",
            "\u001b[1m13/13\u001b[0m \u001b[32m━━━━━━━━━━━━━━━━━━━━\u001b[0m\u001b[37m\u001b[0m \u001b[1m3s\u001b[0m 260ms/step - accuracy: 0.9979 - loss: 0.0100 - val_accuracy: 0.8414 - val_loss: 0.8272\n",
            "Epoch 86/100\n",
            "\u001b[1m13/13\u001b[0m \u001b[32m━━━━━━━━━━━━━━━━━━━━\u001b[0m\u001b[37m\u001b[0m \u001b[1m3s\u001b[0m 262ms/step - accuracy: 0.9945 - loss: 0.0200 - val_accuracy: 0.8300 - val_loss: 0.8452\n",
            "Epoch 87/100\n",
            "\u001b[1m13/13\u001b[0m \u001b[32m━━━━━━━━━━━━━━━━━━━━\u001b[0m\u001b[37m\u001b[0m \u001b[1m5s\u001b[0m 261ms/step - accuracy: 0.9986 - loss: 0.0099 - val_accuracy: 0.8159 - val_loss: 0.8492\n",
            "Epoch 88/100\n",
            "\u001b[1m13/13\u001b[0m \u001b[32m━━━━━━━━━━━━━━━━━━━━\u001b[0m\u001b[37m\u001b[0m \u001b[1m5s\u001b[0m 261ms/step - accuracy: 0.9931 - loss: 0.0298 - val_accuracy: 0.8442 - val_loss: 0.7208\n",
            "Epoch 89/100\n",
            "\u001b[1m13/13\u001b[0m \u001b[32m━━━━━━━━━━━━━━━━━━━━\u001b[0m\u001b[37m\u001b[0m \u001b[1m5s\u001b[0m 261ms/step - accuracy: 0.9958 - loss: 0.0145 - val_accuracy: 0.8513 - val_loss: 0.7518\n",
            "Epoch 90/100\n",
            "\u001b[1m13/13\u001b[0m \u001b[32m━━━━━━━━━━━━━━━━━━━━\u001b[0m\u001b[37m\u001b[0m \u001b[1m5s\u001b[0m 250ms/step - accuracy: 0.9959 - loss: 0.0116 - val_accuracy: 0.7507 - val_loss: 1.7807\n",
            "Epoch 91/100\n",
            "\u001b[1m13/13\u001b[0m \u001b[32m━━━━━━━━━━━━━━━━━━━━\u001b[0m\u001b[37m\u001b[0m \u001b[1m5s\u001b[0m 260ms/step - accuracy: 0.9984 - loss: 0.0101 - val_accuracy: 0.8527 - val_loss: 0.8100\n",
            "Epoch 92/100\n",
            "\u001b[1m13/13\u001b[0m \u001b[32m━━━━━━━━━━━━━━━━━━━━\u001b[0m\u001b[37m\u001b[0m \u001b[1m3s\u001b[0m 264ms/step - accuracy: 0.9961 - loss: 0.0131 - val_accuracy: 0.8329 - val_loss: 0.8802\n",
            "Epoch 93/100\n",
            "\u001b[1m13/13\u001b[0m \u001b[32m━━━━━━━━━━━━━━━━━━━━\u001b[0m\u001b[37m\u001b[0m \u001b[1m4s\u001b[0m 266ms/step - accuracy: 0.9998 - loss: 0.0051 - val_accuracy: 0.8159 - val_loss: 0.8878\n",
            "Epoch 94/100\n",
            "\u001b[1m13/13\u001b[0m \u001b[32m━━━━━━━━━━━━━━━━━━━━\u001b[0m\u001b[37m\u001b[0m \u001b[1m5s\u001b[0m 260ms/step - accuracy: 0.9972 - loss: 0.0108 - val_accuracy: 0.8286 - val_loss: 0.8691\n",
            "Epoch 95/100\n",
            "\u001b[1m13/13\u001b[0m \u001b[32m━━━━━━━━━━━━━━━━━━━━\u001b[0m\u001b[37m\u001b[0m \u001b[1m3s\u001b[0m 261ms/step - accuracy: 0.9945 - loss: 0.0158 - val_accuracy: 0.8414 - val_loss: 0.7304\n",
            "Epoch 96/100\n",
            "\u001b[1m13/13\u001b[0m \u001b[32m━━━━━━━━━━━━━━━━━━━━\u001b[0m\u001b[37m\u001b[0m \u001b[1m4s\u001b[0m 268ms/step - accuracy: 0.9956 - loss: 0.0109 - val_accuracy: 0.8300 - val_loss: 0.8622\n",
            "Epoch 97/100\n",
            "\u001b[1m13/13\u001b[0m \u001b[32m━━━━━━━━━━━━━━━━━━━━\u001b[0m\u001b[37m\u001b[0m \u001b[1m3s\u001b[0m 248ms/step - accuracy: 0.9954 - loss: 0.0127 - val_accuracy: 0.8357 - val_loss: 0.8024\n",
            "Epoch 98/100\n",
            "\u001b[1m13/13\u001b[0m \u001b[32m━━━━━━━━━━━━━━━━━━━━\u001b[0m\u001b[37m\u001b[0m \u001b[1m5s\u001b[0m 248ms/step - accuracy: 0.9958 - loss: 0.0202 - val_accuracy: 0.7578 - val_loss: 1.6933\n",
            "Epoch 99/100\n",
            "\u001b[1m13/13\u001b[0m \u001b[32m━━━━━━━━━━━━━━━━━━━━\u001b[0m\u001b[37m\u001b[0m \u001b[1m5s\u001b[0m 269ms/step - accuracy: 0.9963 - loss: 0.0156 - val_accuracy: 0.8031 - val_loss: 1.2448\n",
            "Epoch 100/100\n",
            "\u001b[1m13/13\u001b[0m \u001b[32m━━━━━━━━━━━━━━━━━━━━\u001b[0m\u001b[37m\u001b[0m \u001b[1m3s\u001b[0m 260ms/step - accuracy: 0.9984 - loss: 0.0066 - val_accuracy: 0.8371 - val_loss: 0.8863\n"
          ]
        }
      ]
    },
    {
      "cell_type": "code",
      "metadata": {
        "id": "lTfk3UlwcxPt",
        "outputId": "630153a2-37e5-458b-e2e4-4961990ad79a",
        "colab": {
          "base_uri": "https://localhost:8080/"
        }
      },
      "source": [
        "# accuracy on training set\n",
        "# Use model.predict() and apply a threshold to get the class predictions\n",
        "train_predictions = (model.predict(X_train) > 0.5).astype(\"int32\")\n",
        "print('Accuracy on training set:', accuracy_score(y_train, train_predictions), '%')\n",
        "\n",
        "# accuracy on validation set\n",
        "# Use model.predict() and apply a threshold to get the class predictions\n",
        "valid_predictions = (model.predict(X_valid) > 0.5).astype(\"int32\")\n",
        "print('Accuracy on validation set:', accuracy_score(y_valid, valid_predictions), '%')"
      ],
      "execution_count": 77,
      "outputs": [
        {
          "output_type": "stream",
          "name": "stdout",
          "text": [
            "\u001b[1m52/52\u001b[0m \u001b[32m━━━━━━━━━━━━━━━━━━━━\u001b[0m\u001b[37m\u001b[0m \u001b[1m3s\u001b[0m 40ms/step\n",
            "Accuracy on training set: 0.9975698663426489 %\n",
            "\u001b[1m23/23\u001b[0m \u001b[32m━━━━━━━━━━━━━━━━━━━━\u001b[0m\u001b[37m\u001b[0m \u001b[1m1s\u001b[0m 59ms/step\n",
            "Accuracy on validation set: 0.8371104815864022 %\n"
          ]
        }
      ]
    },
    {
      "cell_type": "code",
      "metadata": {
        "id": "icyVeIn0eIPG",
        "outputId": "615bfad2-1976-4f06-da76-be90b0c0e3db",
        "colab": {
          "base_uri": "https://localhost:8080/",
          "height": 472
        }
      },
      "source": [
        "# summarize history for loss\n",
        "plt.plot(model_history.history['loss'])\n",
        "plt.plot(model_history.history['val_loss'])\n",
        "plt.title('model loss')\n",
        "plt.ylabel('loss')\n",
        "plt.xlabel('epoch')\n",
        "plt.legend(['train', 'validation'], loc='upper left')\n",
        "plt.show()"
      ],
      "execution_count": 78,
      "outputs": [
        {
          "output_type": "display_data",
          "data": {
            "text/plain": [
              "<Figure size 640x480 with 1 Axes>"
            ],
            "image/png": "[encoded data removed]"
          },
          "metadata": {}
        }
      ]
    },
    {
      "cell_type": "code",
      "metadata": {
        "id": "oYJOcjiNeIPu",
        "outputId": "ee2392c1-f1d9-45de-8a2a-314e3ea273c7",
        "colab": {
          "base_uri": "https://localhost:8080/",
          "height": 472
        }
      },
      "source": [
        "# summarize history for accuracy\n",
        "plt.plot(model_history.history['accuracy']) # Changed 'acc' to 'accuracy'\n",
        "plt.plot(model_history.history['val_accuracy']) # Changed 'val_acc' to 'val_accuracy'\n",
        "plt.title('model accuracy')\n",
        "plt.ylabel('accuracy')\n",
        "plt.xlabel('epoch')\n",
        "plt.legend(['train', 'validation'], loc='upper left')\n",
        "plt.show()"
      ],
      "execution_count": 80,
      "outputs": [
        {
          "output_type": "display_data",
          "data": {
            "text/plain": [
              "<Figure size 640x480 with 1 Axes>"
            ],
            "image/png": "[encoded data removed]"
          },
          "metadata": {}
        }
      ]
    },
    {
      "cell_type": "code",
      "metadata": {
        "id": "wQ-rpxow7gzJ"
      },
      "source": [],
      "execution_count": null,
      "outputs": []
    }
  ]
}